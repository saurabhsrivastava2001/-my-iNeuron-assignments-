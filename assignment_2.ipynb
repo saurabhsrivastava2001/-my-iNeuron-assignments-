{
 "cells": [
  {
   "cell_type": "markdown",
   "id": "37ad028a-ce92-40bb-9ca2-af1eb718da0d",
   "metadata": {},
   "source": [
    "           --------Assignment-2------------"
   ]
  },
  {
   "cell_type": "markdown",
   "id": "add048ad-fdca-4535-922f-425f14e09810",
   "metadata": {},
   "source": [
    "1.What are the two values of the Boolean data type? How do you write them?"
   ]
  },
  {
   "cell_type": "code",
   "execution_count": null,
   "id": "953ddfac-e95b-483b-b3b8-725209402539",
   "metadata": {},
   "outputs": [],
   "source": [
    "\"\"\"\n",
    "ans=\n",
    "\n",
    "The Boolean data type represents a logical value that can have one of two possible states:----- true or false------.\n",
    " The two Boolean values are typically written as \"true\" and \"false\". The value \"true\" represents a logical true or affirmative condition, \n",
    " while the value \"false\" represents a logical false or negative condition.\n",
    " \n",
    " \"\"\""
   ]
  },
  {
   "cell_type": "markdown",
   "id": "d0745137-fb9b-4f19-9716-7a2001f9c501",
   "metadata": {},
   "source": [
    "2. What are the three different types of Boolean operators?"
   ]
  },
  {
   "cell_type": "code",
   "execution_count": null,
   "id": "f8e57c73-2842-4051-9042-7ffc9954f53f",
   "metadata": {},
   "outputs": [],
   "source": [
    "\"\"\"\n",
    "ans=\n",
    "The three different types of Boolean operators are:\n",
    "\n",
    "AND Operator: The AND operator takes two Boolean operands and returns true if both operands are true.\n",
    "It can be represented by symbols such as \"&&\". \n",
    "The AND operator produces false if either or both of the operands are false.\n",
    "\n",
    "OR Operator: The OR operator takes two Boolean operands and returns true if at least one of the operands is true.\n",
    "It can be represented by symbols such as \"||\" \n",
    "The OR operator produces false if both operands are false. \n",
    "\n",
    "NOT Operator: The NOT operator takes a single Boolean operand and returns the opposite Boolean value. \n",
    "It can be represented by symbols such as \"!\"\n",
    "The NOT operator negates the Boolean value, so if the operand is true, it returns false, and if the operand is false\n",
    "\n",
    "\"\"\""
   ]
  },
  {
   "cell_type": "markdown",
   "id": "943d00c5-ef72-4956-85d4-f72419155312",
   "metadata": {},
   "source": [
    "3. Make a list of each Boolean operators truth tables (i.e. every possible combination of Boolean\n",
    "values for the operator and what it evaluate )."
   ]
  },
  {
   "cell_type": "code",
   "execution_count": null,
   "id": "af4046de-0e8d-4e96-a5ef-0966010d8b5e",
   "metadata": {},
   "outputs": [],
   "source": [
    "\"\"\"\n",
    "ans=\n",
    "\n",
    "the truth table is given below:\n",
    "\n",
    "1.AND Operator (&& or AND):\n",
    "    \n",
    "Operand 1\tOperand 2\tResult\n",
    "false\t   false\t     false\n",
    "false\t   true\t         false\n",
    "true\t   false\t     false\n",
    "true\t   true\t         true\n",
    "\n",
    "\n",
    "2.OR Operator (|| or OR):\n",
    "    \n",
    "Operand 1\tOperand 2\tResult\n",
    "false\t    false\t    false\n",
    "false\t    true\t    true\n",
    "true\t    false   \ttrue\n",
    "true    \ttrue\t    true\n",
    "\n",
    "3.NOT Operator (! or NOT): \n",
    "    \n",
    "Operand \tResult\n",
    "false\t    true\n",
    "true\t    false\n",
    "These truth tables represent all the possible combinations of Boolean values,\n",
    "for each operator and show the resulting evaluation for each combination. \n",
    "\n",
    "\"\"\""
   ]
  },
  {
   "cell_type": "markdown",
   "id": "7922341e-3cf3-4fa8-a4ba-a11745e08804",
   "metadata": {},
   "source": [
    "4. What are the values of the following expressions?\n",
    "\n",
    "Ans==\n",
    "\n",
    "(5 > 4) and (3 == 5) --------False\n",
    "\n",
    "not (5 > 4)---------False\n",
    "\n",
    "(5 > 4) or (3 == 5)--------True\n",
    "\n",
    "not ((5 > 4) or (3 == 5))---------False\n",
    "\n",
    "(True and True) and (True == False)------------False\n",
    "\n",
    "(not False) or (not True)-----------True\n",
    "\n",
    "the code of all ofthem are shown below-----"
   ]
  },
  {
   "cell_type": "code",
   "execution_count": null,
   "id": "6129bac4-aee8-4130-9465-f72433397098",
   "metadata": {},
   "outputs": [],
   "source": [
    "(5 > 4) and (3 == 5) "
   ]
  },
  {
   "cell_type": "code",
   "execution_count": null,
   "id": "c61959d6-50b6-4b8d-aa16-60c03d1a0765",
   "metadata": {},
   "outputs": [],
   "source": [
    "not (5 > 4)"
   ]
  },
  {
   "cell_type": "code",
   "execution_count": null,
   "id": "53082cec-215f-4141-970b-b0d4a7b658dd",
   "metadata": {},
   "outputs": [],
   "source": [
    "(5 > 4) or (3 == 5)"
   ]
  },
  {
   "cell_type": "code",
   "execution_count": null,
   "id": "7bd020bb-02b6-44fd-be6c-e371847198fd",
   "metadata": {},
   "outputs": [],
   "source": [
    "not ((5 > 4) or (3 == 5))"
   ]
  },
  {
   "cell_type": "code",
   "execution_count": null,
   "id": "515415d1-e07f-4bd5-8c90-7d79afbe1908",
   "metadata": {},
   "outputs": [],
   "source": [
    "(True and True) and (True == False)"
   ]
  },
  {
   "cell_type": "code",
   "execution_count": null,
   "id": "c67afb6b-b4b1-432e-b9be-4dec9d19be3b",
   "metadata": {},
   "outputs": [],
   "source": [
    "(not False) or (not True)"
   ]
  },
  {
   "cell_type": "code",
   "execution_count": null,
   "id": "2ac708c6-30b6-4f31-91ea-db32ceb5a6cf",
   "metadata": {},
   "outputs": [],
   "source": [
    "(not False) or (not True)"
   ]
  },
  {
   "cell_type": "markdown",
   "id": "ba5911b4-59b4-44ad-9355-fb07c6120ed8",
   "metadata": {},
   "source": [
    "5. What are the six comparison operators?"
   ]
  },
  {
   "cell_type": "code",
   "execution_count": null,
   "id": "1767591c-f240-47af-a166-fb53c223c77e",
   "metadata": {},
   "outputs": [],
   "source": [
    "\"\"\"\n",
    "ans= \n",
    "the six comparision operators are-\n",
    "1. > (greater than )\n",
    "2. < (less than )\n",
    "3. >= (greater or equal to )\n",
    "4. <= (less or ewual to )\n",
    "5. == ( equal to)\n",
    "6. != ( not equal to )\n",
    "\"\"\""
   ]
  },
  {
   "cell_type": "markdown",
   "id": "584cb23c-af2c-49d2-9e08-f2677a549948",
   "metadata": {},
   "source": [
    "6. How do you tell the difference between the equal to and assignment operators?Describe a\n",
    "condition and when you would use one."
   ]
  },
  {
   "cell_type": "code",
   "execution_count": null,
   "id": "981f1731-b3b9-4f37-b87f-9e55b09503b5",
   "metadata": {},
   "outputs": [],
   "source": [
    "\"\"\"\n",
    "ans= \n",
    "The equal to operator (==) is a comparison operator used to check if two values are equal. \n",
    "It is used in conditional statements or expressions to evaluate a condition and return a Boolean result (true or false). \n",
    "For example:\n",
    "5==5  gives true ( beacause bothe the operands are equal)\n",
    "\n",
    "On the other hand, the assignment operator (=) is used to assign a value to a variable. \n",
    "It assigns the value on the right-hand side to the variable on the left-hand side.\n",
    "For example:\n",
    "a=5  ( means 5 is assigned to variable named a)\n",
    "\"\"\""
   ]
  },
  {
   "cell_type": "markdown",
   "id": "368aac38-3087-4398-824c-66cc76a20b55",
   "metadata": {},
   "source": [
    "7. Identify the three blocks in this code:\n",
    "\n",
    "spam = 0\n",
    "\n",
    "if spam == 10:\n",
    "\n",
    "print('eggs')\n",
    "\n",
    "if spam > 5:\n",
    "\n",
    "print('bacon')\n",
    "\n",
    "else:\n",
    "\n",
    "print('ham')\n",
    "\n",
    "print('spam')\n",
    "\n",
    "print('spam')"
   ]
  },
  {
   "cell_type": "code",
   "execution_count": null,
   "id": "890a69d1-0b94-42fc-89aa-c66fc695b391",
   "metadata": {},
   "outputs": [],
   "source": [
    "\"\"\"\n",
    "ans=\n",
    "1.the first block is 'if block'\n",
    "i.e. if spam == 10:\n",
    "       print('eggs')\n",
    "\n",
    "2. Sconf block is again an 'if block '\n",
    "i.e. if spam > 5:\n",
    "       print('bacon')\n",
    "\n",
    "3.Third block is 'an else block ' that gets executed when the pre-adjecent if block if failed.\n",
    "here i.e. else:\n",
    "            print('ham')\n",
    "            print('spam')\n",
    "            print('spam')\n",
    "            \n",
    "\"\"\"            "
   ]
  },
  {
   "cell_type": "markdown",
   "id": "452b5fd8-f289-44cc-ae1d-776cec8613bb",
   "metadata": {},
   "source": [
    "8. Write code that prints Hello if 1 is stored in spam, prints Howdy if 2 is stored in spam, and prints\n",
    "Greetings! if anything else is stored in spam."
   ]
  },
  {
   "cell_type": "code",
   "execution_count": 18,
   "id": "3926056a-9893-4636-82d8-014e308f3d97",
   "metadata": {},
   "outputs": [
    {
     "name": "stdin",
     "output_type": "stream",
     "text": [
      "please enter the value of spam:  5\n"
     ]
    },
    {
     "name": "stdout",
     "output_type": "stream",
     "text": [
      "greetings!\n"
     ]
    }
   ],
   "source": [
    "#ans--\n",
    "spam= int (input(\"please enter the value of spam: \"))\n",
    "if (spam==1):\n",
    "    print('Hello')\n",
    "if (spam==2):\n",
    "    print ('Howdy')\n",
    "if ( spam !=1 and spam!=2):\n",
    "    print('greetings!')"
   ]
  },
  {
   "cell_type": "markdown",
   "id": "9a088939-b9a0-4f7b-9b86-64cf0d142976",
   "metadata": {},
   "source": [
    "9.If your programme is stuck in an endless loop, what keys you’ll press?"
   ]
  },
  {
   "cell_type": "code",
   "execution_count": null,
   "id": "f4e30507-2460-4de4-be4c-a227badcc57b",
   "metadata": {},
   "outputs": [],
   "source": [
    "\"\"\"\n",
    "ans=\n",
    "\n",
    "we shall need to restart the kernel entirely by selecting \"Kernel\" from the Jupyter Notebook menu and choosing \"Restart.\"\n",
    "the shortcut for this is:\n",
    " we can press the \"I\" key twice (i.e., press \"I\" twice in quick succession).\n",
    " This action is known as an \"interrupt kernel\" command and \n",
    " can help us break out of an infinite loop or halt the execution of a program that is taking too long to complete.\n",
    " \"\"\""
   ]
  },
  {
   "cell_type": "markdown",
   "id": "9179e69c-84d0-413f-b8f5-02d873a01cff",
   "metadata": {},
   "source": [
    "10. How can you tell the difference between break and continue?"
   ]
  },
  {
   "cell_type": "code",
   "execution_count": null,
   "id": "e59200b7-5bb0-4320-b551-3372f65414c8",
   "metadata": {},
   "outputs": [],
   "source": [
    "\"\"\"\n",
    "ans==\n",
    "\n",
    "Here's how we can differentiate between the \"break\" and \"continue\" statements in programming:\n",
    "\n",
    "\"break\" is used to immediately terminate the current loop and resume execution at the next statement outside the loop whereas\n",
    "\"continue\" is used to skip the remaining code within the current iteration of a loop and move to the next iteration.\n",
    "\"break\" exits the loop entirely, while \"continue\" skips the remaining code within the current iteration but continues with the next iteration of the loop.\n",
    "The \"break\" statement is generally used to terminate a loop early, while the \"continue\" statement allows you to skip specific iterations but continue the loop execution.\n",
    "\n",
    "In summary, \"break\" terminates the loop entirely,\n",
    "while \"continue\" skips the remaining code within the current iteration and moves to the next iteration of the loop.\n",
    "\"\"\""
   ]
  },
  {
   "cell_type": "markdown",
   "id": "03c3ba74-1736-451c-aebc-d3622b671230",
   "metadata": {},
   "source": [
    "11. In a for loop, what is the difference between range(10), range(0, 10), and range(0, 10, 1)?"
   ]
  },
  {
   "cell_type": "code",
   "execution_count": 24,
   "id": "0e4b7a48-b750-4161-bb6e-7b290c949f4a",
   "metadata": {},
   "outputs": [
    {
     "data": {
      "text/plain": [
       "'\\nans ==\\n\\nin a looop :\\n range(10) represents a sequence of numbers from 0 to 9.\\n The range() function is commonly used to generate a sequence of numbers within a specified range.\\n '"
      ]
     },
     "execution_count": 24,
     "metadata": {},
     "output_type": "execute_result"
    }
   ],
   "source": [
    "\"\"\"\n",
    "ans ==\n",
    "\n",
    "in a looop :\n",
    " range(10) represents a sequence of numbers from 0 to 9 i.e. ----(0,1,2,3,4,5,6,7,8,9)\n",
    " The range() function is commonly used to generate a sequence of numbers within a specified range.\n",
    " \n",
    " range(0, 10): This form of range() specifies two arguments, the start value and the stop value.\n",
    " It generates a sequence of numbers starting from the start value (inclusive) and ending at the stop value (exclusive).\n",
    " In this case, range(0, 10) also generates numbers from 0 to 9.\n",
    " \n",
    " range(0, 10, 1): This form of range() specifies three arguments, the start value, the stop value, and the step value.\n",
    " It generates a sequence of numbers starting from the start value (inclusive), incrementing by the step value, and ending at the stop value (exclusive).\n",
    " In this case, range(0, 10, 1) generates numbers from 0 to 9, with a step size of 1.\n",
    " \n",
    " thus all three generates the same output however the varry in the syntax and arguments of the range() function.\n",
    " \"\"\"\n"
   ]
  },
  {
   "cell_type": "markdown",
   "id": "d63ecdca-406b-454d-b019-b44fb04af713",
   "metadata": {},
   "source": [
    "12. Write a short program that prints the numbers 1 to 10 using a for loop. Then write an equivalent\n",
    "program that prints the numbers 1 to 10 using a while loop."
   ]
  },
  {
   "cell_type": "code",
   "execution_count": 28,
   "id": "9067f2d3-b3d9-434e-a1dc-1bc0189e8f8d",
   "metadata": {},
   "outputs": [
    {
     "name": "stdout",
     "output_type": "stream",
     "text": [
      "1\n",
      "2\n",
      "3\n",
      "4\n",
      "5\n",
      "6\n",
      "7\n",
      "8\n",
      "9\n",
      "10\n"
     ]
    }
   ],
   "source": [
    "#ans=-------------\n",
    "\n",
    "#1- using for loop-------\n",
    "for i in range (1,11):\n",
    "    print (i)\n",
    "    "
   ]
  },
  {
   "cell_type": "code",
   "execution_count": 29,
   "id": "8b37de0b-8cc0-4ea0-b38f-be59705fcd59",
   "metadata": {},
   "outputs": [
    {
     "name": "stdout",
     "output_type": "stream",
     "text": [
      "1\n",
      "2\n",
      "3\n",
      "4\n",
      "5\n",
      "6\n",
      "7\n",
      "8\n",
      "9\n",
      "10\n"
     ]
    }
   ],
   "source": [
    "#2- using while loop:\n",
    "i=1\n",
    "while (i<=10):\n",
    "    print (i)\n",
    "    i+=1"
   ]
  },
  {
   "cell_type": "markdown",
   "id": "a2af7784-4bc2-4aab-8269-2582c663e60c",
   "metadata": {
    "tags": []
   },
   "source": [
    "13-If you had a function named bacon() inside a module named spam, how would you call it after importing spam?"
   ]
  },
  {
   "cell_type": "code",
   "execution_count": null,
   "id": "e77d4919-9c8d-4ac0-8cca-02125bababa8",
   "metadata": {},
   "outputs": [],
   "source": [
    "\"\"\"\n",
    "ans= first we will import the module named spam .\n",
    "then we will call the function bacon() using the module name as a prefix followed by the function name.\n",
    "like :\n",
    "\n",
    "import spam \n",
    "spam.bacon()\n",
    "\n",
    "\"\"\""
   ]
  }
 ],
 "metadata": {
  "kernelspec": {
   "display_name": "Python 3 (ipykernel)",
   "language": "python",
   "name": "python3"
  },
  "language_info": {
   "codemirror_mode": {
    "name": "ipython",
    "version": 3
   },
   "file_extension": ".py",
   "mimetype": "text/x-python",
   "name": "python",
   "nbconvert_exporter": "python",
   "pygments_lexer": "ipython3",
   "version": "3.10.6"
  }
 },
 "nbformat": 4,
 "nbformat_minor": 5
}
