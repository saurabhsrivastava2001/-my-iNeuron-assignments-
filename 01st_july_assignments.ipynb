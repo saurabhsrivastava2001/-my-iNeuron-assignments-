{
 "cells": [
  {
   "cell_type": "markdown",
   "id": "5e25fa70",
   "metadata": {},
   "source": [
    "#### 01_july_OOPs.ipynb\n"
   ]
  },
  {
   "cell_type": "markdown",
   "id": "d5cdab00",
   "metadata": {},
   "source": [
    "#### 1. What is the primary goal of Object-Oriented Programming (OOP)?"
   ]
  },
  {
   "cell_type": "code",
   "execution_count": null,
   "id": "0269f3da",
   "metadata": {},
   "outputs": [],
   "source": [
    "\"\"\"\n",
    "Ans--\n",
    "The primary goal of Object-Oriented Programming (OOP) is to provide a structured approach to software development\n",
    "that focuses on organizing code into reusable, self-contained modules called objects.\n",
    "OOP aims to improve the efficiency, clarity, and maintainability of software by emphasizing the following key principles:\n",
    "\n",
    "1. Encapsulation: OOP promotes encapsulating data and related behavior within objects,\n",
    "allowing for better control and protection of data.\n",
    "Objects encapsulate data and expose methods or functions to interact with that data, hiding internal implementation details\n",
    "and providing a clear interface for other objects to interact with.\n",
    "\n",
    "2. Inheritance: Inheritance allows objects to inherit properties and behaviors from other objects,forming hierarchical relationships. \n",
    "It enables the creation of specialized classes (subclasses /child class) that inherit common attributes and methods from \n",
    "more general classes (superclasses/parent class).\n",
    "Inheritance promotes code reuse, as subclasses can extend or override inherited functionality.\n",
    "\n",
    "3. Polymorphism: Polymorphism enables objects of different classes to be treated as instances of a common superclass.\n",
    "It allows for more flexible and generic programming by providing the ability to write code that can operate on objects of different types.\n",
    "Polymorphism is typically achieved through method overriding and method overloading.\n",
    "\n",
    "4. Abstraction: Abstraction involves simplifying complex systems by modeling them using classes and objects that\n",
    "represent real-world entities or concepts.\n",
    "It allows developers to focus on essential aspects while hiding unnecessary details.\n",
    "Abstraction helps in creating modular, maintainable code by providing clear interfaces and reducing dependencies.\n",
    "\n",
    "By adhering to these principles, OOP aims to enhance code reusability, promote modular design, improve code organization, and increase software development productivity.\n",
    "\"\"\""
   ]
  },
  {
   "cell_type": "markdown",
   "id": "eea36095",
   "metadata": {},
   "source": [
    "#### 2.What is an object in Python?\n"
   ]
  },
  {
   "cell_type": "code",
   "execution_count": null,
   "id": "58477016",
   "metadata": {},
   "outputs": [],
   "source": [
    "\"\"\"\n",
    "Ans--\n",
    "In Python, an object is a fundamental concept that represents a specific instance of a class. \n",
    "It is a self-contained entity that combines data (attributes or properties) and the operations (methods or functions)\n",
    "that can be performed on that data.\n",
    "\n",
    "Objects are created from classes, which serve as blueprints or templates for creating objects.\n",
    "When an object is created, it is an instance of its respective class and inherits the attributes and methods defined in that class.\n",
    "Objects can have their own unique data values, and their methods can perform operations specific to that particular object.\n",
    "\n",
    "Overall, objects are the building blocks of object-oriented programming in Python,\n",
    "enabling the creation of complex systems by modeling real-world entities or concepts in a structured and modular manner.\n",
    "\"\"\""
   ]
  },
  {
   "cell_type": "markdown",
   "id": "9f9f5085",
   "metadata": {},
   "source": [
    "#### 3. What is a class in Python?\n"
   ]
  },
  {
   "cell_type": "code",
   "execution_count": 3,
   "id": "ebba2b9d",
   "metadata": {},
   "outputs": [
    {
     "name": "stdout",
     "output_type": "stream",
     "text": [
      "Red\n",
      "The car has started.\n"
     ]
    }
   ],
   "source": [
    "\"\"\"\n",
    "Ans--\n",
    "In Python, a class is a blueprint or template that defines the structure and behavior of objects. \n",
    "It encapsulates data (attributes) and operations (methods) that objects of that class can perform.\n",
    "Instances of a class are created to represent individual objects.\n",
    "\n",
    "Example:\n",
    "\"\"\"\n",
    "class Car:\n",
    "    def __init__(self, color, model):\n",
    "        self.color = color\n",
    "        self.model = model\n",
    "\n",
    "    def start(self):\n",
    "        print(\"The car has started.\")\n",
    "\n",
    "    def stop(self):\n",
    "        print(\"The car has stopped.\")\n",
    "\n",
    "my_car = Car(\"Red\", \"Sedan\")\n",
    "print(my_car.color)  # Output: Red\n",
    "my_car.start()       # Output: The car has started.\n",
    "\n",
    "#In this example, the Car class is defined with attributes 'color' and 'model' and methods 'start' and 'stop'. \n",
    "#An instance of the class, my_car, is created with specific values for its attributes.\n",
    "#We can access the attributes using dot notation (my_car.color) and call the methods (my_car.start()) on the instance."
   ]
  },
  {
   "cell_type": "markdown",
   "id": "0d4e999f",
   "metadata": {},
   "source": [
    "#### 4. What are attributes and methods in a class?\n"
   ]
  },
  {
   "cell_type": "code",
   "execution_count": 5,
   "id": "3ab58ed3",
   "metadata": {},
   "outputs": [
    {
     "name": "stdout",
     "output_type": "stream",
     "text": [
      "Red\n"
     ]
    }
   ],
   "source": [
    "\"\"\"\n",
    "Ans--\n",
    "In a class, attributes and methods are the two main components that define the behavior and characteristics of objects created from that class.\n",
    "\n",
    "1.Attributes:\n",
    "Attributes are variables associated with a class or its instances (objects). \n",
    "They represent the state or characteristics of the object.\n",
    "Attributes store data that can be unique to each object or shared among all objects of the class. Attributes can be accessed and modified using dot notation.\n",
    "example:\n",
    "\"\"\"\n",
    "class Car:\n",
    "    def __init__(self, color, model):\n",
    "        self.color = color   # 'color' is an attribute\n",
    "        self.model = model   # 'model' is an attribute\n",
    "\n",
    "my_car = Car(\"Red\", \"Sedan\")\n",
    "print(my_car.color)  # Output: Red\n",
    "#explanation:\n",
    "#In this example, the color and model variables are attributes of the Car class.\n",
    "#Each instance of the class (object) can have its own values for these attributes.\n"
   ]
  },
  {
   "cell_type": "code",
   "execution_count": 6,
   "id": "66f16b0a",
   "metadata": {},
   "outputs": [
    {
     "name": "stdout",
     "output_type": "stream",
     "text": [
      "The car has started.\n"
     ]
    }
   ],
   "source": [
    "\"\"\"\n",
    "2.Methods:\n",
    "Methods are functions defined within a class that can perform specific operations on objects of that class.\n",
    "They represent the behavior or actions that an object can take.\n",
    "Methods are defined using the def keyword and can access and modify the object's attributes.\n",
    "Example:\n",
    "\"\"\"\n",
    "class Car:\n",
    "    def __init__(self, color, model):\n",
    "        self.color = color\n",
    "        self.model = model\n",
    "\n",
    "    def start(self):\n",
    "        print(\"The car has started.\")\n",
    "\n",
    "my_car = Car(\"Red\", \"Sedan\")\n",
    "my_car.start()  # Output: The car has started.\n",
    "#In this example, the start method is defined within the Car class. It can be called on instances of the class (objects) using dot notation (my_car.start()). \n",
    "#The method performs the action of printing a message indicating that the car has started."
   ]
  },
  {
   "cell_type": "markdown",
   "id": "cb58ccb6",
   "metadata": {},
   "source": [
    "#### 5. What is the difference between class variables and instance variables in Python?"
   ]
  },
  {
   "cell_type": "code",
   "execution_count": 8,
   "id": "627d1664",
   "metadata": {},
   "outputs": [
    {
     "name": "stdout",
     "output_type": "stream",
     "text": [
      "4\n",
      "4\n",
      "Red\n",
      "Blue\n"
     ]
    }
   ],
   "source": [
    "\"\"\"\n",
    "Ans--\n",
    "These are few main differences between class variables and instance variables in Python\n",
    "We will understand the differences by discussing them seperately.\n",
    "\n",
    "Class variables in Python are variables that are shared among all instances (objects) of a class.\n",
    "They are defined within the class but outside of any methods.\n",
    "Class variables are accessed using the class name and can be modified by any instance of the class. \n",
    "They are useful for storing data that is common to all objects of the class.\n",
    "\n",
    "whereas;\n",
    "\n",
    "Instance variables, on the other hand, are unique to each instance (object) of a class.\n",
    "They are defined within the methods of the class and are prefixed with the self keyword.\n",
    "Instance variables store data that can vary from one object to another.\n",
    "\n",
    "Example:\n",
    "\"\"\"\n",
    "class Car:\n",
    "    # Class variable\n",
    "    wheels = 4\n",
    "\n",
    "    def __init__(self, color):\n",
    "        # Instance variable\n",
    "        self.color = color\n",
    "\n",
    "my_car1 = Car(\"Red\")\n",
    "my_car2 = Car(\"Blue\")\n",
    "\n",
    "print(my_car1.wheels)  # Output: 4 (accessing class variable)\n",
    "print(my_car2.wheels)  # Output: 4\n",
    "\n",
    "print(my_car1.color)   # Output: Red (accessing instance variable)\n",
    "print(my_car2.color)   # Output: Blue\n",
    "\n",
    "#code explanation:\n",
    "#In this example, 'wheels' is a class variable that is shared among all instances of the Car class.\n",
    "#Each instance (my_car1, my_car2) also has its own color instance variable, which can have different values for each object."
   ]
  },
  {
   "cell_type": "markdown",
   "id": "c5748a7c",
   "metadata": {},
   "source": [
    "#### 6. What is the purpose of the self parameter in Python class methods?"
   ]
  },
  {
   "cell_type": "code",
   "execution_count": 9,
   "id": "b05d3c07",
   "metadata": {},
   "outputs": [
    {
     "data": {
      "text/plain": [
       "''"
      ]
     },
     "execution_count": 9,
     "metadata": {},
     "output_type": "execute_result"
    }
   ],
   "source": [
    "\"\"\"\n",
    "Ans--\n",
    "The purpose of the self parameter is to provide a reference to the instance itself within the method.\n",
    "It helps in distinguishing between the instance's attributes and variables local to the method.\n",
    "\n",
    "with 'self' we can:\n",
    "1.Access and modify instance variables: self.variable_name\n",
    "2.Call other methods within the class: self.method_name()\n",
    "3.Access class variables: ClassName.class_variable\n",
    "\n",
    "Example:\n",
    "\"\"\"\n",
    "class Car:\n",
    "    def __init__(self, color):\n",
    "        self.color = color\n",
    "\n",
    "    def start(self):\n",
    "        print(f\"The {self.color} car has started.\")\n",
    "\n",
    "my_car = Car(\"Red\")\n",
    "my_car.start()  # Output: The Red car has started.\n",
    "\n",
    "#explanation:\n",
    "#In the above example, the self parameter is used in the start() method to access the color instance variable of the object.\n",
    "#Without self, the method would not have access to the instance's attributes or other methods"
   ]
  },
  {
   "cell_type": "markdown",
   "id": "3dbb2aac",
   "metadata": {},
   "source": [
    "#### Question -7 in below cell"
   ]
  },
  {
   "cell_type": "code",
   "execution_count": 14,
   "id": "3d8ecd9a",
   "metadata": {},
   "outputs": [
    {
     "name": "stdout",
     "output_type": "stream",
     "text": [
      "\n"
     ]
    }
   ],
   "source": [
    "\"\"\"\n",
    "Question----.\n",
    "For a library management system, you have to design the \"Book\" class with OOP\n",
    "principles in mind. The “Book” class will have following attributes:\n",
    "a. title: Represents the title of the book.\n",
    "b. author: Represents the author(s) of the book.\n",
    "c. isbn: Represents the ISBN (International Standard Book Number) of the book.\n",
    "d. publication_year: Represents the year of publication of the book.\n",
    "e. available_copies: Represents the number of copies available for checkout.\n",
    "The class will also include the following methods:\n",
    "a. check_out(self): Decrements the available copies by one if there are copies\n",
    "available for checkout.\n",
    "b. return_book(self): Increments the available copies by one when a book is\n",
    "returned.\n",
    "c. display_book_info(self): Displays the information about the book, including its\n",
    "attributes and the number of available copies.\n",
    "\"\"\""
   ]
  },
  {
   "cell_type": "code",
   "execution_count": 15,
   "id": "9c7f5db8",
   "metadata": {},
   "outputs": [
    {
     "name": "stdout",
     "output_type": "stream",
     "text": [
      "Book 'FSDS_masters' checked out successfully.\n",
      "Book Information:\n",
      "Title: FSDS_masters\n",
      "Author(s): Saurabh Srivastava\n",
      "ISBN: -58957\n",
      "Publication Year: 2023\n",
      "Available Copies: 2\n",
      "Book 'FSDS_masters' returned successfully.\n",
      "Book 'FSDS_masters' checked out successfully.\n"
     ]
    }
   ],
   "source": [
    "#Ans---\n",
    "\n",
    "class Book:\n",
    "    def __init__(self, title, author, isbn, publication_year, available_copies):\n",
    "        self.title = title\n",
    "        self.author = author\n",
    "        self.isbn = isbn\n",
    "        self.publication_year = publication_year\n",
    "        self.available_copies = available_copies\n",
    "\n",
    "    def check_out(self):\n",
    "        if self.available_copies > 0:\n",
    "            self.available_copies -= 1\n",
    "            print(f\"Book '{self.title}' checked out successfully.\")\n",
    "        else:\n",
    "            print(f\"No copies of '{self.title}' are currently available.\")\n",
    "\n",
    "    def return_book(self):\n",
    "        self.available_copies += 1\n",
    "        print(f\"Book '{self.title}' returned successfully.\")\n",
    "\n",
    "    def display_book_info(self):\n",
    "        print(\"Book Information:\")\n",
    "        print(f\"Title: {self.title}\")\n",
    "        print(f\"Author(s): {self.author}\")\n",
    "        print(f\"ISBN: {self.isbn}\")\n",
    "        print(f\"Publication Year: {self.publication_year}\")\n",
    "        print(f\"Available Copies: {self.available_copies}\")\n",
    "\n",
    "\n",
    "# Usage e\n",
    "book1 = Book(\"FSDS_masters\",\"Saurabh Srivastava\",978-1-59327-603-4,2023,3)\n",
    "book1.check_out()\n",
    "book1.display_book_info()\n",
    "book1.return_book()\n",
    "book1.check_out()\n",
    "\n",
    "#Code Explanation:\n",
    "#In the example above, the \"Book\" class is defined with the specified attributes \n",
    "#(title, author, isbn, publication_year, available_copies) in the constructor (__init__ method).\n",
    "#The class also includes the requested methods: check_out(), return_book(), and display_book_info().\n",
    "#one object of this class i.e. book1 is also created and uses the methods to validate the code working ."
   ]
  },
  {
   "cell_type": "markdown",
   "id": "0bc5ff8a",
   "metadata": {},
   "source": [
    "#### Question-8 in below cell"
   ]
  },
  {
   "cell_type": "code",
   "execution_count": null,
   "id": "f0a810a1",
   "metadata": {},
   "outputs": [],
   "source": [
    "\"\"\"\n",
    "Question 8----\n",
    "\n",
    "For a ticket booking system, you have to design the \"Ticket\" class with OOP\n",
    "principles in mind. The “Ticket” class should have the following attributes:\n",
    "a. ticket_id: Represents the unique identifier for the ticket.\n",
    "b. event_name: Represents the name of the event.\n",
    "c. event_date: Represents the date of the event.\n",
    "d. venue: Represents the venue of the event.\n",
    "e. seat_number: Represents the seat number associated with the ticket.\n",
    "f. price: Represents the price of the ticket.\n",
    "g. is_reserved: Represents the reservation status of the ticket.\n",
    "The class also includes the following methods:\n",
    "a. reserve_ticket(self): Marks the ticket as reserved if it is not already reserved.\n",
    "b. cancel_reservation(self): Cancels the reservation of the ticket if it is already\n",
    "reserved.\n",
    "c. display_ticket_info(self): Displays the information about the ticket, including its attributes and reservation status\n",
    "\"\"\""
   ]
  },
  {
   "cell_type": "code",
   "execution_count": 24,
   "id": "4a65393a",
   "metadata": {},
   "outputs": [
    {
     "name": "stdout",
     "output_type": "stream",
     "text": [
      "reserve_ticket is called\n",
      "Ticket 'T001' has been reserved.\n",
      "Ticket Information:\n",
      "Ticket ID: T001\n",
      "Event Name: Concert\n",
      "Event Date: 2023-08-15\n",
      "Venue: Arena Stadium\n",
      "Seat Number: A12\n",
      "Price: 50\n",
      "Reservation Status: Reserved\n",
      "cancle_reservation is called\n",
      "Reservation for ticket 'T001' has been canceled.\n",
      "Ticket Information:\n",
      "Ticket ID: T001\n",
      "Event Name: Concert\n",
      "Event Date: 2023-08-15\n",
      "Venue: Arena Stadium\n",
      "Seat Number: A12\n",
      "Price: 50\n",
      "Reservation Status: Not Reserved\n"
     ]
    }
   ],
   "source": [
    "#Ans---\n",
    "class Ticket:\n",
    "    def __init__(self, ticket_id, event_name, event_date, venue, seat_number, price):\n",
    "        self.ticket_id = ticket_id\n",
    "        self.event_name = event_name\n",
    "        self.event_date = event_date\n",
    "        self.venue = venue\n",
    "        self.seat_number = seat_number\n",
    "        self.price = price\n",
    "        self.is_reserved = False\n",
    "\n",
    "    def reserve_ticket(self):\n",
    "        print(\"reserve_ticket is called\")\n",
    "        if not self.is_reserved:\n",
    "            self.is_reserved = True\n",
    "            print(f\"Ticket '{self.ticket_id}' has been reserved.\")\n",
    "        else:\n",
    "            print(f\"Ticket '{self.ticket_id}' is already reserved.\")\n",
    "\n",
    "    def cancel_reservation(self):\n",
    "        print(\"cancle_reservation is called\")\n",
    "        if self.is_reserved:\n",
    "            self.is_reserved = False\n",
    "            print(f\"Reservation for ticket '{self.ticket_id}' has been canceled.\")\n",
    "        else:\n",
    "            print(f\"Ticket '{self.ticket_id}' is not currently reserved.\")\n",
    "\n",
    "    def display_ticket_info(self):\n",
    "        print(\"Ticket Information:\")\n",
    "        print(f\"Ticket ID: {self.ticket_id}\")\n",
    "        print(f\"Event Name: {self.event_name}\")\n",
    "        print(f\"Event Date: {self.event_date}\")\n",
    "        print(f\"Venue: {self.venue}\")\n",
    "        print(f\"Seat Number: {self.seat_number}\")\n",
    "        print(f\"Price: {self.price}\")\n",
    "        print(f\"Reservation Status: {'Reserved' if self.is_reserved else 'Not Reserved'}\")\n",
    "\n",
    "\n",
    "# Usage example:\n",
    "ticket1 = Ticket(\"T001\", \"Concert\", \"2023-08-15\", \"Arena Stadium\", \"A12\", 50)\n",
    "ticket1.reserve_ticket()\n",
    "ticket1.display_ticket_info()\n",
    "ticket1.cancel_reservation()\n",
    "ticket1.display_ticket_info()\n",
    "\n",
    "#code Explanation:\n",
    "#In the example above, the \"Ticket\" class is defined with the specified attributes \n",
    "#(ticket_id, event_name, event_date, venue, seat_number, price, is_reserved) in the constructor (__init__ method).\n",
    "#The class also includes the requested methods: reserve_ticket(), cancel_reservation(), and display_ticket_info().\n",
    "#An instace 'ticket1' is created to check its functionality."
   ]
  },
  {
   "cell_type": "markdown",
   "id": "327e7f33",
   "metadata": {},
   "source": [
    "#### Question 9 in below cell"
   ]
  },
  {
   "cell_type": "code",
   "execution_count": null,
   "id": "db348f9f",
   "metadata": {},
   "outputs": [],
   "source": [
    "\"\"\"\n",
    "Question 9------\n",
    "\n",
    "9. You are creating a shopping cart for an e-commerce website. Using OOP to model\n",
    "the \"ShoppingCart\" functionality the class should contain following attributes and\n",
    "methods:\n",
    "a. items: Represents the list of items in the shopping cart.\n",
    "The class also includes the following methods:\n",
    "a. add_item(self, item): Adds an item to the shopping cart by appending it to the\n",
    "list of items.\n",
    "b. remove_item(self, item): Removes an item from the shopping cart if it exists in\n",
    "the list.\n",
    "c. view_cart(self): Displays the items currently present in the shopping cart.\n",
    "d. clear_cart(self): Clears all items from the shopping cart by reassigning an\n",
    "empty list to the items attribute.\n",
    "\"\"\""
   ]
  },
  {
   "cell_type": "code",
   "execution_count": 29,
   "id": "4f62cb86",
   "metadata": {},
   "outputs": [
    {
     "name": "stdout",
     "output_type": "stream",
     "text": [
      "Item 'chalks' added to the shopping cart.\n",
      "Item 'pencils' added to the shopping cart.\n",
      "Shopping Cart:\n",
      "bags\n",
      "pens\n",
      "books\n",
      "files\n",
      "chalks\n",
      "pencils\n",
      "Item 'chalks' removed from the shopping cart.\n",
      "Item 'nibs' is not in the shopping cart.\n",
      "Shopping Cart:\n",
      "bags\n",
      "pens\n",
      "books\n",
      "files\n",
      "pencils\n",
      "Shopping cart has been cleared.\n",
      "Shopping Cart:\n",
      "The shopping cart is empty.\n"
     ]
    }
   ],
   "source": [
    "#Ans--\n",
    "#code explanation is below the code.\n",
    "class ShoppingCart:\n",
    "    def __init__(self,items):\n",
    "        self.items = items\n",
    "\n",
    "    def add_item(self, item):\n",
    "        self.items.append(item)\n",
    "        print(f\"Item '{item}' added to the shopping cart.\")\n",
    "\n",
    "    def remove_item(self, item):\n",
    "        if item in self.items:\n",
    "            self.items.remove(item)\n",
    "            print(f\"Item '{item}' removed from the shopping cart.\")\n",
    "        else:\n",
    "            print(f\"Item '{item}' is not in the shopping cart.\")\n",
    "\n",
    "    def view_cart(self):\n",
    "        print(\"Shopping Cart:\")\n",
    "        if self.items:\n",
    "            for item in self.items:\n",
    "                print(item)\n",
    "        else:\n",
    "            print(\"The shopping cart is empty.\")\n",
    "\n",
    "    def clear_cart(self):\n",
    "        self.items = []\n",
    "        print(\"Shopping cart has been cleared.\")\n",
    "\n",
    "\n",
    "# Using the code with an example:\n",
    "items=[\"bags\",\"pens\",\"books\",\"files\"]\n",
    "cart = ShoppingCart(items)\n",
    "cart.add_item(\"chalks\")\n",
    "cart.add_item(\"pencils\")\n",
    "cart.view_cart()\n",
    "cart.remove_item(\"chalks\")\n",
    "cart.remove_item(\"nibs\")\n",
    "cart.view_cart()\n",
    "cart.clear_cart()\n",
    "cart.view_cart()\n",
    "\n",
    "#code explanation----\n",
    "#In the example above, the \"ShoppingCart\" class is defined with the attribute items, \n",
    "#which is initialized as a list called 'items' (having few items in it)in the constructor (__init__ method).\n",
    "#The class includes the requested methods: add_item(), remove_item(), view_cart(), and clear_cart().\n",
    "#An instance (cart)of the class is created to check the functionality of the class."
   ]
  },
  {
   "cell_type": "markdown",
   "id": "86899535",
   "metadata": {},
   "source": [
    "#### Question 10 in the below cell----"
   ]
  },
  {
   "cell_type": "code",
   "execution_count": null,
   "id": "1c35c93b",
   "metadata": {},
   "outputs": [],
   "source": [
    "\"\"\"\n",
    "Question 10----\n",
    "\n",
    "Imagine a school management system. You have to design the \"Student\" class using\n",
    "OOP concepts.The “Student” class has the following attributes:\n",
    "a. name: Represents the name of the student.\n",
    "b. age: Represents the age of the student.\n",
    "c. grade: Represents the grade or class of the student.\n",
    "d. student_id: Represents the unique identifier for the student.\n",
    "e. attendance: Represents the attendance record of the student.\n",
    "The class should also include the following methods:\n",
    "a. update_attendance(self, date, status): Updates the attendance record of the\n",
    "student for a given date with the provided status (e.g., present or absent).\n",
    "b. get_attendance(self): Returns the attendance record of the student.\n",
    "c. get_average_attendance(self): Calculates and returns the average\n",
    "attendance percentage of the student based on their attendance record.\n",
    "\n",
    "\"\"\""
   ]
  },
  {
   "cell_type": "code",
   "execution_count": 33,
   "id": "58183675",
   "metadata": {},
   "outputs": [
    {
     "name": "stdout",
     "output_type": "stream",
     "text": [
      "{'2023-07-01': 'Present', '2023-07-02': 'present', '2023-07-03': 'Absent'}\n",
      "Average Attendance: 33.33333333333333%\n"
     ]
    }
   ],
   "source": [
    "#Ans-----\n",
    "\n",
    "class Student:\n",
    "    def __init__(self, name, age, grade, student_id):\n",
    "        self.name = name\n",
    "        self.age = age\n",
    "        self.grade = grade\n",
    "        self.student_id = student_id\n",
    "        self.attendance = {} # we will store the attendence in the key :value format (date:present/absent).\n",
    "\n",
    "    def update_attendance(self, date, status):\n",
    "        self.attendance[date] = status\n",
    "\n",
    "    def get_attendance(self):\n",
    "        return self.attendance\n",
    "\n",
    "    def get_average_attendance(self):\n",
    "        total_days = len(self.attendance)\n",
    "        if total_days > 0:\n",
    "            present_count = sum(1 for status in self.attendance.values() if status == 'Present')\n",
    "            attendance_percentage = (present_count / total_days) * 100\n",
    "            return attendance_percentage\n",
    "        else:\n",
    "            return 0.0\n",
    "\n",
    "\n",
    "# Usage example:\n",
    "student = Student(\"Saurabh\", 21, 12, \"UGM/10/210\")\n",
    "student.update_attendance(\"2023-07-01\", \"Present\")\n",
    "student.update_attendance(\"2023-07-02\", \"present\")\n",
    "student.update_attendance(\"2023-07-03\", \"Absent\")\n",
    "attendance_record = student.get_attendance()\n",
    "print(attendance_record)\n",
    "average_attendance = student.get_average_attendance()\n",
    "print(f\"Average Attendance: {average_attendance}%\")\n",
    "\n",
    "\n",
    "#code explanation----------\n",
    "#In the example above, the \"Student\" class is defined with the specified attributes\n",
    "#(name, age, grade, student_id, attendance) in the constructor (__init__ method). \n",
    "#the class includes the asked methods: update_attendance(), get_attendance(), and get_average_attendance().\n",
    "#one object of the class 'student' is created to use the methods and test the code funtionality."
   ]
  },
  {
   "cell_type": "code",
   "execution_count": null,
   "id": "b66d7dda",
   "metadata": {},
   "outputs": [],
   "source": []
  }
 ],
 "metadata": {
  "kernelspec": {
   "display_name": "Python 3 (ipykernel)",
   "language": "python",
   "name": "python3"
  },
  "language_info": {
   "codemirror_mode": {
    "name": "ipython",
    "version": 3
   },
   "file_extension": ".py",
   "mimetype": "text/x-python",
   "name": "python",
   "nbconvert_exporter": "python",
   "pygments_lexer": "ipython3",
   "version": "3.9.13"
  }
 },
 "nbformat": 4,
 "nbformat_minor": 5
}
