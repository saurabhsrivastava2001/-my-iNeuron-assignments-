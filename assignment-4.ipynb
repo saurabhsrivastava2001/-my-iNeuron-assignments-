{
 "cells": [
  {
   "cell_type": "markdown",
   "id": "537d55cf",
   "metadata": {},
   "source": [
    "### ------Assignment-4----"
   ]
  },
  {
   "cell_type": "markdown",
   "id": "c854bb35",
   "metadata": {},
   "source": [
    "#### 1.. What exactly is []?"
   ]
  },
  {
   "cell_type": "code",
   "execution_count": null,
   "id": "1fec3b0d",
   "metadata": {},
   "outputs": [],
   "source": [
    "\"\"\"\n",
    "Ans---\n",
    "\n",
    "In Python, [] represents an empty list.\n",
    "The square brackets [] are used to define a list literal.\n",
    "When the brackets [] are empty, as in [], it creates an empty list with no elements.\n",
    "We can assign this empty list to a variable or use it directly in your code.\n",
    "Here's an example in next cell:\n",
    "\n",
    "\"\"\""
   ]
  },
  {
   "cell_type": "code",
   "execution_count": 1,
   "id": "7f553744",
   "metadata": {},
   "outputs": [
    {
     "name": "stdout",
     "output_type": "stream",
     "text": [
      "[]\n"
     ]
    }
   ],
   "source": [
    "srbh_list = []  # Creating an empty list\n",
    "print(srbh_list)  # Output: []"
   ]
  },
  {
   "cell_type": "markdown",
   "id": "07a81f59",
   "metadata": {},
   "source": [
    "#### 2. In a list of values stored in a variable called spam, how would you assign the value 'hello' as the third value? (Assume [2,4,6,8,10] are in spam.)"
   ]
  },
  {
   "cell_type": "code",
   "execution_count": null,
   "id": "c9ecdcc6",
   "metadata": {},
   "outputs": [],
   "source": [
    "\"\"\"\n",
    "Ans----\n",
    "To assign the value 'hello' as the third value in the list stored in the variable 'spam',we will \n",
    "use the index notation to access the specific position in the list and modify it.\n",
    "List indices start from 0, so the third value would be at index 2. Here's how we can do it:(refer to the next cell)\n",
    "\"\"\""
   ]
  },
  {
   "cell_type": "code",
   "execution_count": 2,
   "id": "2d04dcf0",
   "metadata": {},
   "outputs": [
    {
     "name": "stdout",
     "output_type": "stream",
     "text": [
      "[2, 4, 'hello', 8, 10]\n"
     ]
    }
   ],
   "source": [
    "spam = [2, 4, 6, 8, 10]\n",
    "spam[2] = 'hello'  # Assigning 'hello' as the third value\n",
    "print(spam)\n",
    "\n",
    "#thus we get our third value as required."
   ]
  },
  {
   "cell_type": "markdown",
   "id": "2c4d3e30",
   "metadata": {},
   "source": [
    "#### Let's pretend the spam includes the list ['a', 'b', 'c', 'd'] for the next three queries."
   ]
  },
  {
   "cell_type": "markdown",
   "id": "a33b580e",
   "metadata": {},
   "source": [
    "#### 3. What is the value of spam[int(int('3' * 2) / 11)]?"
   ]
  },
  {
   "cell_type": "code",
   "execution_count": null,
   "id": "7e50184c",
   "metadata": {},
   "outputs": [],
   "source": [
    "\"\"\"\n",
    "Ans--\n",
    "for ,\n",
    "spam=['a','b','c','d']\n",
    "answer will be 'd'.(cleared in next cell)\n",
    "\"\"\""
   ]
  },
  {
   "cell_type": "code",
   "execution_count": 3,
   "id": "49be5d5a",
   "metadata": {},
   "outputs": [
    {
     "name": "stdout",
     "output_type": "stream",
     "text": [
      "d\n"
     ]
    }
   ],
   "source": [
    "spam=['a','b','c','d']\n",
    "print(spam[int(int('3' * 2) / 11)])"
   ]
  },
  {
   "cell_type": "markdown",
   "id": "2f07ec1c",
   "metadata": {},
   "source": [
    "#### 4. What is the value of spam[-1]?"
   ]
  },
  {
   "cell_type": "code",
   "execution_count": 4,
   "id": "c7297110",
   "metadata": {},
   "outputs": [
    {
     "name": "stdout",
     "output_type": "stream",
     "text": [
      "d\n"
     ]
    }
   ],
   "source": [
    "#Ans----spam[-1] will be 'd'\n",
    "spam=['a','b','c','d']\n",
    "print(spam[-1])"
   ]
  },
  {
   "cell_type": "markdown",
   "id": "8303f9fa",
   "metadata": {},
   "source": [
    "#### 5. What is the value of spam[:2]?"
   ]
  },
  {
   "cell_type": "code",
   "execution_count": 6,
   "id": "60b9c2c1",
   "metadata": {},
   "outputs": [
    {
     "name": "stdout",
     "output_type": "stream",
     "text": [
      "['a', 'b']\n"
     ]
    }
   ],
   "source": [
    "#ans--\n",
    "#  the value of spam[:2] will be ['a','b']\n",
    "\n",
    "spam=['a','b','c','d']\n",
    "print (spam[:2])"
   ]
  },
  {
   "cell_type": "markdown",
   "id": "6267c7ca",
   "metadata": {},
   "source": [
    "#### Let's pretend bacon has the list [3.14, 'cat,' 11, 'cat,' True] for the next three questions."
   ]
  },
  {
   "cell_type": "markdown",
   "id": "eceb14d5",
   "metadata": {},
   "source": [
    "#### 6. What is the value of bacon.index('cat')?"
   ]
  },
  {
   "cell_type": "code",
   "execution_count": 11,
   "id": "f1d42ce1",
   "metadata": {},
   "outputs": [
    {
     "data": {
      "text/plain": [
       "1"
      ]
     },
     "execution_count": 11,
     "metadata": {},
     "output_type": "execute_result"
    }
   ],
   "source": [
    "\"\"\"\n",
    "ans-\n",
    "bacon.index('cat') will give the index of 'cat' in the list bacon i.e. index 1'\n",
    "shown below----\n",
    "\"\"\"\n",
    "bacon= [3.14, 'cat', 11, 'cat', True]\n",
    "bacon.index('cat')"
   ]
  },
  {
   "cell_type": "markdown",
   "id": "dcbb407d",
   "metadata": {},
   "source": [
    "#### 7. How does bacon.append(99) change the look of the list value in bacon? "
   ]
  },
  {
   "cell_type": "code",
   "execution_count": 15,
   "id": "2400ed17",
   "metadata": {},
   "outputs": [
    {
     "name": "stdout",
     "output_type": "stream",
     "text": [
      "[3.14, 'cat', 11, 'cat', True, 99]\n"
     ]
    }
   ],
   "source": [
    "\"\"\"\n",
    "An--\n",
    "After appending one more item (99) will append 99 to the last of the list.\n",
    "\n",
    "After executing bacon.append(99), the new value will be added to the list,\n",
    "and the updated bacon list will look like this: [3.14, 'cat', 11, 'cat', True, 99].\n",
    "\n",
    "shown below in the code:\n",
    "\"\"\"\n",
    "bacon= [3.14, 'cat', 11, 'cat', True]\n",
    "bacon.append(99)\n",
    "print(bacon)"
   ]
  },
  {
   "cell_type": "markdown",
   "id": "8040ab04",
   "metadata": {},
   "source": [
    "#### 8. How does bacon.remove('cat') change the look of the list in bacon?"
   ]
  },
  {
   "cell_type": "code",
   "execution_count": 17,
   "id": "27f441a8",
   "metadata": {},
   "outputs": [
    {
     "name": "stdout",
     "output_type": "stream",
     "text": [
      "[3.14, 11, 'cat', True]\n"
     ]
    }
   ],
   "source": [
    "\"\"\"\n",
    "Ans-\n",
    "The remove() method in Python removes the first occurrence of the specified element from the list.\n",
    "In the case of the list bacon, which is initially [3.14, 'cat', 11, 'cat', True],\n",
    "if we execute the command bacon.remove('cat'), it will modify the list bacon by removing the first occurrence of the value 'cat'.\n",
    "\n",
    "shown in below code:\n",
    "\"\"\"\n",
    "bacon= [3.14, 'cat', 11, 'cat', True]\n",
    "bacon.remove('cat')\n",
    "print (bacon)\n",
    "\n",
    "#thus the first occurence of 'cat' is removed."
   ]
  },
  {
   "cell_type": "markdown",
   "id": "3ef4d4ca",
   "metadata": {},
   "source": [
    "#### 9. What are the list concatenation and list replication operators?"
   ]
  },
  {
   "cell_type": "code",
   "execution_count": 18,
   "id": "bc2f2660",
   "metadata": {},
   "outputs": [
    {
     "name": "stdout",
     "output_type": "stream",
     "text": [
      "[1, 2, 3, 4, 5, 6]\n"
     ]
    }
   ],
   "source": [
    "\"\"\"\n",
    "Ans-\n",
    "\n",
    "1.The list concatenation operator--\n",
    "\n",
    "The list concatenation operator is the plus sign (+). \n",
    "It is used to combine two or more lists into a single list by appending the elements of the second list to the end of the first list.\n",
    "shown in the below example:\n",
    "\"\"\"\n",
    "list1 = [1, 2, 3]\n",
    "list2 = [4, 5, 6]\n",
    "concatenated_list = list1 + list2\n",
    "print(concatenated_list)"
   ]
  },
  {
   "cell_type": "code",
   "execution_count": 20,
   "id": "00ea445c",
   "metadata": {},
   "outputs": [
    {
     "name": "stdout",
     "output_type": "stream",
     "text": [
      "[1, 2, 3, 1, 2, 3, 1, 2, 3]\n"
     ]
    }
   ],
   "source": [
    "\"\"\"\n",
    "2.The list replication operator--\n",
    "\n",
    "The list replication operator is the asterisk (*).\n",
    "It is used to create a new list by repeating the elements of an existing list a specified number of times.\n",
    "\"\"\"\n",
    "list1 = [1, 2, 3]\n",
    "replicated_list = list1 * 3\n",
    "print(replicated_list)\n",
    "\n",
    "\n",
    "# important point------\n",
    "#Note that both the list concatenation and list replication operators do not modify the original lists.\n",
    "#They create a new list as a result of the operation."
   ]
  },
  {
   "cell_type": "markdown",
   "id": "a3b31c34",
   "metadata": {},
   "source": [
    "#### 10.What is difference between the list methods append() and insert()?"
   ]
  },
  {
   "cell_type": "code",
   "execution_count": 21,
   "id": "58d038e8",
   "metadata": {},
   "outputs": [
    {
     "name": "stdout",
     "output_type": "stream",
     "text": [
      "[1, 2, 3, 4]\n"
     ]
    }
   ],
   "source": [
    "\"\"\"\n",
    "Ans---\n",
    "The append() and insert() methods in Python are used to add elements to a list,\n",
    "but they differ in how the elements are added.\n",
    "\n",
    "1.\n",
    "The append() method adds the specified element to the end of the list.\n",
    "It modifies the list in place by adding the element as the last element of the list.\n",
    "\"\"\"\n",
    "\n",
    "my_list = [1, 2, 3]\n",
    "my_list.append(4)\n",
    "print(my_list)"
   ]
  },
  {
   "cell_type": "code",
   "execution_count": 23,
   "id": "7e444776",
   "metadata": {},
   "outputs": [
    {
     "name": "stdout",
     "output_type": "stream",
     "text": [
      "[1, 4, 2, 3]\n"
     ]
    }
   ],
   "source": [
    "\"\"\"\n",
    "whereas,\n",
    "\n",
    "2.\n",
    "The insert() method adds the specified element at the specified index position in the list.\n",
    "It modifies the list in place by shifting the existing elements to the right and inserting the new element at the specified index.\n",
    "\n",
    "(inserts element at the given index)\n",
    "\n",
    "Syntax: list.insert(index, element)\n",
    "\"\"\"\n",
    "#example\n",
    "\n",
    "my_list = [1, 2, 3]\n",
    "my_list.insert(1, 4)\n",
    "print(my_list)"
   ]
  },
  {
   "cell_type": "markdown",
   "id": "b2f65663",
   "metadata": {},
   "source": [
    "#### 11. What are the two methods for removing items from a list?"
   ]
  },
  {
   "cell_type": "code",
   "execution_count": 24,
   "id": "00e3fac8",
   "metadata": {},
   "outputs": [
    {
     "name": "stdout",
     "output_type": "stream",
     "text": [
      "[1, 3, 2]\n"
     ]
    }
   ],
   "source": [
    "\"\"\"\n",
    "Ans--\n",
    "There are multiple methods for removing items from a list, but two common methods are:\n",
    "\n",
    "1.\n",
    "remove() method:\n",
    "\n",
    "Syntax: list.remove(element)\n",
    "The remove() method removes the first occurrence of the specified element from the list.\n",
    "It modifies the list in place by removing the first matching element found.\n",
    "Example:\n",
    "\"\"\"\n",
    "my_list = [1, 2, 3, 2]\n",
    "my_list.remove(2)\n",
    "print(my_list)"
   ]
  },
  {
   "cell_type": "code",
   "execution_count": 25,
   "id": "5c57961e",
   "metadata": {},
   "outputs": [
    {
     "name": "stdout",
     "output_type": "stream",
     "text": [
      "[1, 3]\n",
      "2\n"
     ]
    }
   ],
   "source": [
    "\"\"\"\n",
    "2.\n",
    "pop() method:\n",
    "\n",
    "Syntax: list.pop(index)\n",
    "The pop() method removes and returns the element at the specified index position from the list.\n",
    "If no index is provided, it removes and returns the last element from the list.\n",
    "It modifies the list in place by removing the specified element.\n",
    "Example:\n",
    "\"\"\"\n",
    "my_list1 = [1, 2, 3]\n",
    "popped_element = my_list1.pop(1)\n",
    "print(my_list1)\n",
    "print(popped_element)"
   ]
  },
  {
   "cell_type": "markdown",
   "id": "ad7d1a99",
   "metadata": {},
   "source": [
    "#### 12. Describe how list values and string values are identical."
   ]
  },
  {
   "cell_type": "code",
   "execution_count": null,
   "id": "446829ab",
   "metadata": {},
   "outputs": [],
   "source": [
    "\"\"\"\n",
    "Ans-\n",
    "List values and string values in Python share certain similarities,but they are fundamentally different data types.\n",
    "Here are some similarities between list values and string values:\n",
    "\n",
    "1.Both are ordered sequences: Both lists and strings are ordered sequences of elements. \n",
    "In a list, the elements can be of any data type, while in a string, the elements are individual characters.\n",
    "\n",
    "2.Accessing elements: Elements in both lists and strings can be accessed using indexing.\n",
    "You can use square brackets [] and an index number to retrieve a specific element from both data types.\n",
    "\n",
    "3.Slicing: Both lists and strings support slicing, allowing you to extract a portion of the sequence by\n",
    "specifying a start and end index.\n",
    "\n",
    "4.Iteration: You can iterate over both lists and strings using loops, such as 'for' loops, to process each element or character.\n",
    "\n",
    "these are few main similarities\n",
    "\"\"\""
   ]
  },
  {
   "cell_type": "markdown",
   "id": "d589c2ef",
   "metadata": {},
   "source": [
    "#### 13. What's the difference between tuples and lists?"
   ]
  },
  {
   "cell_type": "code",
   "execution_count": null,
   "id": "94872b86",
   "metadata": {},
   "outputs": [],
   "source": [
    "\"\"\"\n",
    "Ans-\n",
    "There are several key differences between tuples and lists:\n",
    "\n",
    "1. Mutability: Tuples are immutable, meaning their elements cannot be modified once created. \n",
    "In contrast, lists are mutable, allowing elements to be modified, added, or removed.\n",
    "\n",
    "2. Syntax: Tuples are defined using parentheses '()' .\n",
    "For example, (1, 2, 3) . \n",
    "Lists, on the other hand, are defined using square brackets [].\n",
    "For example, [1, 2, 3].\n",
    "\n",
    "3. Usage: Tuples are typically used to represent collections of related but different items, often with a specific order.\n",
    "They are commonly used when the number of elements and their values are known and do not need to be modified.\n",
    "Lists, on the other hand, are used when the order of elements matters and when there is a need for flexibility,\n",
    "such as adding or removing items.\n",
    "\n",
    "4. Methods and operations: Lists have a variety of built-in methods such as append(), remove(), pop(), and more, \n",
    "which allow for dynamic modification.\n",
    "\n",
    "Tuples have fewer methods due to their immutability. However, both tuples and lists support common operations such as \n",
    "indexing,slicing, iteration, and concatenation.\n",
    "\n",
    "these are the few main differnces. \n",
    "\"\"\""
   ]
  },
  {
   "cell_type": "markdown",
   "id": "8497784e",
   "metadata": {},
   "source": [
    "#### 14. How do you type a tuple value that only contains the integer 42?"
   ]
  },
  {
   "cell_type": "code",
   "execution_count": 32,
   "id": "d43ece96",
   "metadata": {},
   "outputs": [
    {
     "name": "stdout",
     "output_type": "stream",
     "text": [
      "42\n"
     ]
    }
   ],
   "source": [
    "\"\"\"\n",
    "Ans--\n",
    "To type a tuple value that only contains the integer 42, \n",
    "we will use the syntax----\n",
    "tuple= (42,)\n",
    "\n",
    "\"\"\"\n",
    "\n",
    "my_tuple=(42,)\n",
    "print(my_tuple[0])"
   ]
  },
  {
   "cell_type": "markdown",
   "id": "92e4029f",
   "metadata": {},
   "source": [
    "#### 15. How do you get a list value's tuple form? How do you get a tuple value's list form?"
   ]
  },
  {
   "cell_type": "code",
   "execution_count": 40,
   "id": "65dde957",
   "metadata": {},
   "outputs": [
    {
     "name": "stdout",
     "output_type": "stream",
     "text": [
      "(1, 2, 3, 4, 5)\n"
     ]
    }
   ],
   "source": [
    "\"\"\"\n",
    "Ans---\n",
    "1. \n",
    "To convert a list value to its tuple form in Python, we can use the tuple() function. Here's an example:\n",
    "\"\"\"\n",
    "my_list = [1, 2, 3, 4, 5]\n",
    "my_tuple = tuple(my_list)\n",
    "print(my_tuple)  # Output: (1, 2, 3, 4, 5)\n",
    "\n",
    "#In this code, the tuple() function is called with my_list as the argument. \n",
    "#it converts the list to a tuple, and the resulting tuple is assigned to the variable my_tuple.\n",
    "#The print() statement then displays the tuple (1, 2, 3, 4, 5).\"\"\""
   ]
  },
  {
   "cell_type": "code",
   "execution_count": 41,
   "id": "0895b0d9",
   "metadata": {},
   "outputs": [
    {
     "name": "stdout",
     "output_type": "stream",
     "text": [
      "[1, 2, 3, 4, 5]\n"
     ]
    }
   ],
   "source": [
    "\"\"\"\n",
    "2.\n",
    "To convert a tuple value to its list form, you can use the list() function. Here's an example:\n",
    "\"\"\"\n",
    "my_tuple = (1, 2, 3, 4, 5)\n",
    "my_list = list(my_tuple)\n",
    "print(my_list)  # Output: [1, 2, 3, 4, 5]\n",
    "\n",
    "#In this code, the list() function is called with my_tuple as the argument.\n",
    "#It converts the tuple to a list, and the resulting list is assigned to the variable my_list.\n",
    "#The print() statement then displays the list [1, 2, 3, 4, 5].\n"
   ]
  },
  {
   "cell_type": "markdown",
   "id": "e9b17436",
   "metadata": {},
   "source": [
    "#### 16. Variables that \"contain\" list values are not necessarily lists themselves. Instead, what do they contain?"
   ]
  },
  {
   "cell_type": "code",
   "execution_count": 42,
   "id": "e43f8ed6",
   "metadata": {},
   "outputs": [
    {
     "name": "stdout",
     "output_type": "stream",
     "text": [
      "[1, 2, 3, 4]\n"
     ]
    }
   ],
   "source": [
    "\"\"\"\n",
    "Ans--\n",
    "Variables that \"contain\" list values are not necessarily lists themselves. Instead,\n",
    "they are actually storing references to the list objects \n",
    "rather than the lists themselves.\n",
    "\n",
    "In other words, the variables hold memory addresses that point to the location where the list data is stored in \n",
    "the computer's memory.\n",
    "\n",
    "Variables are essentially names that refer to objects. \n",
    "When you assign a list to a variable, the variable becomes a reference to the list object.\n",
    "Multiple variables can refer to the same list object, and modifying the list through any of these variables will affect\n",
    "the underlying list object.\n",
    "\n",
    "For example:\"\"\"\n",
    "my_list = [1, 2, 3]  # Create a list and assign it to the variable my_list\n",
    "other_list = my_list  # Assign the same list object to another variable\n",
    "\n",
    "# Modifying the list through either variable will affect the list object\n",
    "my_list.append(4)\n",
    "print(other_list)  # Output: [1, 2, 3, 4]\n",
    "\n",
    "#In the example above, 'my_list' and 'other_list' both reference the same list object.\n",
    "#Modifying the list by appending an element to 'my_list' also affects 'other_list' since they point to the same underlying list object."
   ]
  },
  {
   "cell_type": "markdown",
   "id": "14611e90",
   "metadata": {},
   "source": [
    "#### 17. How do you distinguish between copy.copy() and copy.deepcopy()?"
   ]
  },
  {
   "cell_type": "code",
   "execution_count": 43,
   "id": "490abc59",
   "metadata": {},
   "outputs": [
    {
     "name": "stdout",
     "output_type": "stream",
     "text": [
      "[1, 2, [3, 4, 5]]\n",
      "[1, 2, [3, 4, 5]]\n"
     ]
    }
   ],
   "source": [
    "\"\"\"\n",
    "Ans---\n",
    "The copy.copy() and copy.deepcopy() functions are part of the copy module in Python,\n",
    "and they are used to create copies of objects. Here's how they differ:\n",
    "\n",
    "1.'copy.copy()' :\n",
    "\n",
    "The copy.copy() function creates a shallow copy of an object.\n",
    "Shallow copy means that a new object is created, but the contents of the object are still references to the original elements.\n",
    "Changes made to the original elements will be reflected in the copied object, and vice versa.\n",
    "Shallow copy is sufficient for creating a new independent object if the object contains only immutable elements \n",
    "(e.g., numbers, strings) or if you don't intend to modify the nested mutable elements.\n",
    "\"\"\"\n",
    "import copy\n",
    "\n",
    "list1 = [1, 2, [3, 4]]\n",
    "list2 = copy.copy(list1)\n",
    "\n",
    "list1[2].append(5)\n",
    "\n",
    "print(list1)  # Output: [1, 2, [3, 4, 5]]\n",
    "print(list2)  # Output: [1, 2, [3, 4, 5]]"
   ]
  },
  {
   "cell_type": "code",
   "execution_count": 44,
   "id": "6d1118c0",
   "metadata": {},
   "outputs": [
    {
     "name": "stdout",
     "output_type": "stream",
     "text": [
      "[1, 2, [3, 4, 5]]\n",
      "[1, 2, [3, 4]]\n"
     ]
    }
   ],
   "source": [
    "\"\"\"\n",
    "2.copy.deepcopy() :\n",
    "\n",
    "The copy.deepcopy() function creates a deep copy of an object.\n",
    "Deep copy means that a new object is created with completely independent copies of all elements, including nested objects.\n",
    "Changes made to the original object or its elements will not affect the copied object, and vice versa.\n",
    "Deep copy is necessary when the object contains mutable elements that you want to modify independently\n",
    "or if you need to create a completely separate copy of the object.\n",
    "\"\"\"\n",
    "import copy\n",
    "\n",
    "list1 = [1, 2, [3, 4]]\n",
    "list2 = copy.deepcopy(list1)\n",
    "\n",
    "list1[2].append(5)\n",
    "\n",
    "print(list1)  # Output: [1, 2, [3, 4, 5]]\n",
    "print(list2)  # Output: [1, 2, [3, 4]]"
   ]
  },
  {
   "cell_type": "code",
   "execution_count": null,
   "id": "fb804e38",
   "metadata": {},
   "outputs": [],
   "source": []
  }
 ],
 "metadata": {
  "kernelspec": {
   "display_name": "Python 3 (ipykernel)",
   "language": "python",
   "name": "python3"
  },
  "language_info": {
   "codemirror_mode": {
    "name": "ipython",
    "version": 3
   },
   "file_extension": ".py",
   "mimetype": "text/x-python",
   "name": "python",
   "nbconvert_exporter": "python",
   "pygments_lexer": "ipython3",
   "version": "3.9.13"
  }
 },
 "nbformat": 4,
 "nbformat_minor": 5
}
