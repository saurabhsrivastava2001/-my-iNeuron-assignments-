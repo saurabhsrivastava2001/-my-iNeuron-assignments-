{
 "cells": [
  {
   "cell_type": "markdown",
   "id": "61ab32e8",
   "metadata": {},
   "source": [
    "### 02_july_OOPs_Inheritance_Assignment"
   ]
  },
  {
   "cell_type": "markdown",
   "id": "e3b49dd6",
   "metadata": {},
   "source": [
    "#### 1. Explain what inheritance is in object-oriented programming and why it is used."
   ]
  },
  {
   "cell_type": "code",
   "execution_count": 35,
   "id": "d8aea80f",
   "metadata": {},
   "outputs": [
    {
     "name": "stdout",
     "output_type": "stream",
     "text": [
      "name is :saurabh\n",
      "grade is A\n"
     ]
    }
   ],
   "source": [
    "\"\"\"\n",
    "Ans--\n",
    "Inheritance is a powerful feature of object-oriented programming (OOP) that allows a class to inherit the properties\n",
    "and behaviors of another class.\n",
    "This is done by creating a new class that is derived from an existing class.\n",
    "The new class is called the derived class or child class, and the existing class is called the base class or parent class.\n",
    "\n",
    "Inheritance is used for a number of reasons, including:\n",
    "\n",
    "Code reusability: Inheritance allows us to reuse code that has already been written.\n",
    "This can save us a lot of time and effort, and it also helps to keep our code consistent.\n",
    "\n",
    "Abstraction: Inheritance can be used to abstract away the details of a class. \n",
    "This makes our code more modular and easier to understand.\n",
    "\n",
    "Polymorphism: Inheritance allows us to have different classes that behave in the same way in certain situations.\n",
    "This is known as polymorphism.\"\"\"\n",
    "#example of syntax---\n",
    "class Person:   #parent class\n",
    "    def __init__(self,name):\n",
    "        self.name=name\n",
    "    def display_info(self):\n",
    "        print(f\"name is :{self.name}\")\n",
    "        \n",
    "class student(Person):     #child class uses parent class name during declaration\n",
    "    def __init__(self,name,grade):\n",
    "        super().__init__(name)     #the name of the child classs will be done like the parent class using super keyword \n",
    "        self.grade=grade\n",
    "        \n",
    "    def display_info(self):\n",
    "        super().display_info() #taking the method of parent class in the child class using super keyword\n",
    "        print(f\"grade is {self.grade}\")\n",
    "        \n",
    "student1=student(\"saurabh\",\"A\")\n",
    "student1.display_info()"
   ]
  },
  {
   "cell_type": "markdown",
   "id": "fde3dac6",
   "metadata": {},
   "source": [
    "#### 2. Discuss the concept of single inheritance and multiple inheritance, highlighting their edifferences and advantages."
   ]
  },
  {
   "cell_type": "code",
   "execution_count": 36,
   "id": "2b69e588",
   "metadata": {},
   "outputs": [
    {
     "name": "stdout",
     "output_type": "stream",
     "text": [
      "The fluffy dog makes a sound.\n"
     ]
    }
   ],
   "source": [
    "\"\"\"\n",
    "Ans--\n",
    "Single inheritance and multiple inheritance are two different ways of implementing inheritance in object-oriented programming (OOP).\n",
    "Single inheritance--\n",
    "single inheritance is a type of inheritance where a derived class inherits from a single base class.\n",
    "This means that the derived class inherits all of the properties and methods of the base class.\n",
    "\n",
    "Multiple inheritance--\n",
    "Multiple inheritance is a type of inheritance where a derived class inherits from multiple base classes.\n",
    "This means that the derived class inherits all of the properties and methods of all of the base classes.\n",
    "\"\"\"\n",
    "#example of single inheritance -----\n",
    "class Animal:\n",
    "    def __init__(self, name):\n",
    "        self.name = name\n",
    "\n",
    "    def speak(self):\n",
    "        print(f\"The {self.name} makes a sound.\")\n",
    "\n",
    "class Dog(Animal):\n",
    "    def __init__(self,name):\n",
    "        super().__init__(name)\n",
    "    def speak(self):\n",
    "        super().speak()\n",
    "            \n",
    "\n",
    "dog = Dog(\"fluffy dog\")\n",
    "dog.speak()  # Output: The fluffy dog makes a sound.\n",
    "#explanation--\n",
    "#In this example, we have a base class Animal that defines a common behavior speak(). \n",
    "#The subclass Dog inherits from Animal using single inheritance using super() keyword and calls speak() method too with super().\n",
    "#The instance of Dog calls the speak() method, resulting in the output \"The fluffy dog makes a sound.\""
   ]
  },
  {
   "cell_type": "code",
   "execution_count": 37,
   "id": "33a2f018",
   "metadata": {},
   "outputs": [
    {
     "name": "stdout",
     "output_type": "stream",
     "text": [
      "The duck creature flies.\n",
      "The duck creature swims.\n",
      "The duck creature flies.\n"
     ]
    }
   ],
   "source": [
    "#multiple inheritance----\n",
    "class Flying:\n",
    "    def __init__(self,name):\n",
    "        self.name=name\n",
    "    def fly(self):\n",
    "        print(f\"The {self.name} creature flies.\")\n",
    "\n",
    "class Swimming:\n",
    "    def __init__(self,name):\n",
    "        self.name=name\n",
    "    def swim(self):\n",
    "        print(f\"The {self.name} creature swims.\")\n",
    "\n",
    "class Bird(Flying, Swimming):\n",
    "    def __init__(self,name):\n",
    "        super().__init__(name)\n",
    "    def swim(self):\n",
    "        super().swim()\n",
    "        super().fly()\n",
    "bird = Bird(\"duck\")\n",
    "bird.fly() \n",
    "bird.swim()  \n",
    "#explanation-\n",
    "#The Bird class inherits from both Flying and Swimming.The super().fly() calls the fly() method of fly() class \n",
    "#and its swim method calls the swim method of the Swimming class using super().swim()."
   ]
  },
  {
   "cell_type": "markdown",
   "id": "9f30a205",
   "metadata": {},
   "source": [
    "#### 3. Explain the terms \"base class\" and \"derived class\" in the context of inheritance."
   ]
  },
  {
   "cell_type": "code",
   "execution_count": 38,
   "id": "0da97b64",
   "metadata": {},
   "outputs": [
    {
     "name": "stdout",
     "output_type": "stream",
     "text": [
      "Buddy is eating.\n",
      "Buddy is barking.\n"
     ]
    }
   ],
   "source": [
    "\"\"\"\n",
    "Ans---\n",
    "In the context of inheritance in object-oriented programming,\n",
    "the terms \"base class\" and \"derived class\" are used to describe the relationship between classes.\n",
    "\n",
    "1. Base Class:\n",
    "A base class, also known as a superclass or parent class, is the class from which other classes inherit properties and behaviors.\n",
    "It serves as a foundation or template for creating more specialized classes.\n",
    "The base class defines common attributes, methods, and behaviors that can be inherited by its derived classes.\n",
    "A base class can have multiple derived classes inheriting from it.\n",
    "\n",
    "2. Derived Class:\n",
    "A derived class, also known as a subclass or child class, is a class that inherits properties and behaviors from a base class.\n",
    "It extends or specializes the base class by adding its own unique attributes, methods, and behaviors or by overriding inherited \n",
    "methods to provide different implementations.\n",
    "The derived class inherits all the members (variables, methods) of the base class and can access and utilize them as its own.\n",
    "It can also introduce new members or modify inherited members.\"\"\"\n",
    "#Here's a simple example:\n",
    "class Animal:  # Base Class\n",
    "    def __init__(self, name):\n",
    "        self.name = name\n",
    "\n",
    "    def eat(self):\n",
    "        print(f\"{self.name} is eating.\")\n",
    "\n",
    "class Dog(Animal):  # Derived Class\n",
    "    def __init__(self, name, breed):\n",
    "        super().__init__(name)\n",
    "        self.breed = breed\n",
    "\n",
    "    def bark(self):\n",
    "        print(f\"{self.name} is barking.\")\n",
    "\n",
    "dog = Dog(\"Buddy\", \"Labrador\")\n",
    "dog.eat()  # Accessing base class method\n",
    "dog.bark()  # Accessing derived class method\n",
    "#code  explanation---\n",
    "#In this example, 'Animal' is the base class, providing the common behavior of eating.\n",
    "#The 'Dog' class is a derived class,derived from 'Animal' and adds its own behavior of barking. \n",
    "#The 'Dog' class inherits the 'eat' method from the 'Animal' class and extends the functionality by introducing the 'bark' method.\n"
   ]
  },
  {
   "cell_type": "markdown",
   "id": "f78f815c",
   "metadata": {},
   "source": [
    "#### 4. What is the significance of the \"protected\" access modifier in inheritance? How does it differ from \"private\" and \"public\" modifiers?"
   ]
  },
  {
   "cell_type": "code",
   "execution_count": null,
   "id": "59a225d8",
   "metadata": {},
   "outputs": [],
   "source": [
    "\"\"\"\n",
    "Ans--\n",
    "In object-oriented programming, access modifiers are keywords that determine the visibility and accessibility\n",
    "of class members (attributes and methods) within and outside the class. \n",
    "The three main access modifiers are \"private\", \"protected\" and \"public\".\n",
    "The significance of the \"protected\" access modifier in inheritance lies in how it controls the visibility of class members\n",
    "within derived classes.\n",
    "\n",
    "Here's a brief explanation of each access modifier:\n",
    "\n",
    "1. Private:\n",
    "- Members declared as private are only accessible within the class where they are defined.\n",
    "- They are not visible to any other class, including subclasses or derived classes.\n",
    "- Private members are used to encapsulate data and implementation details, preventing direct access from external sources.\n",
    "\n",
    "2. Protected:\n",
    "- Members declared as protected are accessible within the class where they are defined and any subclasses (derived classes)\n",
    "that inherit from that class.\n",
    "- They are not directly accessible from outside the class hierarchy, i.e., from instances of the class or unrelated classes.\n",
    "- Protected members allow derived classes to access and use certain properties or methods that should be hidden \n",
    "from the outside world but need to be accessible to subclasses for proper inheritance and extension.\n",
    "\n",
    "3. Public:\n",
    "- Members declared as public are accessible from anywhere, both within the class and from external classes and objects.\n",
    "- They have no restrictions on visibility, and their properties or methods can be accessed and modified by any code.\n"
   ]
  },
  {
   "cell_type": "code",
   "execution_count": 39,
   "id": "25b0e094",
   "metadata": {},
   "outputs": [
    {
     "name": "stdout",
     "output_type": "stream",
     "text": [
      "I am public\n",
      "I am protected\n",
      "This is a public method\n",
      "This is a protected method\n"
     ]
    }
   ],
   "source": [
    "\n",
    "#Here's an example to illustrate the use of these access modifiers in Python:\n",
    "\n",
    "class Base:\n",
    "    def __init__(self):\n",
    "        self.public_var = \"I am public\"\n",
    "        self._protected_var = \"I am protected\"\n",
    "        self.__private_var = \"I am private\"\n",
    "\n",
    "    def public_method(self):\n",
    "        print(\"This is a public method\")\n",
    "\n",
    "    def _protected_method(self):\n",
    "        print(\"This is a protected method\")\n",
    "\n",
    "    def __private_method(self):\n",
    "        print(\"This is a private method\")\n",
    "\n",
    "class Derived(Base):\n",
    "    def __init__(self):\n",
    "        super().__init__()\n",
    "\n",
    "    def access_base_members(self):\n",
    "        print(self.public_var)  # Accessible (public)\n",
    "        print(self._protected_var)  # Accessible (protected)\n",
    "        # print(self.__private_var)  # Error: AttributeError (private)\n",
    "\n",
    "    def call_base_methods(self):\n",
    "        self.public_method()  # Accessible (public)\n",
    "        self._protected_method()  # Accessible (protected)\n",
    "        # self.__private_method()  # Error: AttributeError (private)\n",
    "\n",
    "# Create instances and demonstrate access to members\n",
    "derived_obj = Derived()\n",
    "derived_obj.access_base_members()\n",
    "derived_obj.call_base_methods()\n",
    "\n",
    "#code ecplanation---\n",
    "#In this example, we have a base class \"Base\" with three members: \"public_var\" ,\"_protected_var\" and \"__private_var\".\n",
    "#It also has three methods: \"public_method,\" \"_protected_method,\" and \"__private_method.\"\n",
    "\n",
    "#The \"Derived\" class inherits from the \"Base\" class, and within the \"Derived\" class, we can access the public \n",
    "#and protected members (variables and methods) of the \"Base\" class. \n",
    "#However, the private members are not directly accessible, resulting in an AttributeError if we try to access them."
   ]
  },
  {
   "cell_type": "markdown",
   "id": "53fcecce",
   "metadata": {},
   "source": [
    "#### 5. What is the purpose of the \"super\" keyword in inheritance? Provide an example"
   ]
  },
  {
   "cell_type": "code",
   "execution_count": 44,
   "id": "c7ad68fb",
   "metadata": {},
   "outputs": [
    {
     "name": "stdout",
     "output_type": "stream",
     "text": [
      "\n"
     ]
    }
   ],
   "source": [
    "\"\"\"\n",
    "Ans---\n",
    "\n",
    "In object-oriented programming, the \"super\" keyword is used to refer to the parent class or superclass of a derived class or subclass.\n",
    "It allows the subclass to access and invoke the methods and properties of its superclass,\n",
    "even if the subclass has overridden those methods or properties with its own implementation.\n",
    "\n",
    "The purpose of the \"super\" keyword is to provide a way to reuse code from the superclass while still allowing the\n",
    "subclass to extend or modify its behavior as needed.\n",
    "This promotes code reusability and enables a hierarchical structure in the class inheritance hierarchy.\n",
    "\"\"\"\n"
   ]
  },
  {
   "cell_type": "code",
   "execution_count": 45,
   "id": "6c4fe07e",
   "metadata": {},
   "outputs": [
    {
     "name": "stdout",
     "output_type": "stream",
     "text": [
      "Breed: Labrador\n",
      "Species: Canine\n",
      "Woof!\n"
     ]
    }
   ],
   "source": [
    "#Here's an example in Python to illustrate the use of the \"super\" keyword:\n",
    "\n",
    "class Animal:\n",
    "    def __init__(self, species):\n",
    "        self.species = species\n",
    "\n",
    "    def make_sound(self):\n",
    "        print(\"Generic animal sound!\")\n",
    "\n",
    "class Dog(Animal):\n",
    "    def __init__(self, breed, species):\n",
    "        super().__init__(species)  # Call the __init__ method of the superclass\n",
    "        self.breed = breed\n",
    "\n",
    "    def make_sound(self):\n",
    "        print(\"Woof!\")\n",
    "\n",
    "# Create an instance of the Dog class\n",
    "doggo = Dog(breed=\"Labrador\", species=\"Canine\")\n",
    "\n",
    "# Access properties from the superclass\n",
    "print(f\"Breed: {doggo.breed}\")\n",
    "print(f\"Species: {doggo.species}\")\n",
    "\n",
    "# Call the overridden method of the superclass using \"super\"\n",
    "doggo.make_sound()  # Output: \"Woof!\"\n",
    "#code explanation==\n",
    "#In this example, we have an \"Animal\" class with an initializer (\"__init__\") and a \"make_sound\" method. \n",
    "#The \"Dog\" class inherits from the \"Animal\" class using the \"super\" keyword to call the superclass initializer.\n",
    "#it also overrides the \"make_sound\" method with its own implementation."
   ]
  },
  {
   "cell_type": "markdown",
   "id": "796c02b9",
   "metadata": {},
   "source": [
    "#### 6. Create a base class called \"Vehicle\" with attributes like \"make\", \"model\", and \"year\".Then, create a derived class called \"Car\" that inherits from \"Vehicle\" and adds an attribute called \"fuel_type\". Implement appropriate methods in both classes.\n"
   ]
  },
  {
   "cell_type": "code",
   "execution_count": 46,
   "id": "228bb6b3",
   "metadata": {},
   "outputs": [
    {
     "name": "stdout",
     "output_type": "stream",
     "text": [
      "Make: Toyota\n",
      "Model: Corolla\n",
      "Year: 2022\n",
      "Fuel Type: Gasoline\n",
      "-----------\n",
      "Make: Tesla\n",
      "Model: Model S\n",
      "Year: 2023\n",
      "Fuel Type: Electric\n"
     ]
    }
   ],
   "source": [
    "#Ans--\n",
    "class Vehicle:\n",
    "    def __init__(self,make,model,year):\n",
    "        self.make=make\n",
    "        self.model=model\n",
    "        self.year=year\n",
    "\n",
    "    def display_info(self):\n",
    "        print(f\"Make: {self.make}\")\n",
    "        print(f\"Model: {self.model}\")\n",
    "        print(f\"Year: {self.year}\")\n",
    "\n",
    "class Car(Vehicle):\n",
    "    def __init__(self, make, model, year, fuel_type):\n",
    "        super().__init__(make, model, year)\n",
    "        self.fuel_type = fuel_type\n",
    "\n",
    "    def display_info(self):\n",
    "        super().display_info()\n",
    "        print(f\"Fuel Type: {self.fuel_type}\")\n",
    "\n",
    "# Creating instances of the Car class\n",
    "car1 = Car(\"Toyota\", \"Corolla\", 2022, \"Gasoline\")\n",
    "car2 = Car(\"Tesla\", \"Model S\", 2023, \"Electric\")\n",
    "\n",
    "# Calling the display_info method for each car\n",
    "car1.display_info()\n",
    "print(\"-----------\")\n",
    "car2.display_info()\n",
    "\n",
    "#code explanation--\n",
    "#In this example, the \"Vehicle\" class is the base class with attributes \"make\", \"model\" and \"year\".\n",
    "#It also has a method called \"display_info\" to print the vehicle's information.\n",
    "\n",
    "#The \"Car\" class is derived from the \"Vehicle\" class.\n",
    "#It adds an additional attribute called \"fuel_type\" and overrides the \"display_info\" method to include\n",
    "#the fuel type information along with the base class information.\n",
    "#The \"super()\" function is used to call the overridden \"display_info\" method of the base class within the \"Car\" class.\n",
    "#then we created two objects and used the method."
   ]
  },
  {
   "cell_type": "markdown",
   "id": "7ca5cf58",
   "metadata": {},
   "source": [
    "#### 7. Create a base class called \"Employee\" with attributes like \"name\" and \"salary\".Derive two classes, \"Manager\" and \"Developer,\" from \"Employee.\" Add an additional attribute called \"department\" for the \"Manager\" class and \"programming_language\" for the \"Developer\" class."
   ]
  },
  {
   "cell_type": "code",
   "execution_count": 47,
   "id": "6fd44726",
   "metadata": {},
   "outputs": [
    {
     "name": "stdout",
     "output_type": "stream",
     "text": [
      "Name: Sunny Savita\n",
      "Salary: $800000\n",
      "Department: FSDS\n",
      "-----------\n",
      "Name: Saurabh Sriv\n",
      "Salary: $165000\n",
      "Programming Language: Python\n"
     ]
    }
   ],
   "source": [
    "#Ans--\n",
    "class Employee:\n",
    "    def __init__(self, name, salary):\n",
    "        self.name = name\n",
    "        self.salary = salary\n",
    "\n",
    "    def display_info(self):\n",
    "        print(f\"Name: {self.name}\")\n",
    "        print(f\"Salary: ${self.salary}\")\n",
    "\n",
    "class Manager(Employee):\n",
    "    def __init__(self, name, salary, department):\n",
    "        super().__init__(name, salary)\n",
    "        self.department = department\n",
    "\n",
    "    def display_info(self):\n",
    "        super().display_info()\n",
    "        print(f\"Department: {self.department}\")\n",
    "\n",
    "class Developer(Employee):\n",
    "    def __init__(self, name, salary, programming_language):\n",
    "        super().__init__(name, salary)\n",
    "        self.programming_language = programming_language\n",
    "\n",
    "    def display_info(self):\n",
    "        super().display_info()\n",
    "        print(f\"Programming Language: {self.programming_language}\")\n",
    "\n",
    "# Creating instances of Manager and Developer classes\n",
    "manager1 = Manager(name=\"Sunny Savita\", salary=800000, department=\"FSDS\")\n",
    "developer1 = Developer(name=\"Saurabh Sriv\", salary=165000, programming_language=\"Python\")\n",
    "\n",
    "# Calling the display_info method for each employee\n",
    "manager1.display_info()\n",
    "print(\"-----------\")\n",
    "developer1.display_info()\n",
    "\n",
    "#code explanation---\n",
    "#In this example, the \"Employee\" class is the base class with attributes \"name\" and \"salary\".\n",
    "#It also has a method called \"display_info\" to print the employee's information.\n",
    "\n",
    "#The \"Manager\" class is derived from the \"Employee\" class. It adds an additional attribute called \"department\" \n",
    "#and overrides the \"display_info\" method to include the department information along with the base class information.\n",
    "\n",
    "#The \"Developer\" class is also derived from the \"Employee\" class. \n",
    "#It adds an additional attribute called \"programming_language\" and overrides the \"display_info\" method to \n",
    "#include the programming language information along with the base class information.\n"
   ]
  },
  {
   "cell_type": "markdown",
   "id": "412144ab",
   "metadata": {},
   "source": [
    "#### 8. Design a base class called \"Shape\" with attributes like \"colour\" and \"border_width.\" Create derived classes, \"Rectangle\" and \"Circle,\" that inherit from \"Shape\" and add specific attributes like \"length\" and \"width\" for the \"Rectangle\" class and \"radius\" for the \"Circle\" class.\n"
   ]
  },
  {
   "cell_type": "code",
   "execution_count": 48,
   "id": "1bec0ef3",
   "metadata": {},
   "outputs": [
    {
     "name": "stdout",
     "output_type": "stream",
     "text": [
      "Colour: Red\n",
      "Border Width: 2\n",
      "Length: 5\n",
      "Width: 3\n",
      "-----------\n",
      "Colour: Blue\n",
      "Border Width: 1\n",
      "Radius: 4\n"
     ]
    }
   ],
   "source": [
    "#Ans---\n",
    "class Shape:\n",
    "    def __init__(self,colour,border_width):\n",
    "        self.colour=colour\n",
    "        self.border_width=border_width\n",
    "    def display_info(self): #for displaying info (used to get the status)\n",
    "        print(f\"Colour: {self.colour}\")\n",
    "        print(f\"Border Width: {self.border_width}\")\n",
    "\n",
    "class Rectangle(Shape):\n",
    "    def __init__(self, colour, border_width, length, width):\n",
    "        super().__init__(colour, border_width)\n",
    "        self.length = length\n",
    "        self.width = width\n",
    "\n",
    "    def display_info(self):\n",
    "        super().display_info()\n",
    "        print(f\"Length: {self.length}\")\n",
    "        print(f\"Width: {self.width}\")\n",
    "        \n",
    "class Circle(Shape):\n",
    "    def __init__(self, colour, border_width, radius):\n",
    "        super().__init__(colour, border_width)\n",
    "        self.radius = radius\n",
    "\n",
    "    def display_info(self):\n",
    "        super().display_info()\n",
    "        print(f\"Radius: {self.radius}\")\n",
    "\n",
    "# Creating instances of Rectangle and Circle classes\n",
    "rectangle1 = Rectangle(colour=\"Red\", border_width=2, length=5, width=3)\n",
    "circle1 = Circle(colour=\"Blue\", border_width=1, radius=4)\n",
    "\n",
    "# Calling the display_info method for each shape\n",
    "rectangle1.display_info()\n",
    "print(\"-----------\")\n",
    "circle1.display_info()\n",
    "\n",
    "#code explanation--\n",
    "#In this example, the \"Shape\" class is the base class with attributes \"colour\" and \"border_width\".\n",
    "#It also has a method called \"display_info\" to print the shape's information.\n",
    "\n",
    "#The \"Rectangle\" class is derived from the \"Shape\" class.\n",
    "#It adds additional attributes called \"length\" and \"width\" and overrides the \"display_info\" method to include\n",
    "#these attributes along with the base class information.\n",
    "\n",
    "#The \"Circle\" class is also derived from the \"Shape\" class. \n",
    "#It adds an additional attribute called \"radius\" and overrides the \"display_info\" method to include the\n",
    "#radius along with the base class information.\n",
    "\n",
    "#then we make objects of them and call them with methods to check the features , attributes and working of the class."
   ]
  },
  {
   "cell_type": "markdown",
   "id": "c76a9948",
   "metadata": {},
   "source": [
    "#### 9. Create a base class called \"Device\" with attributes like \"brand\" and \"model.\" Derive two classes, \"Phone\" and \"Tablet,\" from \"Device.\" Add specific attributes like \"screen_size\" for the \"Phone\" class and \"battery_capacity\" for the \"Tablet\" class.\n"
   ]
  },
  {
   "cell_type": "code",
   "execution_count": 49,
   "id": "92c8a124",
   "metadata": {},
   "outputs": [
    {
     "name": "stdout",
     "output_type": "stream",
     "text": [
      "Brand: Apple\n",
      "Model: iPhone 14 pro max \n",
      "Screen Size: 6.1 inches\n",
      "-----------\n",
      "Brand: Samsung\n",
      "Model: Galaxy s22 ultra\n",
      "Battery Capacity: 8000 mAh\n"
     ]
    }
   ],
   "source": [
    "#Ans--\n",
    "class Device:\n",
    "    def __init__(self, brand, model):\n",
    "        self.brand = brand\n",
    "        self.model = model\n",
    "\n",
    "    def display_info(self):\n",
    "        print(f\"Brand: {self.brand}\")\n",
    "        print(f\"Model: {self.model}\")\n",
    "\n",
    "class Phone(Device):\n",
    "    def __init__(self, brand, model, screen_size):\n",
    "        super().__init__(brand, model)\n",
    "        self.screen_size = screen_size\n",
    "\n",
    "    def display_info(self):\n",
    "        super().display_info()\n",
    "        print(f\"Screen Size: {self.screen_size}\")\n",
    "\n",
    "class Tablet(Device):\n",
    "    def __init__(self, brand, model, battery_capacity):\n",
    "        super().__init__(brand, model)\n",
    "        self.battery_capacity = battery_capacity\n",
    "\n",
    "    def display_info(self):\n",
    "        super().display_info()\n",
    "        print(f\"Battery Capacity: {self.battery_capacity}\")\n",
    "\n",
    "# Creating instances of Phone and Tablet classes\n",
    "phone1 = Phone(brand=\"Apple\", model=\"iPhone 14 pro max \", screen_size=\"6.1 inches\")\n",
    "tablet1 = Tablet(brand=\"Samsung\", model=\"Galaxy s22 ultra\", battery_capacity=\"8000 mAh\")\n",
    "\n",
    "# Calling the display_info method for each device\n",
    "phone1.display_info()\n",
    "print(\"-----------\")\n",
    "tablet1.display_info()\n",
    "\n",
    "#code explanation--\n",
    "\n",
    "#In this example, the \"Device\" class is the base class with attributes \"brand\" and \"model\".\n",
    "#It also has a method called \"display_info\" to print the device's information.\n",
    "\n",
    "#The \"Phone\" class is derived from the \"Device\" class.\n",
    "#It adds an additional attribute called \"screen_size\" and overrides the \"display_info\" method to include \n",
    "#this attribute along with the base class information.\n",
    "\n",
    "#The \"Tablet\" class is also derived from the \"Device\" class.\n",
    "#It adds an additional attribute called \"battery_capacity\" and \n",
    "#overrides the \"display_info\" method to include the battery capacity along with the base class information.\n",
    "\n",
    "#then we make objects of them and call them with methods to check the features , attributes and working of the class."
   ]
  },
  {
   "cell_type": "markdown",
   "id": "06a656c4",
   "metadata": {},
   "source": [
    "#### 10. Create a base class called \"BankAccount\" with attributes like \"account_number\" and \"balance.\" Derive two classes, \"SavingsAccount\" and \"CheckingAccount,\" from \"BankAccount.\" Add specific methods like \"calculate_interest\" for the \"SavingsAccount\" class and \"deduct_fees\" for the \"CheckingAccount\" class"
   ]
  },
  {
   "cell_type": "code",
   "execution_count": 50,
   "id": "328e1bba",
   "metadata": {},
   "outputs": [],
   "source": [
    "#Ans--\n",
    "\n",
    "class BankAccount:\n",
    "    def __init__(self, account_number, balance):\n",
    "        self.account_number = account_number\n",
    "        self.balance = balance\n",
    "\n",
    "    def display_info(self):\n",
    "        print(f\"Account Number: {self.account_number}\")\n",
    "        print(f\"Balance: ${self.balance:.2f}\") #. 2f  means to display the number with two digits after the decimal point. \n",
    "\n",
    "\n",
    "class SavingsAccount(BankAccount):\n",
    "    def __init__(self, account_number, balance, interest_rate):\n",
    "        super().__init__(account_number, balance)\n",
    "        self.interest_rate = interest_rate\n",
    "\n",
    "    def calculate_interest(self):\n",
    "        interest_amount = self.balance * (self.interest_rate / 100)\n",
    "        self.balance += interest_amount\n",
    "        return interest_amount\n",
    "\n",
    "\n",
    "class CheckingAccount(BankAccount):\n",
    "    def __init__(self, account_number, balance, fee):\n",
    "        super().__init__(account_number, balance)\n",
    "        self.fee = fee\n",
    "\n",
    "    def deduct_fees(self):\n",
    "        self.balance -= self.fee\n",
    "\n",
    "#the methods called with the objects of the classes and the code explanation in the below cell.please check below cell."
   ]
  },
  {
   "cell_type": "code",
   "execution_count": 51,
   "id": "39e49381",
   "metadata": {},
   "outputs": [
    {
     "name": "stdout",
     "output_type": "stream",
     "text": [
      "Savings Account Info:\n",
      "Account Number: 12345\n",
      "Balance: $1000.00\n",
      "Interest Earned: $25.00\n",
      "-----------\n",
      "Checking Account Info:\n",
      "Account Number: 67890\n",
      "Balance: $2000.00\n",
      "After Fee Deduction:\n",
      "Account Number: 67890\n",
      "Balance: $1995.00\n"
     ]
    }
   ],
   "source": [
    "\n",
    "# Creating instances of SavingsAccount and CheckingAccount classes\n",
    "savings_account1 = SavingsAccount(account_number=\"12345\", balance=1000, interest_rate=2.5)\n",
    "checking_account1 = CheckingAccount(account_number=\"67890\", balance=2000, fee=5)\n",
    "\n",
    "# Displaying account information and performing specific actions\n",
    "print(\"Savings Account Info:\")\n",
    "savings_account1.display_info()\n",
    "print(f\"Interest Earned: ${savings_account1.calculate_interest():.2f}\")\n",
    "print(\"-----------\")\n",
    "print(\"Checking Account Info:\")\n",
    "checking_account1.display_info()\n",
    "checking_account1.deduct_fees()\n",
    "print(\"After Fee Deduction:\")\n",
    "checking_account1.display_info()\n",
    "\n",
    "#code explanation--\n",
    "#In this example, the \"BankAccount\" class is the base class with attributes \"account_number\" and \"balance\".\n",
    "#It also has a method called \"display_info\" to print the account information.\n",
    "\n",
    "#The \"SavingsAccount\" class is derived from the \"BankAccount\" class. \n",
    "#It adds an additional attribute called \"interest_rate\" and a method called \"calculate_interest\" to calculate \n",
    "#and add interest to the account balance.\n",
    "\n",
    "#The \"CheckingAccount\" class is also derived from the \"BankAccount\" class. It adds an additional attribute \n",
    "#called \"fee\" and a method called \"deduct_fees\" to deduct the fee from the account balance.\n",
    "\n",
    "#When we run this code, it will display the information of a savings account and a checking account, \n",
    "#including the interest earned and the balance after deducting the fee:\n",
    "\n",
    "#then we make objects of them and call them with methods to check the features , attributes and working of the class."
   ]
  }
 ],
 "metadata": {
  "kernelspec": {
   "display_name": "Python 3 (ipykernel)",
   "language": "python",
   "name": "python3"
  },
  "language_info": {
   "codemirror_mode": {
    "name": "ipython",
    "version": 3
   },
   "file_extension": ".py",
   "mimetype": "text/x-python",
   "name": "python",
   "nbconvert_exporter": "python",
   "pygments_lexer": "ipython3",
   "version": "3.9.13"
  }
 },
 "nbformat": 4,
 "nbformat_minor": 5
}
