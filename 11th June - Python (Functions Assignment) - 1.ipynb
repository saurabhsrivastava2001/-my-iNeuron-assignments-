{
 "cells": [
  {
   "cell_type": "code",
   "execution_count": null,
   "id": "d8b93a89",
   "metadata": {},
   "outputs": [],
   "source": [
    "### "
   ]
  },
  {
   "cell_type": "markdown",
   "id": "d448823b",
   "metadata": {},
   "source": [
    "#### 1-What is a lambda function in Python, and how does it differ from a regular function?"
   ]
  },
  {
   "cell_type": "code",
   "execution_count": null,
   "id": "b2666790",
   "metadata": {},
   "outputs": [],
   "source": [
    "\"\"\"Ans--\n",
    "\n",
    "A lambda function in Python is a small, anonymous, and lightweight function that can have any number of arguments but can only have one expression.\n",
    "It is also known as a \"lambda expression\" or a \"lambda\" for short.\n",
    "Lambda functions are typically used for short, simple operations where we don't need to define a full-fledged \n",
    "named function using the 'def' keyword. \n",
    "They are commonly used for tasks like sorting, filtering, mapping, and other situations where a quick function is needed.\n",
    "\n",
    "The syntax for a lambda function is as follows:\n",
    "lambda arguments: expression\n",
    "\n",
    "Here's a simple example of a lambda function that adds two numbers:\n",
    "\n",
    "add = lambda x, y: x + y\n",
    "print(add(5, 3))  # Output: 8\n",
    "\n",
    "Here are some key differences between lambda functions and regular (named) functions in Python:\n",
    "\n",
    "1. **Anonymous vs. Named**: Lambda functions are anonymous, meaning they don't have a name like regular functions \n",
    "defined with the def keyword. They are typically used for small, one-off operations.\n",
    "\n",
    "2. **Single Expression**: Lambda functions are limited to a single expression.\n",
    "This means they can't contain multiple statements, assignments, or complex control structures like loops\n",
    "or conditional statements.\n",
    "\n",
    "3. **Conciseness**: Lambda functions are concise and can be defined in a single line.\n",
    "Regular functions defined with def can have multiple lines and are more suitable for larger, more complex operations.\n",
    "\n",
    "4. **Return Value**: Lambda functions automatically return the value of the expression they contain,\n",
    "while regular functions require explicit return statements to return a value.\n",
    "\n",
    "5. **Scope**: Lambda functions have access to variables in the surrounding scope, just like regular functions.\n",
    "\n",
    "6. **Use Cases**: Lambda functions are commonly used in situations where a simple function is required for\n",
    "operations like sorting, filtering, and mapping.\n",
    "Regular functions are more versatile and suitable for larger and more complex tasks.\n",
    "\n",
    "Here's an equivalent version of the earlier example using a regular named function:\n",
    "\n",
    "def add(x, y):\n",
    "    return x + y\n",
    "\n",
    "print(add(5, 3))  # Output: 8\n",
    "\n",
    "In general, use lambda functions when we need a small, simple function for a specific purpose and use regular\n",
    "functions when we need more complex logic, reusability, and readability.\"\"\""
   ]
  },
  {
   "cell_type": "markdown",
   "id": "ec338dd8",
   "metadata": {},
   "source": [
    "#### 2-Can a lambda function in Python have multiple arguments? If yes, how can you define and use them?"
   ]
  },
  {
   "cell_type": "code",
   "execution_count": null,
   "id": "0f7e9f9e",
   "metadata": {},
   "outputs": [],
   "source": [
    "\"\"\"\n",
    "Ans--\n",
    "\n",
    "Yes, a lambda function in Python can have multiple arguments.\n",
    "The syntax for defining a lambda function with multiple arguments is as follows:\n",
    "\n",
    "lambda arg1, arg2, ...: expression\n",
    " \n",
    "We can define any number of arguments we need in the lambda's argument list, \n",
    "separated by commas. Here's an example of a lambda function with multiple arguments:\n",
    "\n",
    "multiply = lambda x, y: x * y\n",
    "print(multiply(5, 3))  # Output: 15\n",
    " \n",
    "In this example, the lambda function multiply takes two arguments, x and y, and returns their product.\n",
    "\n",
    "we can use lambda functions with multiple arguments in various contexts, \n",
    "such as sorting a list of tuples based on a specific element, filtering a list of elements using multiple criteria,\n",
    "or mapping multiple input values to an output value.\n",
    "Here's an example of sorting a list of tuples based on the second element of each tuple:\n",
    "\n",
    "data = [(2, 8), (1, 5), (3, 12)]\n",
    "sorted_data = sorted(data, key=lambda x: x[1])\n",
    "print(sorted_data)  # Output: [(1, 5), (2, 8), (3, 12)]\n",
    " \n",
    "\n",
    "In this example, the lambda function is used as the key parameter for the sorted function, \n",
    "specifying that the sorting should be based on the second element of each tuple.\n",
    "\n",
    "Remember that lambda functions are most useful for simple,\n",
    "concise operations. For more complex scenarios, it's often better to use regular named functions to improve readability\n",
    "and maintainability.\n",
    "\"\"\""
   ]
  },
  {
   "cell_type": "markdown",
   "id": "ab76c59c",
   "metadata": {},
   "source": [
    "#### 3. How are lambda functions typically used in Python? Provide an example use case."
   ]
  },
  {
   "cell_type": "code",
   "execution_count": null,
   "id": "dc2a34d0",
   "metadata": {},
   "outputs": [],
   "source": [
    "\"\"\"Ans--\n",
    "Lambda functions in Python are typically used for concise, one-off operations where defining a\n",
    "full-fledged named function using the def keyword would be overkill.\n",
    "They are commonly used in situations that require a small function as an argument to another function or method.\n",
    "Here's an example use case to illustrate how lambda functions are commonly used:\n",
    "\"\"\""
   ]
  },
  {
   "cell_type": "code",
   "execution_count": 1,
   "id": "7ecf1158",
   "metadata": {},
   "outputs": [
    {
     "name": "stdout",
     "output_type": "stream",
     "text": [
      "[{'name': 'Bob', 'age': 25}, {'name': 'Alice', 'age': 30}, {'name': 'Eve', 'age': 35}]\n"
     ]
    }
   ],
   "source": [
    "#Use Case: Sorting a List of Dictionaries\n",
    "\n",
    "#Let's say we have a list of dictionaries representing people's information,\n",
    "#and we want to sort the list based on a specific key, such as their age.\n",
    "#we can use the sorted function with a lambda function as the key argument to achieve this:\n",
    "\n",
    "people = [\n",
    "    {\"name\": \"Alice\", \"age\": 30},\n",
    "    {\"name\": \"Bob\", \"age\": 25},\n",
    "    {\"name\": \"Eve\", \"age\": 35}\n",
    "]\n",
    "\n",
    "sorted_people = sorted(people, key=lambda person: person[\"age\"])\n",
    "print(sorted_people)\n",
    "\n",
    "#code explanation-- In this example, the lambda function 'lambda person: person[\"age\"] is used as the 'key' argument\n",
    "#to the 'sorted' function. This lambda function extracts the \"age\" value from each dictionary, \n",
    "#allowing the 'sorted' function to sort the list of dictionaries based on their ages."
   ]
  },
  {
   "cell_type": "code",
   "execution_count": null,
   "id": "42d87e78",
   "metadata": {},
   "outputs": [],
   "source": [
    "\"\"\"\n",
    "Other common use cases for lambda functions include:\n",
    "\n",
    "- **Filtering**: we can use lambda functions with the 'filter' function to filter elements from a list based on certain criteria.\n",
    "- **Mapping**: Lambda functions can be used with the 'map' function to transform elements in a list.\n",
    "- **Reducing**: Lambda functions can be used with the 'reduce' function to iteratively apply a function to a sequence.\n",
    "\n",
    "\"\"\""
   ]
  },
  {
   "cell_type": "markdown",
   "id": "dfd864a7",
   "metadata": {},
   "source": [
    "#### 4. What are the advantages and limitations of lambda functions compared to regular functions in Python?"
   ]
  },
  {
   "cell_type": "code",
   "execution_count": null,
   "id": "785dc2cb",
   "metadata": {},
   "outputs": [],
   "source": [
    "\"\"\"\n",
    "Ans--\n",
    "\n",
    "Lambda functions in Python have their own set of advantages and limitations compared to regular functions\n",
    "defined using the 'def' keyword. Let's see these aspects:\n",
    "\n",
    "**Advantages of Lambda Functions:**\n",
    "\n",
    "1. **Conciseness:** Lambda functions are more concise than regular functions. \n",
    "They allow we to define simple operations in a single line of code.\n",
    "\n",
    "2. **Anonymous:** Lambda functions are anonymous, which means we don't need to assign a name to them.\n",
    "This can be useful for short, one-off operations where a named function is not necessary.\n",
    "\n",
    "3. **Simplicity:** Lambda functions are well-suited for simple operations like sorting,\n",
    "filtering, and mapping, where a full-fledged named function might be overkill.\n",
    "\n",
    "4. **Inline Usage:** Lambda functions are often used inline as arguments to other functions,\n",
    "which can lead to cleaner and more readable code in certain cases.\n",
    "\n",
    "**Limitations of Lambda Functions:**\n",
    "\n",
    "1. **Single Expression:** Lambda functions can only contain a single expression. \n",
    "They cannot include multiple statements, assignments, or complex control structures like loops or conditionals.\n",
    "\n",
    "2. **Readability:** While lambda functions can be concise, \n",
    "overly complex lambda expressions can become difficult to read and understand. \n",
    "Named functions are often more readable for complex logic.\n",
    "\n",
    "3. **Limited Reusability:** Lambda functions are best suited for short, specific operations.\n",
    "If we need to reuse a function in multiple places, a named function provides better reusability.\n",
    "\n",
    "4. **Debugging:** Lambda functions can be harder to debug since they don't have a name that identifies them \n",
    "in tracebacks or error messages.\n",
    "\n",
    "5. **Documentation and Comments:** Named functions can include docstrings and comments that provide context\n",
    "and usage information. Lambda functions lack this feature, making it harder to document their purpose.\n",
    "\n",
    "6. **Scope Awareness:** While lambda functions have access to variables in the surrounding scope,complex closures (functions\n",
    "that \"remember\" variables from their containing scope) can be trickier to manage with lambdas compared to named functions.\"\"\""
   ]
  },
  {
   "cell_type": "markdown",
   "id": "7b2135f9",
   "metadata": {},
   "source": [
    "#### 5. Are lambda functions in Python able to access variables defined outside of their own scope?Explain with an example."
   ]
  },
  {
   "cell_type": "code",
   "execution_count": null,
   "id": "afd17c51",
   "metadata": {},
   "outputs": [],
   "source": [
    "\"\"\"\n",
    "Ans--\n",
    "Yes, lambda functions in Python can access variables defined outside of their own scope.\n",
    "They have access to variables from the surrounding scope in which they are defined.\n",
    "This behavior is similar to regular functions and is a result of Python's lexical scoping rules.\n",
    "\"\"\""
   ]
  },
  {
   "cell_type": "code",
   "execution_count": 3,
   "id": "e7b6ed44",
   "metadata": {},
   "outputs": [
    {
     "name": "stdout",
     "output_type": "stream",
     "text": [
      "15\n"
     ]
    }
   ],
   "source": [
    "#Here's an example to illustrate this:\n",
    "def outer_function(x):\n",
    "    inner_lambda = lambda y: x + y\n",
    "    return inner_lambda\n",
    "\n",
    "closure = outer_function(10)\n",
    "result = closure(5)\n",
    "print(result)  # Output: 15\n",
    "\n",
    "#code explanation--\n",
    "#In this example, the outer_function defines a lambda function called 'inner_lambda'.\n",
    "#The lambda function takes an argument 'y' and uses the variable 'x' from the outer function's scope.\n",
    "#When 'outer_function(10)' is called, it returns the lambda function 'inner_lambda' with 'x' set to '10'.\n",
    "#When 'closure(5)' is called, it effectively adds '5' to the value of 'x' (which is '10'), resulting in a total of '15'."
   ]
  },
  {
   "cell_type": "markdown",
   "id": "6f71e304",
   "metadata": {},
   "source": [
    "#### 6. Write a lambda function to calculate the square of a given number."
   ]
  },
  {
   "cell_type": "code",
   "execution_count": null,
   "id": "646cc2e1",
   "metadata": {},
   "outputs": [],
   "source": [
    "\n",
    "#Ans--\n",
    "#Certainly! Here's a lambda function that calculates the square of a given number:\n",
    "\n",
    "square = lambda x: x ** 2\n",
    "\n",
    "number = 5\n",
    "result = square(number)\n",
    "print(result)  # Output: 25\n",
    "\n",
    "#In this example, the lambda function 'square' takes an argument 'x' and returns the square of 'x' using the\n",
    "#exponentiation operator '**'. we can replace the 'number' variable with any value we want to calculate the square for."
   ]
  },
  {
   "cell_type": "markdown",
   "id": "8f7c5463",
   "metadata": {},
   "source": [
    "#### 7. Create a lambda function to find the maximum value in a list of integers."
   ]
  },
  {
   "cell_type": "code",
   "execution_count": null,
   "id": "41849cff",
   "metadata": {},
   "outputs": [],
   "source": [
    "#Ans--\n",
    "#Certainly! Here's a lambda function that finds the maximum value in a list of integers:\n",
    "\n",
    "numbers = [12, 45, 7, 23, 65, 9]\n",
    "\n",
    "max_value = lambda nums: max(nums)\n",
    "\n",
    "result = max_value(numbers)\n",
    "print(result)  # Output: 65\n",
    "#In this example, the lambda function 'max_value' takes a list of numbers as an argument and uses the 'max' function \n",
    "#to find the maximum value within the list. we can replace the 'numbers' list with any list of integers\n",
    "#we want to find the maximum value from."
   ]
  },
  {
   "cell_type": "markdown",
   "id": "053c7d33",
   "metadata": {},
   "source": [
    "#### 8. Implement a lambda function to filter out all the even numbers from a list of integers."
   ]
  },
  {
   "cell_type": "code",
   "execution_count": 4,
   "id": "f6f5c0db",
   "metadata": {},
   "outputs": [
    {
     "name": "stdout",
     "output_type": "stream",
     "text": [
      "[12, 14, 8]\n"
     ]
    }
   ],
   "source": [
    "#Ans--\n",
    "#yes ! Here's a lambda function that filters out all the even numbers from a list of integers:\n",
    "\n",
    "numbers = [12, 45, 7, 23, 65, 9, 14, 8]\n",
    "even_numbers = lambda nums: list(filter(lambda x: x % 2 == 0, nums))\n",
    "\n",
    "result = even_numbers(numbers)\n",
    "print(result)  # Output: [12, 14, 8]\n",
    "\n",
    "#In this example, the lambda function 'even_numbers' takes a list of numbers as an argument and uses the 'filter' function \n",
    "#along with a lambda function inside it to filter out only the even numbers. \n",
    "#The inner lambda function checks whether a number is even ('x % 2 == 0').\n",
    "#The result is a list containing only the even numbers from the original list. we can replace the 'numbers' \n",
    "#list with any list of integers we want to filter."
   ]
  },
  {
   "cell_type": "markdown",
   "id": "a6819d0a",
   "metadata": {},
   "source": [
    "#### 9. Write a lambda function to sort a list of strings in ascending order based on the length of each string."
   ]
  },
  {
   "cell_type": "code",
   "execution_count": 6,
   "id": "997215c5",
   "metadata": {},
   "outputs": [
    {
     "name": "stdout",
     "output_type": "stream",
     "text": [
      "['fig', 'date', 'apple', 'grape', 'banana', 'cherry']\n"
     ]
    }
   ],
   "source": [
    "#Ans--\n",
    "#Here's a lambda function that sorts a list of strings in ascending order based on the length of each string:\n",
    "\n",
    "strings = [\"apple\", \"banana\", \"cherry\", \"date\", \"fig\", \"grape\"]\n",
    "\n",
    "sorted_strings = lambda strs: sorted(strs, key=lambda s: len(s))\n",
    "\n",
    "result = sorted_strings(strings)\n",
    "print(result)  # Output: ['fig', 'date', 'apple', 'cherry', 'banana', 'grape']\n",
    "\n",
    "#In this example, the lambda function 'sorted_strings' takes a list of strings as an argument and uses the 'sorted' function with a lambda function as the 'key' parameter. The inner lambda function computes the length of each string using 'len(s)' and sorts the strings based on their lengths. The result is a list of strings sorted in ascending order of their lengths. we can replace the 'strings' list with any list of strings we want to sort."
   ]
  },
  {
   "cell_type": "markdown",
   "id": "464bc1a3",
   "metadata": {},
   "source": [
    "#### 10. Create a lambda function that takes two lists as input and returns a new list containing the common elements between the two lists."
   ]
  },
  {
   "cell_type": "code",
   "execution_count": 7,
   "id": "6988d762",
   "metadata": {},
   "outputs": [
    {
     "name": "stdout",
     "output_type": "stream",
     "text": [
      "[3, 4, 5]\n"
     ]
    }
   ],
   "source": [
    "#Ans--\n",
    "# Here's a lambda function that takes two lists as input and returns a new list containing\n",
    "#the common elements between the two lists:\n",
    "\n",
    "list1 = [1, 2, 3, 4, 5]\n",
    "list2 = [3, 4, 5, 6, 7]\n",
    "\n",
    "common_elements = lambda lst1, lst2: list(filter(lambda x: x in lst2, lst1))\n",
    "\n",
    "result = common_elements(list1, list2)\n",
    "print(result)  # Output: [3, 4, 5]\n",
    "\n",
    "#In this example, the lambda function 'common_elements' takes two lists as arguments and uses\n",
    "#the 'filter' function with a lambda function inside it to filter out only the elements from the first list that are present\n",
    "#in the second list ('x in lst2'). The result is a new list containing the common elements between the two input lists.\n",
    "#we can replace 'list1' and 'list2' with any two lists of elements we want to find the common elements between."
   ]
  },
  {
   "cell_type": "markdown",
   "id": "608b3975",
   "metadata": {},
   "source": [
    "#### 11. Write a recursive function to calculate the factorial of a given positive integer."
   ]
  },
  {
   "cell_type": "code",
   "execution_count": 8,
   "id": "ab1e97f8",
   "metadata": {},
   "outputs": [
    {
     "name": "stdout",
     "output_type": "stream",
     "text": [
      "The factorial of 5 is 120\n"
     ]
    }
   ],
   "source": [
    "#Ans--\n",
    "# Here's an example of a recursive function to calculate the factorial of a given positive integer:\n",
    "\n",
    "def factorial(n):\n",
    "    if n == 0 or n == 1:\n",
    "        return 1\n",
    "    else:\n",
    "        return n * factorial(n - 1)\n",
    "\n",
    "number = 5\n",
    "result = factorial(number)\n",
    "print(f\"The factorial of {number} is {result}\")  # Output: The factorial of 5 is 120\n",
    "\n",
    "\n",
    "#In this example, the 'factorial' function calculates the factorial of a positive integer 'n' using recursion.\n",
    "#The base case is when 'n' is either 0 or 1, in which case the factorial is 1. \n",
    "#For larger values of 'n', the function recursively calls itself with a smaller value '(n - 1)' and multiplies the result by\n",
    "#'n'. This process continues until the base case is reached."
   ]
  },
  {
   "cell_type": "markdown",
   "id": "71c3d614",
   "metadata": {},
   "source": [
    "#### 12. Implement a recursive function to compute the nth Fibonacci number."
   ]
  },
  {
   "cell_type": "code",
   "execution_count": 22,
   "id": "f6208a50",
   "metadata": {},
   "outputs": [
    {
     "name": "stdout",
     "output_type": "stream",
     "text": [
      "The 6th Fibonacci number is 8\n"
     ]
    }
   ],
   "source": [
    "#Ans--\n",
    "#Here's a recursive function in Python to compute the nth Fibonacci number:\n",
    "\n",
    "def fibonacci(n):\n",
    "    if n <= 0:\n",
    "        return 0\n",
    "    elif n == 1:\n",
    "        return 1\n",
    "    else:\n",
    "        return fibonacci(n - 1) + fibonacci(n - 2)\n",
    "\n",
    "n = 6\n",
    "result = fibonacci(n)\n",
    "print(f\"The {n}th Fibonacci number is {result}\")  # Output: The 6th Fibonacci number is 8\n",
    "\n",
    "#In this example, the 'fibonacci' function calculates the nth Fibonacci number using recursion. \n",
    "#The base cases are when 'n' is 0 or 1, where the function returns '0' or '1' respectively.\n",
    "#For larger values of 'n', the function recursively calls itself with smaller values '(n - 1)' and '(n - 2)' and adds the\n",
    "#results together. This process continues until the base cases are reached."
   ]
  },
  {
   "cell_type": "markdown",
   "id": "730d2b63",
   "metadata": {},
   "source": [
    "#### 13. Create a recursive function to find the sum of all the elements in a given list."
   ]
  },
  {
   "cell_type": "code",
   "execution_count": 25,
   "id": "27129bfc",
   "metadata": {},
   "outputs": [
    {
     "name": "stdout",
     "output_type": "stream",
     "text": [
      "The sum of elements in the list is 20\n"
     ]
    }
   ],
   "source": [
    "def list_sum(lst):\n",
    "    if not lst:\n",
    "        return 0\n",
    "    else:\n",
    "        return lst[0] + list_sum(lst[1:])\n",
    "\n",
    "numbers = [1, 2, 3, 9, 5]\n",
    "result = list_sum(numbers)\n",
    "print(f\"The sum of elements in the list is {result}\")  # Output: The sum of elements in the list is 15\n",
    "\n",
    "#In this example, the list_sum function calculates the sum of all elements in a list using recursion.\n",
    "#The base case is when the list is empty, in which case the sum is 0. For non-empty lists, the function recursively adds\n",
    "#the first element of the list to the sum of the rest of the list using lst[0] + list_sum(lst[1:])"
   ]
  },
  {
   "cell_type": "markdown",
   "id": "46bc9d0c",
   "metadata": {},
   "source": [
    "#### 14. Write a recursive function to determine whether a given string is a palindrome."
   ]
  },
  {
   "cell_type": "code",
   "execution_count": 26,
   "id": "7c537bc4",
   "metadata": {},
   "outputs": [
    {
     "name": "stdout",
     "output_type": "stream",
     "text": [
      "The string is a palindrome.\n"
     ]
    }
   ],
   "source": [
    "#Here's a recursive function in Python to determine whether a given string is a palindrome:\n",
    "\n",
    "def is_palindrome(s):\n",
    "    s = s.lower()  # Convert to lowercase for case-insensitive comparison\n",
    "    s = s.replace(\" \", \"\")  # Remove spaces\n",
    "    if len(s) <= 1: #if only one letter or zero\n",
    "        return True\n",
    "    else:\n",
    "        return s[0] == s[-1] and is_palindrome(s[1:-1])\n",
    "\n",
    "string = \"A man a plan a canal Panama\"\n",
    "result = is_palindrome(string)\n",
    "if result:\n",
    "    print(\"The string is a palindrome.\")\n",
    "else:\n",
    "    print(\"The string is not a palindrome.\")\n",
    "\n",
    "#In this example, the 'is_palindrome' function determines whether a given string is a palindrome using recursion.\n",
    "#The function first converts the string to lowercase and removes spaces for case-insensitive and space-insensitive\n",
    "#comparison. The base case is when the string has a length of 1 or less, in which case it's considered a palindrome. \n",
    "#For longer strings, the function checks whether the first and last characters are the same, \n",
    "#and then recursively calls itself with the string excluding the first and last characters.\n"
   ]
  },
  {
   "cell_type": "markdown",
   "id": "51d1fae1",
   "metadata": {},
   "source": [
    "#### 15. Implement a recursive function to find the greatest common divisor (GCD) of two positive integers."
   ]
  },
  {
   "cell_type": "code",
   "execution_count": 27,
   "id": "d7b217ba",
   "metadata": {},
   "outputs": [
    {
     "name": "stdout",
     "output_type": "stream",
     "text": [
      "The GCD of 48 and 18 is 6\n"
     ]
    }
   ],
   "source": [
    "#Ans-\n",
    "#Here's a recursive function in Python to find the greatest common divisor (GCD) of two positive \n",
    "#integers using the Euclidean algorithm:\n",
    "\n",
    "def gcd(a, b):\n",
    "    if b == 0:\n",
    "        return a\n",
    "    else:\n",
    "        return gcd(b, a % b)\n",
    "\n",
    "num1 = 48\n",
    "num2 = 18\n",
    "result = gcd(num1, num2)\n",
    "print(f\"The GCD of {num1} and {num2} is {result}\")  # Output: The GCD of 48 and 18 is 6\n",
    "\n",
    "#In this example,the'gcd'function calculates the GCD of two positive integers using the Euclidean algorithm through recursion.\n",
    "#The base case is when 'b' becomes '0', in which case the GCD is 'a'.\n",
    "#For larger values of 'a' and 'b', the function recursively calls itself with 'b' and 'a % b'. \n",
    "#The '%' operator calculates the remainder of the division of 'a' by 'b'."
   ]
  },
  {
   "cell_type": "code",
   "execution_count": null,
   "id": "2b170e8e",
   "metadata": {},
   "outputs": [],
   "source": []
  }
 ],
 "metadata": {
  "kernelspec": {
   "display_name": "Python 3 (ipykernel)",
   "language": "python",
   "name": "python3"
  },
  "language_info": {
   "codemirror_mode": {
    "name": "ipython",
    "version": 3
   },
   "file_extension": ".py",
   "mimetype": "text/x-python",
   "name": "python",
   "nbconvert_exporter": "python",
   "pygments_lexer": "ipython3",
   "version": "3.9.13"
  }
 },
 "nbformat": 4,
 "nbformat_minor": 5
}
