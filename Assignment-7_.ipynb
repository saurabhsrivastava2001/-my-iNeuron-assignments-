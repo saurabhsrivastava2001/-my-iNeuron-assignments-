{
 "cells": [
  {
   "cell_type": "markdown",
   "id": "c967c8f6",
   "metadata": {},
   "source": [
    "### .............. ASSIGNMENT-7............."
   ]
  },
  {
   "cell_type": "markdown",
   "id": "08a2b0b1",
   "metadata": {},
   "source": [
    "\n",
    "Q.1. Create two int type variables, apply addition, subtraction, division and multiplications\n",
    "and store the results in variables. Then print the data in the following format by calling the\n",
    "variables:\n",
    "\n",
    "First variable is __ & second variable is __.\n",
    "\n",
    "Addition: __ + __ = __\n",
    "\n",
    "Subtraction: __ - __ = __\n",
    "\n",
    "Multiplication: __ * __ = __\n",
    "\n",
    "Division: __ / __ = __\n"
   ]
  },
  {
   "cell_type": "code",
   "execution_count": 1,
   "id": "f881dd92",
   "metadata": {},
   "outputs": [
    {
     "name": "stdout",
     "output_type": "stream",
     "text": [
      "First variable is 10 & second variable is 5\n",
      "Addition: 10 + 5 = 15\n",
      "Subtraction: 10 - 5 = 5\n",
      "Multiplication: 10 * 5 = 50\n",
      "Division: 10 / 5 = 2.0\n"
     ]
    }
   ],
   "source": [
    "#ans----\n",
    "\"\"\"\n",
    "Here's an example that creates two int type variables, performs addition, subtraction, multiplication, and division, \n",
    "and then prints the results in the specified format:\n",
    "\"\"\"\n",
    "first_var = 10\n",
    "second_var = 5\n",
    "\n",
    "addition = first_var + second_var\n",
    "\n",
    "subtraction = first_var - second_var\n",
    "\n",
    "multiplication = first_var * second_var\n",
    "\n",
    "division = first_var / second_var\n",
    "\n",
    "# Printing the results in the specified format\n",
    "\n",
    "print(\"First variable is\", first_var, \"& second variable is\", second_var)\n",
    "\n",
    "print(\"Addition:\", first_var, \"+\", second_var, \"=\", addition)\n",
    "\n",
    "print(\"Subtraction:\", first_var, \"-\", second_var, \"=\", subtraction)\n",
    "\n",
    "print(\"Multiplication:\", first_var, \"*\", second_var, \"=\", multiplication)\n",
    "\n",
    "print(\"Division:\", first_var, \"/\", second_var, \"=\", division)\n"
   ]
  },
  {
   "cell_type": "markdown",
   "id": "01574c50",
   "metadata": {},
   "source": [
    "###### Q.2. What is the difference between the following operators:\n",
    "\n",
    "##### (i) ‘/’ & ‘//’\n",
    "\n",
    "##### (ii) ‘**’ & ‘^’"
   ]
  },
  {
   "cell_type": "code",
   "execution_count": null,
   "id": "581a00b4",
   "metadata": {},
   "outputs": [],
   "source": [
    "\"\"\"\n",
    "Ans-----\n",
    "1.The difference between the '/' and '//' operators:\n",
    "\n",
    "The '/' operator is the division operator in Python. It performs regular division and returns the result as a float.\n",
    "For example, 7 / 2 would result in 3.5.\n",
    "whereas\n",
    "\n",
    "The '//' operator is the floor division operator in Python.\n",
    "It performs division and rounds down the result to the nearest integer, returning the quotient as an integer.\n",
    "For example, 7 // 2 would result in 3.\n",
    "\n",
    "2.The difference between the '**' and '^' operators:\n",
    "\n",
    "The '**' operator is the exponentiation operator in Python. \n",
    "It raises the left operand to the power of the right operand.\n",
    "For example, 2 ** 3 would result in 8.\n",
    "\n",
    "whereas\n",
    "The '^' operator, however, is not the exponentiation operator.\n",
    "Instead, it is the bitwise XOR operator. It performs a bitwise XOR operation between the binary representations of the operands. \n",
    "It is used for binary manipulation and not for exponentiation.\n",
    "example in next cell:\n",
    "\"\"\""
   ]
  },
  {
   "cell_type": "code",
   "execution_count": 2,
   "id": "2f19aa5f",
   "metadata": {},
   "outputs": [
    {
     "name": "stdout",
     "output_type": "stream",
     "text": [
      "8\n",
      "1\n"
     ]
    }
   ],
   "source": [
    "x = 2\n",
    "y = 3\n",
    "\n",
    "exponentiation = x ** y\n",
    "bitwise_xor = x ^ y\n",
    "\n",
    "print(exponentiation)  # Output: 8\n",
    "print(bitwise_xor)    # Output: 1"
   ]
  },
  {
   "cell_type": "markdown",
   "id": "cd3db0d2",
   "metadata": {},
   "source": [
    "##### Q.3. List the logical operators."
   ]
  },
  {
   "cell_type": "code",
   "execution_count": null,
   "id": "22aef86a",
   "metadata": {},
   "outputs": [],
   "source": [
    "\"\"\"\n",
    "Ans---\n",
    "The logical operators perform logical operations on boolean values (True and False). Here are the logical operators in Python:\n",
    "\n",
    "1. and: The and operator returns True if both operands are True, and False otherwise. \n",
    "It performs a logical conjunction.\n",
    "Example:\n",
    "x = True\n",
    "y = False\n",
    "result = x and y\n",
    "print(result)  # Output: False\n",
    "```\n",
    "\n",
    "2. or: The or operator returns True if at least one of the operands is True, and False if both operands are False. \n",
    "It performs a logical disjunction.\n",
    "Example:\n",
    "x = True\n",
    "y = False\n",
    "result = x or y\n",
    "print(result)  # Output: True\n",
    "\n",
    "3. not: The not operator returns the opposite boolean value of the operand. If the operand is True,\n",
    "it returns False, and if the operand is False, it returns True. It performs a logical negation.\n",
    "Example:\n",
    "x = True\n",
    "result = not x\n",
    "print(result)  # Output: False\n",
    "\n",
    "\n",
    "These logical operators can be used to combine or manipulate boolean values in conditional statements,\n",
    "loops, or any other logic-based scenarios.\n",
    "\"\"\""
   ]
  },
  {
   "cell_type": "markdown",
   "id": "e712bc1a",
   "metadata": {},
   "source": [
    "##### Q.4. Explain right shift operator and left shift operator with examples."
   ]
  },
  {
   "cell_type": "code",
   "execution_count": null,
   "id": "52c292f5",
   "metadata": {},
   "outputs": [],
   "source": [
    "\"\"\"Ans--\n",
    "In Python, the right shift (`>>`) and left shift (`<<`) operators are bitwise shift operators.\n",
    "They are used to shift the bits of an integer to the right or left, respectively.\n",
    "Here's an explanation of each operator along with examples:\n",
    "\n",
    "1. Right Shift Operator (`>>`):\n",
    "The right shift operator shifts the bits of a number to the right by a specified number of positions.\n",
    "It effectively divides the number by 2 for each shift to the right.\n",
    "The rightmost bit is discarded, and the leftmost bit is filled with the sign bit\n",
    "(0 for positive numbers and 1 for negative numbers).\n",
    "\n",
    "Syntax: number >> n \n",
    "example in next cell----\n",
    "\"\"\""
   ]
  },
  {
   "cell_type": "code",
   "execution_count": 3,
   "id": "c8cea694",
   "metadata": {},
   "outputs": [
    {
     "name": "stdout",
     "output_type": "stream",
     "text": [
      "2\n"
     ]
    }
   ],
   "source": [
    "x = 10  # Binary: 00001010\n",
    "result = x >> 2\n",
    "print(result)  # Output: 2 (Binary: 00000010)\n"
   ]
  },
  {
   "cell_type": "code",
   "execution_count": null,
   "id": "e08db262",
   "metadata": {},
   "outputs": [],
   "source": [
    "\"\"\"2. Left Shift Operator (`<<`):\n",
    "The left shift operator shifts the bits of a number to the left by a specified number of positions.\n",
    "It effectively multiplies the number by 2 for each shift to the left. \n",
    "The leftmost bit is discarded, and the rightmost bit is filled with zeros.\n",
    "\n",
    "Syntax: number << n\n",
    "example in next cell-\n",
    "\"\"\""
   ]
  },
  {
   "cell_type": "code",
   "execution_count": 4,
   "id": "25810501",
   "metadata": {},
   "outputs": [
    {
     "name": "stdout",
     "output_type": "stream",
     "text": [
      "40\n"
     ]
    }
   ],
   "source": [
    "x = 5  # Binary: 00000101\n",
    "result = x << 3\n",
    "print(result)  # Output: 40 (Binary: 00101000)"
   ]
  },
  {
   "cell_type": "markdown",
   "id": "de6b922c",
   "metadata": {},
   "source": [
    "##### Q.5. Create a list containing int type data of length 15. Then write a code to check if 10 is present in the list or not."
   ]
  },
  {
   "cell_type": "code",
   "execution_count": 6,
   "id": "9adf092d",
   "metadata": {},
   "outputs": [
    {
     "name": "stdout",
     "output_type": "stream",
     "text": [
      "10 is present in the list.\n"
     ]
    }
   ],
   "source": [
    "\"\"\"\n",
    "Ans---\n",
    "Here's an example code that creates a list of length 15 containing int type data and checks\n",
    "if the number 10 is present in the list:\"\"\"\n",
    "\n",
    "# Create a list of int type data\n",
    "my_list = [2, 4, 6, 8, 10, 12, 14, 16, 18, 20, 22, 24, 26, 28, 30]\n",
    "\n",
    "# Check if 10 is present in the list\n",
    "if 10 in my_list:\n",
    "    print(\"10 is present in the list.\")\n",
    "else:\n",
    "    print(\"10 is not present in the list.\")\n",
    "\n",
    "#that was the required code."
   ]
  },
  {
   "cell_type": "code",
   "execution_count": null,
   "id": "4677c61e",
   "metadata": {},
   "outputs": [],
   "source": []
  }
 ],
 "metadata": {
  "kernelspec": {
   "display_name": "Python 3 (ipykernel)",
   "language": "python",
   "name": "python3"
  },
  "language_info": {
   "codemirror_mode": {
    "name": "ipython",
    "version": 3
   },
   "file_extension": ".py",
   "mimetype": "text/x-python",
   "name": "python",
   "nbconvert_exporter": "python",
   "pygments_lexer": "ipython3",
   "version": "3.9.13"
  }
 },
 "nbformat": 4,
 "nbformat_minor": 5
}
