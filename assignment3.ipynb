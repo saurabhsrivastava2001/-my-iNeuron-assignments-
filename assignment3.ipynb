{
 "cells": [
  {
   "cell_type": "markdown",
   "id": "3294474c",
   "metadata": {},
   "source": [
    "### -------------Assignment_3-------------"
   ]
  },
  {
   "cell_type": "markdown",
   "id": "92d65270",
   "metadata": {},
   "source": [
    "1. Why are functions advantageous to have in your programs?"
   ]
  },
  {
   "cell_type": "code",
   "execution_count": null,
   "id": "0dd55f6d",
   "metadata": {},
   "outputs": [],
   "source": [
    "\"\"\"\n",
    "ANSWER----------\n",
    "\n",
    "Functions are advantageous to have in programs for several reasons:\n",
    "\n",
    "1.Code organization and reusability: Functions allow you to break down complex tasks into smaller, more manageable units.\n",
    "Functions promote code reusability since you can call the same function multiple times in different parts of your program.\n",
    "\n",
    "2.Abstraction: Functions enable you to create abstractions by hiding the implementation details of a particular task. \n",
    "This abstraction allows you to focus on the high-level logic of your program without worrying about the specific implementation\n",
    "details of individual functions.\n",
    "\n",
    "3.Code maintenance and debugging: With functions, if you encounter an issue or bug in your code,\n",
    "you can isolate the problematic function and debug it separately. \n",
    "This approach simplifies the debugging process, as you can focus on a specific part of the code rather than searching through the entire program.\n",
    "\n",
    "4.Readability and comprehension: Functions improve the readability of code by providing a way to encapsulate a specific task or behavior with a descriptive name.\n",
    "Well-designed functions with clear names and proper documentation can make the overall codebase more understandable\n",
    "and easier to comprehend for both the original developer and others who might work on the code in the future.\n",
    "\n",
    "These are few important advantages of functions in a code.\n",
    "Incorporating functions into your programs can greatly enhance their structure, flexibility, and maintainability.\n",
    "\"\"\""
   ]
  },
  {
   "cell_type": "markdown",
   "id": "7eac3741",
   "metadata": {},
   "source": [
    "2. When does the code in a function run: when it's specified or when it's called?"
   ]
  },
  {
   "cell_type": "code",
   "execution_count": null,
   "id": "2b0ecdf9",
   "metadata": {},
   "outputs": [],
   "source": [
    "\"\"\"\n",
    "Ans-\n",
    "\n",
    "Functions are defined separately from the main program logic.\n",
    "The code within a function runs when the function is called.The function definition specifies the actions or computations that \n",
    "the function should perform when it is called.\n",
    "When the program execution reaches the point where a function is called, \n",
    "the control transfers to the function code, and the instructions within the function are executed in the order they are written.\n",
    "\"\"\""
   ]
  },
  {
   "cell_type": "markdown",
   "id": "4e108683",
   "metadata": {},
   "source": [
    "3. What statement creates a function?"
   ]
  },
  {
   "cell_type": "code",
   "execution_count": null,
   "id": "9bd621b5",
   "metadata": {},
   "outputs": [],
   "source": [
    "\"\"\"\n",
    "Ans--\n",
    "In Python, the def statement is used to create a function. \n",
    "It is followed by the function name, a pair of parentheses that may contain optional parameters,and a colon to indicate the start of the function code block.\n",
    "The general syntax for creating a function in Python is as follows:\n",
    "\n",
    "def function_name(parameter1, parameter2, ...):\n",
    "    # Function code block\n",
    "    # Indentation is important to define the scope of the function\n",
    "\n",
    "    # Code statements to perform specific tasks\n",
    "    # ...\n",
    "\n",
    "    # Optional return statement\n",
    "    # ...\n",
    "\n",
    "one example is given below cell---\n",
    "\"\"\""
   ]
  },
  {
   "cell_type": "code",
   "execution_count": 2,
   "id": "718e5ccc",
   "metadata": {},
   "outputs": [
    {
     "name": "stdout",
     "output_type": "stream",
     "text": [
      "300\n"
     ]
    }
   ],
   "source": [
    "def addition(a,b):\n",
    "    result = a+b\n",
    "    return result\n",
    "call =addition(100,200)\n",
    "print(call)"
   ]
  },
  {
   "cell_type": "markdown",
   "id": "2e9955e5",
   "metadata": {},
   "source": [
    "4. What is the difference between a function and a function call?"
   ]
  },
  {
   "cell_type": "code",
   "execution_count": null,
   "id": "355b9532",
   "metadata": {},
   "outputs": [],
   "source": [
    "\"\"\"\n",
    "Ans--\n",
    "A function is a block of reusable code that performs a specific task when called,\n",
    "while a function call is the act of invoking or executing a function with specified arguments.\n",
    "The function contains the instructions, while the function call triggers the execution of those instructions.\n",
    "\n",
    "def addition(a,b):  #function \n",
    "    result = a+b\n",
    "    return result\n",
    "call =addition(100,200)  #function call\n",
    "\"\"\""
   ]
  },
  {
   "cell_type": "markdown",
   "id": "85c865d3",
   "metadata": {},
   "source": [
    "5. How many global scopes are there in a Python program? How many local scopes?"
   ]
  },
  {
   "cell_type": "code",
   "execution_count": null,
   "id": "0f71581e",
   "metadata": {},
   "outputs": [],
   "source": [
    "\"\"\"\n",
    "Ans--\n",
    "\n",
    "In a Python program, there is only one global scope. The global scope refers to the top-level scope of the program, \n",
    "outside of any function or class definitions. Variables defined in the global scope are accessible throughout the entire program.\n",
    "\n",
    "While the number of local scopes depends on the number of function calls or code blocks within the program.\n",
    "which is created when the function is called or when the code block is entered.\n",
    "\n",
    "Local scopes are temporary and exist only during the execution of the function or code block.\n",
    "\"\"\""
   ]
  },
  {
   "cell_type": "markdown",
   "id": "64fccad9",
   "metadata": {},
   "source": [
    "6. What happens to variables in a local scope when the function call returns?"
   ]
  },
  {
   "cell_type": "code",
   "execution_count": 3,
   "id": "3dac84be",
   "metadata": {},
   "outputs": [
    {
     "data": {
      "text/plain": [
       "''"
      ]
     },
     "execution_count": 3,
     "metadata": {},
     "output_type": "execute_result"
    }
   ],
   "source": [
    "\"\"\"\n",
    "Ans---\n",
    "When a function call returns in Python, the local scope associated with that function is destroyed, and the variables defined within that local scope cease to exist.\n",
    "This process is known as \"variable scope and lifetime.\"\n",
    "\n",
    "Once the function execution completes and the control returns to the calling code, the local scope is destroyed, \n",
    "and the variables within it are no longer accessible.\n",
    "\"\"\""
   ]
  },
  {
   "cell_type": "markdown",
   "id": "4fea6cec",
   "metadata": {},
   "source": [
    "7. What is the concept of a return value? Is it possible to have a return value in an expression?"
   ]
  },
  {
   "cell_type": "code",
   "execution_count": 4,
   "id": "62ce54ee",
   "metadata": {},
   "outputs": [
    {
     "data": {
      "text/plain": [
       "''"
      ]
     },
     "execution_count": 4,
     "metadata": {},
     "output_type": "execute_result"
    }
   ],
   "source": [
    "\"\"\"\n",
    "Ans--\n",
    "The concept of a return value in programming refers to the value that a function can optionally provide back to the caller.\n",
    "When a function is called, it may perform certain computations or tasks and then return a value as the result of its operation.\n",
    "The return value serves as the output of the function and can be utilized as we need.\n",
    "\n",
    "It is indeed possible to have a return value in an expression in Python.\n",
    "This means that the return value of a function can be directly used within an expression or passed as an argument to another function. \n",
    "Here's an example in the next cell:\n",
    "\"\"\""
   ]
  },
  {
   "cell_type": "code",
   "execution_count": 5,
   "id": "f9307ce0",
   "metadata": {},
   "outputs": [
    {
     "name": "stdout",
     "output_type": "stream",
     "text": [
      "26\n"
     ]
    }
   ],
   "source": [
    "def multiply(a, b):\n",
    "    return a * b\n",
    "\n",
    "result = multiply(2, 3) + multiply(4, 5)\n",
    "print(result)\n",
    "\n",
    "#In this example, the return values of the multiply() function are directly used in an expression \n",
    "#where the results of two multiplications (2 * 3 and 4 * 5) are added together, resulting in the value 26."
   ]
  },
  {
   "cell_type": "markdown",
   "id": "4c039ca1",
   "metadata": {},
   "source": [
    "8. If a function does not have a return statement, what is the return value of a call to that function?"
   ]
  },
  {
   "cell_type": "code",
   "execution_count": null,
   "id": "9b11c55e",
   "metadata": {},
   "outputs": [],
   "source": [
    "\"\"\"\n",
    "Ans-\n",
    "\n",
    "If a function in Python does not have a return statement, the return value of a call to that function is 'None'. \n",
    "'None' is a special object in Python that represents the absence of a value.\n",
    "\n",
    "Here's an example to illustrate this behavior in next cell:\n",
    "\"\"\""
   ]
  },
  {
   "cell_type": "code",
   "execution_count": 6,
   "id": "37585544",
   "metadata": {},
   "outputs": [
    {
     "name": "stdout",
     "output_type": "stream",
     "text": [
      "Doing something\n",
      "None\n"
     ]
    }
   ],
   "source": [
    "def do_something():\n",
    "    print(\"Doing something\")\n",
    "\n",
    "result = do_something()\n",
    "print(result)  \n",
    "\n",
    "# this is clear that the when the execution is done and there is no return statement \n",
    "#'None is returned we can see it when we printed it.'"
   ]
  },
  {
   "cell_type": "markdown",
   "id": "8d16ea4c",
   "metadata": {},
   "source": [
    "9. How do you make a function variable refer to the global variable?"
   ]
  },
  {
   "cell_type": "code",
   "execution_count": 7,
   "id": "0a4b3bf3",
   "metadata": {},
   "outputs": [
    {
     "data": {
      "text/plain": [
       "''"
      ]
     },
     "execution_count": 7,
     "metadata": {},
     "output_type": "execute_result"
    }
   ],
   "source": [
    "\"\"\"\n",
    "Ans--\n",
    "To make a function variable refer to a global variable in Python, you can use the global keyword within the function.\n",
    "This informs Python that the variable being referenced or modified is the one defined in the global scope, rather than creating a new local variable with the same name.\n",
    "\n",
    "example in the next cell------\n",
    "\"\"\""
   ]
  },
  {
   "cell_type": "code",
   "execution_count": 8,
   "id": "51516d2c",
   "metadata": {},
   "outputs": [
    {
     "name": "stdout",
     "output_type": "stream",
     "text": [
      "10\n",
      "20\n"
     ]
    }
   ],
   "source": [
    "x = 10  # Global variable\n",
    "\n",
    "def modify_global():\n",
    "    global x  # Use the global keyword to access the global variable\n",
    "    x = 20   # Modify the global variable\n",
    "\n",
    "print(x)  # Output: 10\n",
    "modify_global()\n",
    "print(x)  # Output: 20\n",
    "\n",
    "\n",
    "#By using global x, we inform Python that we are referring to the x defined in the global scope,\n",
    "# and any changes made to x within the function will affect the global variable."
   ]
  },
  {
   "cell_type": "markdown",
   "id": "5cbd3503",
   "metadata": {},
   "source": [
    "10. What is the data type of None?"
   ]
  },
  {
   "cell_type": "code",
   "execution_count": 9,
   "id": "0ab1db3c",
   "metadata": {},
   "outputs": [
    {
     "data": {
      "text/plain": [
       "''"
      ]
     },
     "execution_count": 9,
     "metadata": {},
     "output_type": "execute_result"
    }
   ],
   "source": [
    "\"\"\"\n",
    "Ans--\n",
    "\n",
    "The data type of 'None' in Python is called \"NoneType\". It is a special data type that represents the absence or lack of a value.\n",
    "'None' is often used as a placeholder or to indicate that a variable or function does not return any meaningful value.\n",
    "\n",
    "The 'NoneType' has a single instance, which is the 'None' object.\n",
    "It is falsy in boolean context, meaning it evaluates to 'False' when used in conditional statements.\n",
    "\n",
    "shown in the next cell\"\"\""
   ]
  },
  {
   "cell_type": "code",
   "execution_count": 10,
   "id": "000f7eaf",
   "metadata": {},
   "outputs": [
    {
     "name": "stdout",
     "output_type": "stream",
     "text": [
      "<class 'NoneType'>\n"
     ]
    }
   ],
   "source": [
    "result=None\n",
    "print(type(result))"
   ]
  },
  {
   "cell_type": "markdown",
   "id": "50489ad5",
   "metadata": {},
   "source": [
    "11.What does the sentence import areallyourpetsnamederic do?"
   ]
  },
  {
   "cell_type": "code",
   "execution_count": null,
   "id": "b24d3b9b",
   "metadata": {},
   "outputs": [],
   "source": [
    "\"\"\"\n",
    "Ans---The sentence import areallyourpetsnamederic does not have any inherent meaning in the Python programming language. \n",
    "It is not a valid import statement, as areallyourpetsnamederic is not a recognized Python module or package.\n",
    "\n",
    "The sentence import areallyourpetsnamederic would typically result in a ModuleNotFoundError in Python,\n",
    "indicating that the module named areallyourpetsnamederic could not be found or does not exist.\n",
    "shown below:\n",
    "\"\"\""
   ]
  },
  {
   "cell_type": "code",
   "execution_count": 12,
   "id": "7021fde4",
   "metadata": {},
   "outputs": [
    {
     "ename": "ModuleNotFoundError",
     "evalue": "No module named 'areallyourpetsnamederic'",
     "output_type": "error",
     "traceback": [
      "\u001b[1;31m---------------------------------------------------------------------------\u001b[0m",
      "\u001b[1;31mModuleNotFoundError\u001b[0m                       Traceback (most recent call last)",
      "\u001b[1;32m~\\AppData\\Local\\Temp\\ipykernel_5000\\51184242.py\u001b[0m in \u001b[0;36m<module>\u001b[1;34m\u001b[0m\n\u001b[1;32m----> 1\u001b[1;33m \u001b[1;32mimport\u001b[0m \u001b[0mareallyourpetsnamederic\u001b[0m\u001b[1;33m\u001b[0m\u001b[1;33m\u001b[0m\u001b[0m\n\u001b[0m",
      "\u001b[1;31mModuleNotFoundError\u001b[0m: No module named 'areallyourpetsnamederic'"
     ]
    }
   ],
   "source": [
    "import areallyourpetsnamederic"
   ]
  },
  {
   "cell_type": "markdown",
   "id": "abc8e6ba",
   "metadata": {},
   "source": [
    "12. If you had a bacon() feature in a spam module, what would you call it after importing spam?"
   ]
  },
  {
   "cell_type": "code",
   "execution_count": null,
   "id": "8387bf30",
   "metadata": {},
   "outputs": [],
   "source": [
    "\"\"\"\n",
    "Ans---\n",
    "\n",
    "After importing the spam module in Python, you can access the bacon() feature by using the dot notation,\n",
    "which allows you to reference objects within the module.\n",
    "\n",
    "import spam\n",
    "spam.bacon()\n",
    "In this example, the spam module is imported, and then the bacon() feature of the spam module is called using the dot notation: spam.bacon(). \n",
    "This syntax indicates that you want to access the bacon() function within the spam module.\"\"\""
   ]
  },
  {
   "cell_type": "markdown",
   "id": "4e0169b3",
   "metadata": {},
   "source": [
    "13. What can you do to save a programme from crashing if it encounters an error?"
   ]
  },
  {
   "cell_type": "code",
   "execution_count": 13,
   "id": "c7ca5fc0",
   "metadata": {},
   "outputs": [
    {
     "data": {
      "text/plain": [
       "''"
      ]
     },
     "execution_count": 13,
     "metadata": {},
     "output_type": "execute_result"
    }
   ],
   "source": [
    "\"\"\"\n",
    "Ans--\n",
    "\n",
    "To prevent a program from crashing when encountering an error, we can implement error handling techniques to gracefully handle exceptions. \n",
    "This can be done using the try-except statement.\n",
    "The try block is used to enclose the code that may raise an exception, and the except block is used to handle and recover from any raised exceptions.\n",
    "here is an example:\n",
    "\n",
    "\"\"\""
   ]
  },
  {
   "cell_type": "code",
   "execution_count": 14,
   "id": "2ab765e7",
   "metadata": {},
   "outputs": [
    {
     "name": "stdout",
     "output_type": "stream",
     "text": [
      "Error: Division by zero\n"
     ]
    }
   ],
   "source": [
    "#example of exception handling\n",
    "try:\n",
    "    result = 10 / 0  # Potential division by zero exception\n",
    "    print(result)  # This line will not be executed if an exception occurs\n",
    "except ZeroDivisionError:\n",
    "    print(\"Error: Division by zero\")\n",
    "    \n",
    "    #thus we can handle the eros and save the programme from crashing if it encounters an error."
   ]
  },
  {
   "cell_type": "markdown",
   "id": "64e77947",
   "metadata": {},
   "source": [
    "14. What is the purpose of the try clause? What is the purpose of the except clause?"
   ]
  },
  {
   "cell_type": "code",
   "execution_count": 15,
   "id": "1c553326",
   "metadata": {},
   "outputs": [
    {
     "data": {
      "text/plain": [
       "''"
      ]
     },
     "execution_count": 15,
     "metadata": {},
     "output_type": "execute_result"
    }
   ],
   "source": [
    "\"\"\"\n",
    "Ans---\n",
    "1......\n",
    "The purpose of the try clause in Python is to enclose the code block that may potentially raise an exception. \n",
    "It allows you to specify a section of code where you anticipate the occurrence of an exception. \n",
    "The try clause acts as a container for the code that needs error handling.\n",
    "\n",
    "2......\n",
    "The purpose of the except clause is to define the specific actions to be taken when a particular exception is raised within the corresponding try block. \n",
    "The except clause specifies the exception type(s) to catch and provides the code that will be executed if that particular exception occurs.\n",
    "It allows us to define the error handling logic for different types of exceptions.\n",
    "\n",
    "\"\"\""
   ]
  },
  {
   "cell_type": "code",
   "execution_count": null,
   "id": "40ef1928",
   "metadata": {},
   "outputs": [],
   "source": []
  }
 ],
 "metadata": {
  "kernelspec": {
   "display_name": "Python 3 (ipykernel)",
   "language": "python",
   "name": "python3"
  },
  "language_info": {
   "codemirror_mode": {
    "name": "ipython",
    "version": 3
   },
   "file_extension": ".py",
   "mimetype": "text/x-python",
   "name": "python",
   "nbconvert_exporter": "python",
   "pygments_lexer": "ipython3",
   "version": "3.9.13"
  }
 },
 "nbformat": 4,
 "nbformat_minor": 5
}
