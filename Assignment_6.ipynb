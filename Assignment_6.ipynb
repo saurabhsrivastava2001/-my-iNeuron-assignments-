{
 "cells": [
  {
   "cell_type": "markdown",
   "id": "86ccf148",
   "metadata": {},
   "source": [
    "### Assignment 6"
   ]
  },
  {
   "cell_type": "markdown",
   "id": "7c570037",
   "metadata": {},
   "source": [
    "#### Q.1. What are keywords in python? Using the keyword library, print all the python keywords."
   ]
  },
  {
   "cell_type": "code",
   "execution_count": 24,
   "id": "6ea93257",
   "metadata": {},
   "outputs": [
    {
     "name": "stdout",
     "output_type": "stream",
     "text": [
      "The Python keywords are:\n",
      " ['False', 'None', 'True', '__peg_parser__', 'and', 'as', 'assert', 'async', 'await', 'break', 'class', 'continue', 'def', 'del', 'elif', 'else', 'except', 'finally', 'for', 'from', 'global', 'if', 'import', 'in', 'is', 'lambda', 'nonlocal', 'not', 'or', 'pass', 'raise', 'return', 'try', 'while', 'with', 'yield']\n",
      "36\n"
     ]
    }
   ],
   "source": [
    "\"\"\"\n",
    "Ans--\n",
    "Keywords are reserved words in Python that have special meaning to the interpreter.\n",
    "They cannot be used as variable names or as the names of functions, classes, or modules.\n",
    "\"\"\"\n",
    "\n",
    "#Here's how we can print all the python keywords using keyword library\n",
    "#The keyword.kwlist property returns a list of all the keywords in Python.\n",
    "import keyword\n",
    "\n",
    "print(\"The Python keywords are:\\n\" , keyword.kwlist)\n",
    "\n",
    "#we got the all keywords in output\n",
    "print(len(keyword.kwlist))  #there are 36 keywords in pyhton"
   ]
  },
  {
   "cell_type": "markdown",
   "id": "6aeffc35",
   "metadata": {},
   "source": [
    "#### Q.2. What are the rules to create variables in python?"
   ]
  },
  {
   "cell_type": "code",
   "execution_count": 7,
   "id": "1a2d911e",
   "metadata": {},
   "outputs": [
    {
     "name": "stdout",
     "output_type": "stream",
     "text": [
      "\n"
     ]
    }
   ],
   "source": [
    "\"\"\"\n",
    "Ans--\n",
    "Here are the rules to create variables in Python:\n",
    "\n",
    "1. Variable names must start with a letter or the underscore character. They cannot start with a number.\n",
    "2.Variable names can only contain alpha-numeric characters and underscores.\n",
    "3.Variable names are case-sensitive. This means that name and Name are two different variables.\n",
    "4.Variable names cannot be reserved keywords. These are words that have special meaning in Python, such as if, while, and def.\n",
    "5.Variable names should be descriptive. This will make your code easier to read and understand.\n",
    "\"\"\"\n",
    "#examples-  valid variable names= total_price , _secret_variable , saurabh12 etc\n",
    "#invalid variable names= my-name,def,while etc."
   ]
  },
  {
   "cell_type": "markdown",
   "id": "d3eb7288",
   "metadata": {},
   "source": [
    "#### Q.3. What are the standards and conventions followed for the nomenclature of variables in python to improve code readability and maintainability?"
   ]
  },
  {
   "cell_type": "code",
   "execution_count": null,
   "id": "7745b2f9",
   "metadata": {},
   "outputs": [],
   "source": [
    "\"\"\"\n",
    "Ans--\n",
    "\n",
    "Here are the standards and conventions followed for the nomenclature of variables in Python to improve\n",
    "code readability and maintainability:\n",
    "\n",
    "1.\n",
    "By using descriptive names.\n",
    "The name of a variable should give you a good idea of what the variable represents. \n",
    "For example, if you have a variable that stores the user's name, you might name it user_name.\n",
    "2.\n",
    "By using lower case letters.\n",
    "Variable names in Python should be lowercase, with words separated by underscores.\n",
    "This makes the names more readable and easier to type.\n",
    "\n",
    "3.\n",
    "By avoiding using abbreviations.\n",
    "Abbreviations can be confusing, especially if they are not well-known. It is better to use the full name of the variable.\n",
    "\n",
    "4.\n",
    "Do not use special characters. Special characters, such as spaces, punctuation marks, and numbers,\n",
    "should be avoided in variable names. These characters can make the names more difficult to read and type.\n",
    "\n",
    "5.Use consistent naming conventions.\n",
    "Once we have chosen a naming convention, stick with it. This will make our code more consistent and easier to read.\n",
    "\n",
    "Here are some examples of good variable names:\n",
    "user_name\n",
    "total_price\n",
    "current_page\n",
    "product_id\n",
    "\"\"\""
   ]
  },
  {
   "cell_type": "markdown",
   "id": "8395fd6f",
   "metadata": {},
   "source": [
    "#### Q.4. What will happen if a keyword is used as a variable name?"
   ]
  },
  {
   "cell_type": "code",
   "execution_count": 11,
   "id": "8e6d3b17",
   "metadata": {},
   "outputs": [
    {
     "ename": "SyntaxError",
     "evalue": "invalid syntax (1292306680.py, line 10)",
     "output_type": "error",
     "traceback": [
      "\u001b[1;36m  File \u001b[1;32m\"C:\\Users\\prince\\AppData\\Local\\Temp\\ipykernel_2296\\1292306680.py\"\u001b[1;36m, line \u001b[1;32m10\u001b[0m\n\u001b[1;33m    def = \"srivastava\"\u001b[0m\n\u001b[1;37m        ^\u001b[0m\n\u001b[1;31mSyntaxError\u001b[0m\u001b[1;31m:\u001b[0m invalid syntax\n"
     ]
    }
   ],
   "source": [
    "\"\"\"\n",
    "Ans--\n",
    "\n",
    "If a keyword is used as a variable name, the Python interpreter will raise a SyntaxError exception, \n",
    "because keywords have special meaning in Python and cannot be used as variable names.\n",
    "\"\"\"\n",
    "#For example, the following code will raise a SyntaxError exception:\n",
    "\n",
    "name=\"saurabh\"\n",
    "def = \"srivastava\"\n",
    "#Here 'name' is accepted as a variable name but 'def' is not because it's a keyword."
   ]
  },
  {
   "cell_type": "markdown",
   "id": "fbe745d5",
   "metadata": {},
   "source": [
    "#### Q.5. For what purpose def keyword is used?"
   ]
  },
  {
   "cell_type": "code",
   "execution_count": null,
   "id": "51fce2e6",
   "metadata": {},
   "outputs": [],
   "source": [
    "\"\"\"\n",
    "\n",
    "The 'def' keyword is used to define a function.\n",
    "A function is a reusable block of code that can be called from anywhere in your program.\n",
    "syntax--\n",
    "\n",
    "def function_name(parameters):\n",
    "    statements\n",
    "\n",
    "function_name is the name of the function.\n",
    "parameters are the arguments that the function takes.\n",
    "statements are the body of the function.\n",
    "\"\"\""
   ]
  },
  {
   "cell_type": "markdown",
   "id": "cf2123d4",
   "metadata": {},
   "source": [
    "#### Q.6. What is the operation of this special character ‘\\’?"
   ]
  },
  {
   "cell_type": "code",
   "execution_count": null,
   "id": "7e1285c4",
   "metadata": {},
   "outputs": [],
   "source": [
    "\"\"\"\n",
    "Ans---\n",
    "The backslash \\ is a special character in Python that is used to escape special characters. \n",
    "An escape character is a character that tells the interpreter to treat the next character literally.\n",
    "For example, the string \\n represents a newline character.\n",
    "Here is a table of some of the escape characters in Python:\n",
    "\n",
    "Character--Meaning\n",
    "\\n  --Newline\n",
    "\\t  --Tab\n",
    "\\r  --Carriage return\n",
    "\\'  --Single quote\n",
    "\\\"  --Double quote\n",
    "\\\\  --Backslash\n",
    "\n",
    "The backslash can also be used to represent non-printing characters, \n",
    "such as the bell character (\\a) and the backspace character (\\b).\n",
    "\"\"\""
   ]
  },
  {
   "cell_type": "markdown",
   "id": "1afd1e2a",
   "metadata": {},
   "source": [
    "#### Q.7. Give an example of the following conditions:  (i) Homogeneous list         (ii) Heterogeneous set   (iii) Homogeneous tuple"
   ]
  },
  {
   "cell_type": "code",
   "execution_count": null,
   "id": "88f5e901",
   "metadata": {},
   "outputs": [],
   "source": [
    "\"\"\"\n",
    "Ans----\n",
    "(i) Homogeneous list--\n",
    "A homogeneous list is a list that contains elements of the same type. \n",
    "For example, \n",
    "list_of_integers = [1, 2, 3, 4, 5]\n",
    "The elements of the list are all integers, so the list is homogeneous.\n",
    "\n",
    "(ii) Heterogeneous set--\n",
    "A heterogeneous set is a set that contains elements of different types.\n",
    "For example, \n",
    "set_of_heterogeneous_elements = {1, \"hello\", 3.14}\n",
    "The elements of the set are an integer, a string, and a float, so the set is heterogeneous.\n",
    "\n",
    "(iii) Homogeneous tuple--\n",
    "A homogeneous tuple is a tuple that contains elements of the same type. \n",
    "For example, \n",
    "tuple_of_strings = (\"hello\", \"saurabh\", \"sriv\")\n",
    "The elements of the tuple are all strings, so the tuple is homogeneous.\n",
    "\n",
    "\"\"\""
   ]
  },
  {
   "cell_type": "markdown",
   "id": "1db3bf33",
   "metadata": {},
   "source": [
    "#### Q.8. Explain the mutable and immutable data types with proper explanation & examples."
   ]
  },
  {
   "cell_type": "code",
   "execution_count": null,
   "id": "11aa1bec",
   "metadata": {},
   "outputs": [],
   "source": [
    "\"\"\"\n",
    "Ans--\n",
    "Mutable and immutable data types in Python:\n",
    "\n",
    "1.Mutable data types\n",
    "Mutable data types can be changed or updated after they are created.\n",
    "For example, lists, dictionaries, and sets are all mutable data types.\n",
    "Immutable data types cannot be changed or updated after they are created. \n",
    "For example, strings, numbers, and tuples are all immutable data types.\n",
    "\n",
    "Here is an example of how mutable and immutable data types work:\n",
    "\"\"\"\n",
    "list_of_numbers = [1, 2, 3, 4, 5]\n",
    "\n",
    "# This changes the list\n",
    "list_of_numbers[0] = 10\n",
    "\n",
    "# This does not change the string\n",
    "string_of_characters = \"hello\"\n",
    "string_of_characters[0] = \"H\"\n",
    "\n",
    "#code explanation---\n",
    "#In the first example, the list of numbers is mutable, so we can change the value of the first element in the list. \n",
    "#In the second example,the string of characters is immutable,so we cannot change the value of the first character in the string.\n"
   ]
  },
  {
   "cell_type": "markdown",
   "id": "54c52a2b",
   "metadata": {},
   "source": [
    "#### Question 9 in below cell"
   ]
  },
  {
   "cell_type": "code",
   "execution_count": 13,
   "id": "aa2f5791",
   "metadata": {},
   "outputs": [
    {
     "name": "stdout",
     "output_type": "stream",
     "text": [
      "\n"
     ]
    }
   ],
   "source": [
    "\"\"\"\n",
    "Q.9. Write a code to create the given structure using only for loop.\n",
    "    *\n",
    "   ***\n",
    "  *****\n",
    " *******\n",
    "*********\n",
    "\"\"\""
   ]
  },
  {
   "cell_type": "code",
   "execution_count": 16,
   "id": "4abf48d8",
   "metadata": {},
   "outputs": [
    {
     "name": "stdout",
     "output_type": "stream",
     "text": [
      "          \n",
      "    *    \n",
      "   ***   \n",
      "  *****  \n",
      " ******* \n",
      "*********\n"
     ]
    }
   ],
   "source": [
    "#Ans----\n",
    "\n",
    "def pattern(n):\n",
    "    for i in range(n+1):\n",
    "        print(\" \"*(n-i) + \"*\"*(2*i-1)+\" \"*(n-i))  \n",
    "pattern(5)\n",
    "\n",
    "#Here is the required code.\n",
    "#This pattern function takes arguements as many rows are needed . \n",
    "#then we will run a for loop till range(n+1) so that it runs n times.\n",
    "#then we will print accordingly the question pattern."
   ]
  },
  {
   "cell_type": "markdown",
   "id": "164a2c91",
   "metadata": {},
   "source": [
    "#### Question 10 in below cell--"
   ]
  },
  {
   "cell_type": "code",
   "execution_count": null,
   "id": "4f18becd",
   "metadata": {},
   "outputs": [],
   "source": [
    "\"\"\"\n",
    "Q.10. Write a code to create the given structure using while loop.\n",
    "|||||||||\n",
    " |||||||\n",
    "  |||||\n",
    "   |||\n",
    "    |\n",
    "\"\"\""
   ]
  },
  {
   "cell_type": "code",
   "execution_count": 22,
   "id": "05197958",
   "metadata": {},
   "outputs": [
    {
     "name": "stdout",
     "output_type": "stream",
     "text": [
      "|||||||||\n",
      " ||||||| \n",
      "  |||||  \n",
      "   |||   \n",
      "    |    \n",
      "          \n"
     ]
    }
   ],
   "source": [
    "#Ans--\n",
    "\n",
    "def pattern1(n):\n",
    "    i=0\n",
    "    while(n>=0):\n",
    "        print (\" \"*i +\"|\"*(2*n-1) +\" \"*i)\n",
    "        n-=1\n",
    "        i+=1\n",
    "pattern1(5)\n",
    "\n",
    "#Thus the pattern has been printed."
   ]
  },
  {
   "cell_type": "code",
   "execution_count": null,
   "id": "ccd71027",
   "metadata": {},
   "outputs": [],
   "source": []
  }
 ],
 "metadata": {
  "kernelspec": {
   "display_name": "Python 3 (ipykernel)",
   "language": "python",
   "name": "python3"
  },
  "language_info": {
   "codemirror_mode": {
    "name": "ipython",
    "version": 3
   },
   "file_extension": ".py",
   "mimetype": "text/x-python",
   "name": "python",
   "nbconvert_exporter": "python",
   "pygments_lexer": "ipython3",
   "version": "3.9.13"
  }
 },
 "nbformat": 4,
 "nbformat_minor": 5
}
