{
 "cells": [
  {
   "cell_type": "markdown",
   "id": "9100c5d1",
   "metadata": {},
   "source": [
    "### 10th june python (functions Assignment-1)"
   ]
  },
  {
   "cell_type": "markdown",
   "id": "6fd62c42",
   "metadata": {},
   "source": [
    "#### 1. In Python, what is the difference between a built-in function and a user-defined function? Provide an example of each."
   ]
  },
  {
   "cell_type": "code",
   "execution_count": 4,
   "id": "5540ea92",
   "metadata": {},
   "outputs": [
    {
     "name": "stdout",
     "output_type": "stream",
     "text": [
      "12\n"
     ]
    }
   ],
   "source": [
    "\"\"\"\n",
    "Ans---\n",
    "The main difference between a built-in function and a user-defined function lies in their origins and availability.\n",
    "\n",
    "1.Built-in Functions:\n",
    "Built-in functions are functions that are provided by Python as part of its standard library. \n",
    "These functions are readily available for use without the need for any additional import or definition. \n",
    "They are implemented in the Python language itself and cover a wide range of functionalities.\n",
    "\n",
    "Example of a built-in function:\n",
    "\"\"\"\n",
    "# Using the built-in len() function to get the length of a string\n",
    "my_string = \"Hello_world!\"\n",
    "length = len(my_string)\n",
    "print(length)  # Output: 13"
   ]
  },
  {
   "cell_type": "code",
   "execution_count": 5,
   "id": "5656a26f",
   "metadata": {},
   "outputs": [
    {
     "name": "stdout",
     "output_type": "stream",
     "text": [
      "25\n"
     ]
    }
   ],
   "source": [
    "\"\"\"\n",
    "2.User-defined Functions:\n",
    "\n",
    "User-defined functions, as the name suggests, are functions that are defined by the user to perform specific tasks.\n",
    "These functions are created using the 'def' keyword followed by a unique function name and a block of code \n",
    "defining the function's behavior. User-defined functions allow for code reusability and modularization.\n",
    "\n",
    "Example of a user-defined function:\n",
    "\"\"\"\n",
    "# Defining a user-defined function to calculate the square of a number\n",
    "def square(number):\n",
    "    return number ** 2\n",
    "\n",
    "# Using the user-defined function to calculate the square of 5\n",
    "result = square(5)\n",
    "print(result)  # Output: 25\n",
    "\n",
    "\n",
    "#The key distinction between built-in and user-defined functions is that \n",
    "#built-in functions are already provided by Python, while user-defined functions are created by\n",
    "#the programmer to fulfill specific requirements."
   ]
  },
  {
   "cell_type": "markdown",
   "id": "9c7e084d",
   "metadata": {},
   "source": [
    "#### 2. How can you pass arguments to a function in Python? Explain the difference between positional arguments and keyword arguments."
   ]
  },
  {
   "cell_type": "code",
   "execution_count": 7,
   "id": "50f259bf",
   "metadata": {},
   "outputs": [
    {
     "name": "stdout",
     "output_type": "stream",
     "text": [
      "Hello Saurabh !\n",
      "You are 22 years old.\n"
     ]
    }
   ],
   "source": [
    "\"\"\"\n",
    "Ans--\n",
    "\n",
    "1.Positional Arguments:\n",
    "Positional arguments are the most basic way to pass arguments to a function.\n",
    "They are passed to a function in the order defined by the function's parameter list. \n",
    "The number and order of arguments in the function call must match the number and order of parameters in the function definition.\n",
    "Example:\n",
    "\"\"\"\n",
    "def greet(name, age):\n",
    "    print(\"Hello\", name, \"!\")\n",
    "    print(\"You are\", age, \"years old.\")\n",
    "\n",
    "greet(\"Saurabh\", 22)"
   ]
  },
  {
   "cell_type": "code",
   "execution_count": 8,
   "id": "042e1138",
   "metadata": {},
   "outputs": [
    {
     "name": "stdout",
     "output_type": "stream",
     "text": [
      "Hello Saurabh !\n",
      "You are 22 years old.\n"
     ]
    }
   ],
   "source": [
    "\"\"\"\n",
    "2.Keyword Arguments:\n",
    "Keyword arguments allow you to pass arguments to a function by specifying the parameter names explicitly \n",
    "along with their corresponding values.\n",
    "This way, the order of the arguments doesn't matter as long as you provide the parameter names.\n",
    "Example:\n",
    "\n",
    "\"\"\"\n",
    "def greet(name, age):\n",
    "    print(\"Hello\", name, \"!\")\n",
    "    print(\"You are\", age, \"years old.\")\n",
    "\n",
    "greet(age=22, name=\"Saurabh\")"
   ]
  },
  {
   "cell_type": "markdown",
   "id": "f4da477b",
   "metadata": {},
   "source": [
    "#### 3. What is the purpose of the return statement in a function? Can a function have multiple return statements? Explain with an example."
   ]
  },
  {
   "cell_type": "code",
   "execution_count": 9,
   "id": "d853755b",
   "metadata": {},
   "outputs": [
    {
     "name": "stdout",
     "output_type": "stream",
     "text": [
      " the number is even\n"
     ]
    }
   ],
   "source": [
    "\"\"\"\n",
    "Ans--\n",
    "The purpose of the return statement in a function is to specify the value that should be returned by\n",
    "the function when it is called. It allows a function to calculate a result or perform some operations and then\n",
    "provide that result back to the caller.\n",
    "\n",
    "A function can indeed have multiple return statements.\n",
    "However, once a return statement is executed, the function immediately exits, and the control is returned to the caller. \n",
    "Therefore, only one return statement is executed during the function's execution.\n",
    "Here's an example to illustrate the use of the return statement and multiple return statements:\n",
    "\"\"\"\n",
    "\n",
    "def Even_or_odd(num):\n",
    "    if (num%2==0):\n",
    "        return \" the number is even\"\n",
    "    if(num%2)!=0:\n",
    "        return \"the number is odd\"\n",
    "ans= Even_or_odd(232)\n",
    "print (ans)\n",
    "\n",
    "#thus it had two return statements . When any of them is executed the function call is over and the control is returned to the caller. \n"
   ]
  },
  {
   "cell_type": "markdown",
   "id": "b9f311a2",
   "metadata": {},
   "source": [
    "#### 4. What are lambda functions in Python? How are they different from regular functions? Provide an example where a lambda function can be useful."
   ]
  },
  {
   "cell_type": "code",
   "execution_count": 10,
   "id": "3e0206b6",
   "metadata": {},
   "outputs": [
    {
     "name": "stdout",
     "output_type": "stream",
     "text": [
      "['Alice', 'Bob', 'Charlie', 'Dave', 'Ram', 'saurabh']\n",
      "done\n"
     ]
    }
   ],
   "source": [
    "\"\"\"\n",
    "Ans--\n",
    "\n",
    "Lambda functions, also known as anonymous functions, are small and anonymous functions in Python.\n",
    "They are defined using the lambda keyword and are typically used for one-time, simple, and concise operations.\n",
    "Lambda functions can take any number of arguments but can only have a single expression.\n",
    "\n",
    "Here's the general syntax of a lambda function:\n",
    "lambda arguments: expression\n",
    "\n",
    "Lambda functions are different from regular functions in a few ways:\n",
    "1. Syntax: Lambda functions have a compact syntax and can be defined in a single line using the lambda keyword, \n",
    "whereas regular functions are defined using the def keyword and can span multiple lines.\n",
    "\n",
    "2.Namelessness: Lambda functions are anonymous, meaning they don't have a name.\n",
    "They are primarily used when you need a small function for a specific purpose and don't require\n",
    "the functionality to be reused. \n",
    "Regular functions, on the other hand, have a name and can be called by their name multiple times throughout the code.\n",
    "\n",
    "3.Expression-based: Lambda functions are limited to a single expression,which is evaluated and returned automatically.\n",
    "Regular functions can contain multiple statements and can have complex control flow.\n",
    "\"\"\"\n",
    "\n",
    "# Here's an example where a lambda function can be useful:\n",
    "\n",
    "# Sorting a list of names using a lambda function\n",
    "names = [\"Alice\", \"Bob\", \"Charlie\",\"saurabh\", \"Ram\", \"Dave\"]\n",
    "sorted_names = sorted(names, key=lambda x: x.lower())\n",
    "print(sorted_names)\n",
    "\n",
    "\"\"\" explanaton:\n",
    "\n",
    "In this example, the sorted() function is used to sort a list of names. \n",
    "The key parameter is provided with a lambda function lambda x: x.lower().\n",
    "This lambda function takes each name x, converts it to lowercase using the lower() method, and returns the result.\n",
    "By using this lambda function as the key, the sorted() function performs a case-insensitive sort.\"\"\"\n",
    "print(\"done\")\n"
   ]
  },
  {
   "cell_type": "markdown",
   "id": "718d4de8",
   "metadata": {},
   "source": [
    "#### 5. How does the concept of \"scope\" apply to functions in Python? Explain the difference between local scope and global scope."
   ]
  },
  {
   "cell_type": "code",
   "execution_count": 11,
   "id": "7b234f4f",
   "metadata": {},
   "outputs": [
    {
     "name": "stdout",
     "output_type": "stream",
     "text": [
      "10\n"
     ]
    },
    {
     "ename": "NameError",
     "evalue": "name 'x' is not defined",
     "output_type": "error",
     "traceback": [
      "\u001b[1;31m---------------------------------------------------------------------------\u001b[0m",
      "\u001b[1;31mNameError\u001b[0m                                 Traceback (most recent call last)",
      "\u001b[1;32m~\\AppData\\Local\\Temp\\ipykernel_808\\4274642567.py\u001b[0m in \u001b[0;36m<module>\u001b[1;34m\u001b[0m\n\u001b[0;32m     18\u001b[0m     \u001b[0mprint\u001b[0m \u001b[1;33m(\u001b[0m\u001b[0mx\u001b[0m\u001b[1;33m)\u001b[0m\u001b[1;33m\u001b[0m\u001b[1;33m\u001b[0m\u001b[0m\n\u001b[0;32m     19\u001b[0m \u001b[0mtest\u001b[0m\u001b[1;33m(\u001b[0m\u001b[1;33m)\u001b[0m\u001b[1;33m\u001b[0m\u001b[1;33m\u001b[0m\u001b[0m\n\u001b[1;32m---> 20\u001b[1;33m \u001b[0mprint\u001b[0m \u001b[1;33m(\u001b[0m\u001b[0mx\u001b[0m\u001b[1;33m)\u001b[0m  \u001b[1;31m# it gives NameError as x is not accessible out of the function and the print(x) doesn't recognises x(local variable).\u001b[0m\u001b[1;33m\u001b[0m\u001b[1;33m\u001b[0m\u001b[0m\n\u001b[0m",
      "\u001b[1;31mNameError\u001b[0m: name 'x' is not defined"
     ]
    }
   ],
   "source": [
    "\"\"\"\n",
    "Ans--\n",
    "The main concept of \"scope\" refers to the region or context in which a variable can be accessed.\n",
    "It determines the lifetime and visibility of variables within a program.\n",
    "\n",
    "The difefrence between local and global scope:\n",
    "\n",
    "1.Local Scope:\n",
    "Local scope refers to the scope within a function.\n",
    "Variables defined inside a function have local scope, meaning they are only accessible within that function.\n",
    "Local variables are created when the function is called and are destroyed when the execution of function is done.\n",
    "\"\"\"\n",
    "\n",
    "#example:\n",
    "\n",
    "def test ():\n",
    "    x=10\n",
    "    print (x)\n",
    "test()\n",
    "print (x)  # it gives NameError as x is not accessible out of the function and the print(x) doesn't recognises x(local variable).\n"
   ]
  },
  {
   "cell_type": "code",
   "execution_count": 12,
   "id": "724425d8",
   "metadata": {},
   "outputs": [
    {
     "name": "stdout",
     "output_type": "stream",
     "text": [
      "10\n",
      "10\n"
     ]
    }
   ],
   "source": [
    "\"\"\"\n",
    "2.Global Scope:\n",
    "Global scope refers to the outermost scope in a program,outside of any function or class.\n",
    "Variables defined outside of any function or class have global scope, \n",
    "meaning they can be accessed from anywhere within the program, including inside any functions.\n",
    "Example:\n",
    "\"\"\"\n",
    "x = 10  # Global variable\n",
    "\n",
    "def my_function():\n",
    "    print(x)\n",
    "\n",
    "my_function()\n",
    "print(x)"
   ]
  },
  {
   "cell_type": "code",
   "execution_count": 14,
   "id": "7efefdba",
   "metadata": {},
   "outputs": [
    {
     "name": "stdout",
     "output_type": "stream",
     "text": [
      "20\n"
     ]
    }
   ],
   "source": [
    "\"\"\"\n",
    "However, if we want to assign a new value to a global variable within a function, we need to use the global keyword to explicitly declare it as a global variable.\n",
    "Example:\n",
    "\"\"\"\n",
    "x = 10  # Global variable\n",
    "\n",
    "def my_function():\n",
    "    global x\n",
    "    x = 20\n",
    "\n",
    "my_function()\n",
    "print(x)  # Output: 20"
   ]
  },
  {
   "cell_type": "markdown",
   "id": "4ef5c29f",
   "metadata": {},
   "source": [
    "#### 6. How can you use the \"return\" statement in a Python function to return multiple values?"
   ]
  },
  {
   "cell_type": "code",
   "execution_count": 15,
   "id": "ab29865f",
   "metadata": {},
   "outputs": [
    {
     "name": "stdout",
     "output_type": "stream",
     "text": [
      "('saurabh', 22, 'srisaurabh2001@gmail.com')\n"
     ]
    }
   ],
   "source": [
    "\"\"\"\n",
    "Ans--\n",
    "We can use the return statement in a function to return multiple values by returning them as\n",
    "a tuple, list, or any other iterable object.\n",
    "the first way:\n",
    "1. Returning as a Tuple:\n",
    "we can use the return statement to return multiple values in the form of a tuple. \n",
    "The values to be returned are separated by commas.\n",
    "as shoen below in the example :\n",
    "\"\"\"\n",
    "def my_info():\n",
    "    name=\"saurabh\"\n",
    "    age=22\n",
    "    email_id=\"srisaurabh2001@gmail.com\"\n",
    "    return name,age,email_id\n",
    "info=my_info()\n",
    "print (info)\n"
   ]
  },
  {
   "cell_type": "code",
   "execution_count": 16,
   "id": "e6e954c7",
   "metadata": {},
   "outputs": [
    {
     "name": "stdout",
     "output_type": "stream",
     "text": [
      "['saurabh', 22, 'srisaurabh2001@gmail.com']\n"
     ]
    }
   ],
   "source": [
    "#2. returning as a list:\n",
    "def my_info():\n",
    "    name=\"saurabh\"\n",
    "    age=22\n",
    "    email_id=\"srisaurabh2001@gmail.com\"\n",
    "    return [name,age,email_id]\n",
    "info=my_info()\n",
    "print (info)\n"
   ]
  },
  {
   "cell_type": "code",
   "execution_count": 17,
   "id": "4aed7bc8",
   "metadata": {},
   "outputs": [
    {
     "name": "stdout",
     "output_type": "stream",
     "text": [
      "{'science', 'english', 'socials', 'maths'}\n"
     ]
    }
   ],
   "source": [
    "# 3.retuning as an iterable object(like as a dictionary)\n",
    "def my_info():\n",
    "    subjects={\"maths\", \"science\",\"english\",\"socials\"}\n",
    "    return subjects\n",
    "info=my_info()\n",
    "print (info)\n",
    "\n",
    "#we can iterate through and get the values if wanted seperately.\n",
    "#these were few main ways in which we can return multiple values from a return statement of a function."
   ]
  },
  {
   "cell_type": "markdown",
   "id": "9780b60c",
   "metadata": {},
   "source": [
    "#### 7.What is the difference between the \"pass by value\" and \"pass by reference\" concepts when it comes to function arguments in Python?"
   ]
  },
  {
   "cell_type": "code",
   "execution_count": 18,
   "id": "aec73aee",
   "metadata": {},
   "outputs": [
    {
     "name": "stdout",
     "output_type": "stream",
     "text": [
      "The value of x before the function call is: 10\n",
      "The value of y before the function call is: 10\n",
      "The value of x inside the function is: 11\n",
      "The value of y[0] inside the function is: 11\n",
      "The value of x after the function call is: 10\n",
      "The value of y[0] after the function call is: 11\n"
     ]
    }
   ],
   "source": [
    "\"\"\"\n",
    "Ans-----\n",
    "pass by value exists in python but  pass by object refernce is usually understood as pass by reference.\n",
    "This means that when you pass a variable to a function, you are not actually passing the value of the variable,\n",
    "but rather a reference to the object that the variable points to.\n",
    "\n",
    "(usually pass by object reference is used with mutable objects / variables)\n",
    "\n",
    "*** explained more and widely in below cells****\n",
    "\n",
    "The difference between pass by value and pass by object reference can be seen in the following code:\"\"\"\n",
    "def change_value(x):\n",
    "    x = x + 1\n",
    "    print(\"The value of x inside the function is:\", x)\n",
    "\n",
    "def change_reference(y):\n",
    "    y[0] = y[0] + 1\n",
    "    print(\"The value of y[0] inside the function is:\", y[0])\n",
    "\n",
    "x = 10\n",
    "y = [10]\n",
    "\n",
    "print(\"The value of x before the function call is:\", x)\n",
    "print(\"The value of y before the function call is:\", y[0])\n",
    "\n",
    "change_value(x)\n",
    "change_reference(y)\n",
    "\n",
    "print(\"The value of x after the function call is:\", x)\n",
    "print(\"The value of y[0] after the function call is:\", y[0])"
   ]
  },
  {
   "cell_type": "code",
   "execution_count": 20,
   "id": "6d7f9341",
   "metadata": {},
   "outputs": [
    {
     "name": "stdout",
     "output_type": "stream",
     "text": [
      "\n"
     ]
    }
   ],
   "source": [
    "\"\"\"\n",
    "In the change_value() function, the value of x is passed by value. \n",
    "This means that a copy of the value of x is created inside the function, and the function can only modify the copy. \n",
    "The original value of x is not changed.\n",
    "\n",
    "In the change_reference() function, the reference to y is passed by object reference. \n",
    "This means that the function has access to the actual object that y points to. \n",
    "The function can modify the object that y points to, and the changes will be reflected in the original variable y.\n",
    "\n",
    "In general, pass by object reference is more efficient than pass by value. \n",
    "This is because the function does not have to create a copy of the object that is being passed to it. \n",
    "However, \n",
    "pass by object reference can also be more dangerous,\n",
    "because the function can modify the object that is being passed to it.\n",
    "\"\"\"\n"
   ]
  },
  {
   "cell_type": "markdown",
   "id": "810f2d7b",
   "metadata": {},
   "source": [
    "#### Q-8 Create a function that can intake integer or decimal value and do following operations:\n",
    "a. Logarithmic function (log x)\n",
    "\n",
    "b. Exponential function (exp(x))\n",
    "\n",
    "c. Power function with base 2 (2 power\n",
    "x\n",
    ")\n",
    "\n",
    "d. Square root"
   ]
  },
  {
   "cell_type": "code",
   "execution_count": 21,
   "id": "ca0ff0fc",
   "metadata": {},
   "outputs": [
    {
     "name": "stdout",
     "output_type": "stream",
     "text": [
      "2.302585092994046\n"
     ]
    }
   ],
   "source": [
    "#Ans--- a. Creating a logarithmic function (log x)\n",
    "\n",
    "import math\n",
    "\n",
    "def logarithmic_function(x):\n",
    "    result = math.log(x)\n",
    "    return result\n",
    "res= logarithmic_function(10)\n",
    "print (res)\n",
    "\n",
    "#it does log of the given number with base e."
   ]
  },
  {
   "cell_type": "code",
   "execution_count": 22,
   "id": "6cbef69f",
   "metadata": {},
   "outputs": [
    {
     "name": "stdout",
     "output_type": "stream",
     "text": [
      "7.38905609893065\n"
     ]
    }
   ],
   "source": [
    "#b.Creating an Exponential function (exp(x))\n",
    "import math\n",
    "\n",
    "def calculate_exponential(x):\n",
    "    result = math.exp(x)\n",
    "    return result\n",
    "res=calculate_exponential(2)\n",
    "print(res)"
   ]
  },
  {
   "cell_type": "code",
   "execution_count": 23,
   "id": "2905e347",
   "metadata": {},
   "outputs": [
    {
     "name": "stdout",
     "output_type": "stream",
     "text": [
      "32.0\n"
     ]
    }
   ],
   "source": [
    "#c. Power function with base 2 (2 power x)\n",
    "def calculate_power_of_two(x):\n",
    "    try:\n",
    "        result = 2 ** float(x)\n",
    "        return result\n",
    "    except ValueError:\n",
    "        return \"Invalid input. Please provide a valid number.\"\n",
    "res=calculate_power_of_two(5)\n",
    "print (res)\n",
    "    \n",
    "#the try and expect block is used  because if anyone gives input thats not numeric like 'str' it will cause error\n"
   ]
  },
  {
   "cell_type": "code",
   "execution_count": 24,
   "id": "627dc4f9",
   "metadata": {},
   "outputs": [
    {
     "name": "stdout",
     "output_type": "stream",
     "text": [
      "2.0\n"
     ]
    }
   ],
   "source": [
    "#d.square root---\n",
    "#Python function that can take an integer or decimal value and calculate its square root using the math.sqrt() function:\n",
    "import math\n",
    "\n",
    "def calculate_square_root(number):\n",
    "    return math.sqrt(number)\n",
    "res=calculate_square_root(4)\n",
    "print(res)"
   ]
  },
  {
   "cell_type": "markdown",
   "id": "1716b3a4",
   "metadata": {},
   "source": [
    "#### 9. Create a function that takes a full name as an argument and returns first name and last name."
   ]
  },
  {
   "cell_type": "code",
   "execution_count": 25,
   "id": "359934af",
   "metadata": {},
   "outputs": [
    {
     "name": "stdout",
     "output_type": "stream",
     "text": [
      "First Name: Saurabh\n",
      "Last Name: Srivastava\n"
     ]
    }
   ],
   "source": [
    "# here's a python function that takes a full name as arguement and returns the first name and last name resp.:\n",
    "\n",
    "def get_first_and_last_name(full_name):  \n",
    "    names = full_name.split()\n",
    "    first_name = names[0]\n",
    "    last_name = names[-1] # negetive index is used beacuse it may have middle name.\n",
    "    return first_name, last_name\n",
    "\n",
    "full_name = \"Saurabh Srivastava\"\n",
    "first_name, last_name = get_first_and_last_name(full_name)    #function call\n",
    "print(\"First Name:\", first_name)  # Output: First Name: Saurabh\n",
    "print(\"Last Name:\", last_name)    # Output: Last Name: Srivastava\n",
    "\n",
    "#This function splits the full name and extracts the first and last names, which are then printed separately."
   ]
  }
 ],
 "metadata": {
  "kernelspec": {
   "display_name": "Python 3 (ipykernel)",
   "language": "python",
   "name": "python3"
  },
  "language_info": {
   "codemirror_mode": {
    "name": "ipython",
    "version": 3
   },
   "file_extension": ".py",
   "mimetype": "text/x-python",
   "name": "python",
   "nbconvert_exporter": "python",
   "pygments_lexer": "ipython3",
   "version": "3.9.13"
  }
 },
 "nbformat": 4,
 "nbformat_minor": 5
}
