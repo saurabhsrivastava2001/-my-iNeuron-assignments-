{
 "cells": [
  {
   "attachments": {},
   "cell_type": "markdown",
   "id": "19508ce7-c7fb-4d0a-ae29-da857cc77944",
   "metadata": {},
   "source": [
    "                     ASSIGNMENT -1"
   ]
  },
  {
   "attachments": {},
   "cell_type": "markdown",
   "id": "6269e5f2-9cd7-4d34-bba3-eeae88bf4fe4",
   "metadata": {},
   "source": [
    "1. In the below elements which of them are values or an expression? eg:- values can be integer or string and expressions will be mathematical operators.\n"
   ]
  },
  {
   "cell_type": "raw",
   "id": "58169498-04cd-499d-b1c3-555b1e47e7fc",
   "metadata": {},
   "source": [
    "\n",
    "*  'hello'  -87.8  -  /  +  6\n",
    "\n",
    "ans: \n",
    "    values = 'hello' , -87.8 , 6\n",
    "    expression= *  , - , / , +  "
   ]
  },
  {
   "attachments": {},
   "cell_type": "markdown",
   "id": "37a28eed-9d10-4fc2-bb6f-97f366d3ad57",
   "metadata": {},
   "source": [
    "2. What is the difference between string and variable?"
   ]
  },
  {
   "cell_type": "raw",
   "id": "711b80ff-0b94-4a55-8cac-d2ecb2bac8c8",
   "metadata": {},
   "source": [
    "\n",
    "ans= \n",
    " String and variable are two different things.\n",
    " Srting is a primitive data type which is a collection of alphabetical and special characters. IN python if we put any    value inside quotes it is of string type  eg = \"saurabh\" , \"sau-rabh\" , \"122\" .\n",
    " whereas,\n",
    " Variables are the name of the memory loacation we use to store data."
   ]
  },
  {
   "attachments": {},
   "cell_type": "markdown",
   "id": "a5042ecb-2b6c-4f93-8fe6-9ca0c2eb9608",
   "metadata": {},
   "source": [
    "3. Describe three different data types."
   ]
  },
  {
   "cell_type": "raw",
   "id": "0769f0cf-f254-43dd-90e4-3ea7dcf0446d",
   "metadata": {},
   "source": [
    "ans= \n",
    "There are many data types , \n",
    "Three of them are:\n",
    "Numeric data types: int, float, complex.\n",
    "String data types: str.\n",
    "Sequence types: list, tuple, range."
   ]
  },
  {
   "attachments": {},
   "cell_type": "markdown",
   "id": "9bc94c1b-8ed7-433f-a97b-1e6258e9d1b4",
   "metadata": {},
   "source": [
    "4. What is an expression made up of? What do all expressions do?"
   ]
  },
  {
   "cell_type": "raw",
   "id": "18b167c9-ddfb-45d6-99f1-6b6de5cf4071",
   "metadata": {},
   "source": [
    "ans=\n",
    " Expressions are made up of operators and operands.\n",
    " Expressions produce some value or result after bring interpreted by the interpreter."
   ]
  },
  {
   "attachments": {},
   "cell_type": "markdown",
   "id": "0843f190-4ad0-4e47-a5cb-3cba6dddb367",
   "metadata": {},
   "source": [
    "5. This assignment statements, like spam = 10. What is the difference between an\n",
    "expression and a statement?"
   ]
  },
  {
   "cell_type": "raw",
   "id": "3e3a9eea-7214-44f1-b3dd-1bd779410fa4",
   "metadata": {},
   "source": [
    "ans =\n",
    "As stated ,expressions are made up of operators and operands. They produce some value or result .\n",
    "like  2+2-11+22*2\n",
    "this is combination of arithetical operators and numerics , on which these are being operated and this expression result  37 .\n",
    "whereas,\n",
    " A statement is a line of code that performs an action or a set of actions. It is a unit of execution that instructs the interpreter to carry out a specific task.\n",
    " these are many types of statement in pyhton like :\n",
    " Assignment statement .\n",
    " expression statement .\n",
    " conditional statement .\n",
    " loop statement .\n",
    " function definition statement. \n",
    " class definition statement . \n",
    " as per the example spam =10 , is a assignment statement."
   ]
  },
  {
   "attachments": {},
   "cell_type": "markdown",
   "id": "06ac162a-8bb2-40a7-9ee2-d5911d3b4669",
   "metadata": {},
   "source": [
    "6. After running the following code, what does the variable bacon contain?\n",
    "\n",
    "bacon = 22\n",
    "\n",
    "bacon + 1"
   ]
  },
  {
   "cell_type": "raw",
   "id": "9fbfee3c-417e-4342-9f87-3b46712313cc",
   "metadata": {},
   "source": [
    "ans=\n",
    "the answer will be 23 . as shown below"
   ]
  },
  {
   "cell_type": "code",
   "execution_count": 12,
   "id": "500ca225-c141-49d5-8ec3-f1285a784075",
   "metadata": {},
   "outputs": [
    {
     "data": {
      "text/plain": [
       "23"
      ]
     },
     "execution_count": 12,
     "metadata": {},
     "output_type": "execute_result"
    }
   ],
   "source": [
    "bacon=22\n",
    "bacon +1"
   ]
  },
  {
   "attachments": {},
   "cell_type": "markdown",
   "id": "991f3441-0b24-4a54-88ef-7a1151933e82",
   "metadata": {},
   "source": [
    "7. What should the values of the following two terms be?\n",
    "\n",
    "'spam' + 'spamspam'\n",
    "\n",
    "'spam'*3"
   ]
  },
  {
   "cell_type": "raw",
   "id": "71f17f23-a68f-4dc5-82df-07624da5746d",
   "metadata": {},
   "source": [
    "ans=\n",
    " the value of both will be same as = 'spamspamspam'\n",
    "    as shown below"
   ]
  },
  {
   "cell_type": "code",
   "execution_count": 13,
   "id": "e190160a-6b25-4e52-bd2a-43a87832b998",
   "metadata": {},
   "outputs": [
    {
     "data": {
      "text/plain": [
       "'spamspamspam'"
      ]
     },
     "execution_count": 13,
     "metadata": {},
     "output_type": "execute_result"
    }
   ],
   "source": [
    "'spam'+'spamspam'"
   ]
  },
  {
   "cell_type": "code",
   "execution_count": 14,
   "id": "47f28261-ca0a-47cd-baf4-8c571f35b146",
   "metadata": {},
   "outputs": [
    {
     "data": {
      "text/plain": [
       "'spamspamspam'"
      ]
     },
     "execution_count": 14,
     "metadata": {},
     "output_type": "execute_result"
    }
   ],
   "source": [
    "'spam'*3"
   ]
  },
  {
   "attachments": {},
   "cell_type": "markdown",
   "id": "750dcc1f-7f36-4335-8391-5e0d89ca67b6",
   "metadata": {},
   "source": [
    "8. Why is eggs a valid variable name while 100 is invalid?"
   ]
  },
  {
   "cell_type": "raw",
   "id": "c2dabca9-18f6-4cbb-b027-73f350d1ee92",
   "metadata": {},
   "source": [
    "ans=\n",
    "In Python, variable names must follow certain rules and conventions. Here are the reasons why \"eggs\" is a valid variable name while \"100\" is invalid:\n",
    "\n",
    "Naming Convention: According to Python's naming convention, variable names should start with a letter (a-z, A-Z) or an underscore (_). They can be followed by letters, digits (0-9), or underscores. Variable names cannot start with a digit. Since \"eggs\" starts with a letter, it adheres to the naming convention and is considered a valid variable name."
   ]
  },
  {
   "attachments": {},
   "cell_type": "markdown",
   "id": "b5047549-54c1-4462-beba-556863e4157b",
   "metadata": {},
   "source": [
    "9. What three functions can be used to get the integer, floating-point number, or string\n",
    "version of a value?"
   ]
  },
  {
   "cell_type": "raw",
   "id": "10027f7a-c450-4fe5-a726-60418ca72947",
   "metadata": {},
   "source": [
    "ans:\n",
    "In Python, we can use the following three functions to convert a value to its integer, floating-point number, or string version:\n",
    "1.int(): int () function is used to convert a value to an integer. It takes a parameter and returns an integer version of the value if possible. example:\n",
    "num = int(\"11\")\n",
    "print(num)  # Output: 11\n",
    "\n",
    "\n",
    "str(): This str() function is used to convert a value to a string. It takes a parameter and returns a string version of the value. example:\n",
    "num = 42\n",
    "string_num = str(num)\n",
    "print(string_num)  # Output: \"42\"\n",
    "\n",
    "\n",
    "float(): This flote() function is used to convert a value to a floating-point number. It takes a parameter and returns a floating-point version of the value if possible. example:\n",
    "num = float(\"3.14\")\n",
    "print(num)  # Output: 3.14"
   ]
  },
  {
   "attachments": {},
   "cell_type": "markdown",
   "id": "815aaf19-0d2c-4a40-a784-0c419b6951bd",
   "metadata": {},
   "source": [
    "10. Why does this expression cause an error? How can you fix it?\n",
    "\n",
    "'I have eaten' + 99 + ' burritos'"
   ]
  },
  {
   "cell_type": "raw",
   "id": "57c67006-91ba-4629-957d-392542a0d493",
   "metadata": {},
   "source": [
    "ans=\n",
    "this code is giving error becauese we can only concatenate string to string ( not int ) .\n",
    "we can fix it to make 99 as a string :\n",
    "\n",
    "the expression now will look like:\n",
    " 'I have eaten ' + '99' + ' burritos'\n",
    " #output - 'I have eaten 99 burritos'\n",
    " as shown below"
   ]
  },
  {
   "cell_type": "code",
   "execution_count": 18,
   "id": "65467537-86d9-483a-96cf-758bba140ee1",
   "metadata": {},
   "outputs": [
    {
     "data": {
      "text/plain": [
       "'I have eaten 99 burritos'"
      ]
     },
     "execution_count": 18,
     "metadata": {},
     "output_type": "execute_result"
    }
   ],
   "source": [
    " 'I have eaten ' + '99' + ' burritos'"
   ]
  },
  {
   "cell_type": "code",
   "execution_count": null,
   "id": "ba29114b-36ec-4b96-b914-48c98bc815c2",
   "metadata": {},
   "outputs": [],
   "source": []
  }
 ],
 "metadata": {
  "kernelspec": {
   "display_name": "Python 3 (ipykernel)",
   "language": "python",
   "name": "python3"
  },
  "language_info": {
   "codemirror_mode": {
    "name": "ipython",
    "version": 3
   },
   "file_extension": ".py",
   "mimetype": "text/x-python",
   "name": "python",
   "nbconvert_exporter": "python",
   "pygments_lexer": "ipython3",
   "version": "3.10.6"
  }
 },
 "nbformat": 4,
 "nbformat_minor": 5
}
