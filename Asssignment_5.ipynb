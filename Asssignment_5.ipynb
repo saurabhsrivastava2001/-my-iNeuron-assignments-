{
 "cells": [
  {
   "cell_type": "markdown",
   "id": "58a43350",
   "metadata": {},
   "source": [
    "### Assignment_5 "
   ]
  },
  {
   "cell_type": "markdown",
   "id": "ff4468f5",
   "metadata": {},
   "source": [
    "#### 1. What does an empty dictionary's code look like?"
   ]
  },
  {
   "cell_type": "code",
   "execution_count": 18,
   "id": "fb03c65a",
   "metadata": {},
   "outputs": [],
   "source": [
    "\"\"\"\n",
    "An empty dictionary is represented by a pair of curly braces with nothing inside. \n",
    "This is an example of the code for an empty dictionary:\n",
    "\"\"\"\n",
    "my_dict = {}\n"
   ]
  },
  {
   "cell_type": "markdown",
   "id": "45a51684",
   "metadata": {},
   "source": [
    "#### 2. What is the value of a dictionary value with the key 'foo' and the value 42?"
   ]
  },
  {
   "cell_type": "code",
   "execution_count": 19,
   "id": "de1ca2f7",
   "metadata": {},
   "outputs": [
    {
     "name": "stdout",
     "output_type": "stream",
     "text": [
      "42\n"
     ]
    }
   ],
   "source": [
    "\"\"\"\n",
    "\n",
    "The value of a dictionary with the key 'foo' and the value 42 would be 42.\n",
    "Dictionary values are accessed using their corresponding keys.\n",
    "This iss an example of how we can access the value of 'foo' in a dictionary:\n",
    "\"\"\"\n",
    "my_dict = {'foo': 42}\n",
    "value = my_dict['foo']\n",
    "print(value)  # Output: 42"
   ]
  },
  {
   "cell_type": "markdown",
   "id": "50c0496e",
   "metadata": {},
   "source": [
    "#### 3. What is the most significant distinction between a dictionary and a list?"
   ]
  },
  {
   "cell_type": "code",
   "execution_count": null,
   "id": "f969c24c",
   "metadata": {},
   "outputs": [],
   "source": [
    "\"\"\"\n",
    "Ans--\n",
    "The most significant distinction between a dictionary and a list is their structure and the way they store data.\n",
    "\n",
    "1.structure wise-----\n",
    "\n",
    "List: A list is an ordered collection of elements.\n",
    "It maintains the order in which elements are added and allows duplicate values.\n",
    "Each element in a list is assigned an index based on its position, starting from 0 ,thus they can be accessed using indexes.\n",
    "whereas,\n",
    "Dictionary: A dictionary is an unordered collection of key-value pairs.\n",
    "It does not maintain any specific order for the elements.\n",
    "Instead of indexes, dictionary elements are accessed using unique keys. \n",
    "\n",
    "2.Data storage wise----\n",
    "\n",
    "List: Lists store elements as a sequence, allowing elements of any data type.\n",
    "The elements are stored in a contiguous block of memory.\n",
    "Dictionary: Dictionaries store elements as key-value pairs. \n",
    "The keys must be unique and immutable objects (such as strings, numbers, or tuples), while the values can be of any data type.\n",
    "Dictionaries use a hash table implementation to efficiently store and retrieve values based on keys.\n",
    "\"\"\""
   ]
  },
  {
   "cell_type": "markdown",
   "id": "dbfd9174",
   "metadata": {},
   "source": [
    "#### What happens if you try to access spam['foo'] if spam is {'bar': 100}?"
   ]
  },
  {
   "cell_type": "code",
   "execution_count": 20,
   "id": "322daa26",
   "metadata": {},
   "outputs": [
    {
     "ename": "KeyError",
     "evalue": "'foo'",
     "output_type": "error",
     "traceback": [
      "\u001b[1;31m---------------------------------------------------------------------------\u001b[0m",
      "\u001b[1;31mKeyError\u001b[0m                                  Traceback (most recent call last)",
      "\u001b[1;32m~\\AppData\\Local\\Temp\\ipykernel_8372\\809582283.py\u001b[0m in \u001b[0;36m<module>\u001b[1;34m\u001b[0m\n\u001b[0;32m      8\u001b[0m \u001b[0mspam\u001b[0m\u001b[1;33m=\u001b[0m\u001b[1;33m{\u001b[0m\u001b[1;34m'bar'\u001b[0m\u001b[1;33m:\u001b[0m\u001b[1;36m100\u001b[0m\u001b[1;33m}\u001b[0m\u001b[1;33m\u001b[0m\u001b[1;33m\u001b[0m\u001b[0m\n\u001b[0;32m      9\u001b[0m \u001b[1;31m#trying to access a non-existing key 'foo'\u001b[0m\u001b[1;33m\u001b[0m\u001b[1;33m\u001b[0m\u001b[0m\n\u001b[1;32m---> 10\u001b[1;33m \u001b[0mvalue\u001b[0m\u001b[1;33m=\u001b[0m\u001b[0mspam\u001b[0m\u001b[1;33m[\u001b[0m\u001b[1;34m'foo'\u001b[0m\u001b[1;33m]\u001b[0m\u001b[1;33m\u001b[0m\u001b[1;33m\u001b[0m\u001b[0m\n\u001b[0m\u001b[0;32m     11\u001b[0m \u001b[1;33m\u001b[0m\u001b[0m\n\u001b[0;32m     12\u001b[0m \u001b[1;31m#KeyError indicates that 'key' is not found\u001b[0m\u001b[1;33m\u001b[0m\u001b[1;33m\u001b[0m\u001b[0m\n",
      "\u001b[1;31mKeyError\u001b[0m: 'foo'"
     ]
    }
   ],
   "source": [
    "\"\"\"\n",
    "Ans--\n",
    "Accessing spam['foo'] when spam is {'bar':100} will raise a 'KeyError',\n",
    "because 'foo' doesn't exist in spam dictionary. \n",
    "\"\"\"\n",
    "#shown below\n",
    "\n",
    "spam={'bar':100}\n",
    "#trying to access a non-existing key 'foo'\n",
    "value=spam['foo']\n",
    "\n",
    "#KeyError indicates that 'key' is not found"
   ]
  },
  {
   "cell_type": "markdown",
   "id": "c4893bf0",
   "metadata": {},
   "source": [
    "####  5. If a dictionary is stored in spam, what is the difference between the expressions 'cat' in spam and 'cat' in spam.keys()?"
   ]
  },
  {
   "cell_type": "code",
   "execution_count": null,
   "id": "9ceeaf22",
   "metadata": {},
   "outputs": [],
   "source": [
    "\"\"\"\n",
    "Ans--\n",
    "This is the main difference between the expressions 'cat' in spam and 'cat' in spam.keys().\n",
    "\n",
    "1.'cat' in spam:\n",
    "This expression checks if the key 'cat' exists directly in the dictionary spam.\n",
    "It returns a boolean value of 'True' if the key is present, and 'False' otherwise.\n",
    "This expression directly checks the keys of the dictionary.\n",
    "\n",
    "2.'cat' in spam.keys():\n",
    "This expression checks if the key 'cat' exists in the list of keys obtained from the keys() method of the dictionary spam.\n",
    "The keys() method returns a view object that represents the dictionary's keys.It allows to iterate over the keys.\n",
    "This expression also returns a boolean value of 'True' if the key is present in the dictionary's keys and 'False' otherwise.\n",
    "\n",
    "Conclusion-\n",
    "Both the terms will usually return same thing, but execution wise its different,\n",
    "first one('cat' in spam) checks directly through keys ,\n",
    "while ,second one('cat' in spam.keys()) gets all keys first then checks if it is present in the collection or not.\n",
    "\"\"\""
   ]
  },
  {
   "cell_type": "markdown",
   "id": "4a32d102",
   "metadata": {},
   "source": [
    "#### 6. If a dictionary is stored in spam, what is the difference between the expressions 'cat' in spam and 'cat' in spam.values()?"
   ]
  },
  {
   "cell_type": "code",
   "execution_count": 10,
   "id": "ecd8e4b7",
   "metadata": {},
   "outputs": [
    {
     "name": "stdout",
     "output_type": "stream",
     "text": [
      "\n"
     ]
    }
   ],
   "source": [
    "\"\"\"\n",
    "Ans--\n",
    "1.'cat' in spam:\n",
    "This expression checks if the value 'cat' exists directly as a key in the dictionary spam.\n",
    "It returns a boolean value of True if the value is present, and False otherwise.\n",
    "This expression directly checks the values of the dictionary.\n",
    "\n",
    "2.'cat' in spam.values():\n",
    "This expression checks if the value 'cat' exists in the list of values obtained from the values() method of the dictionary spam. \n",
    "The values() method returns a view object that represents the dictionary's values.\n",
    "It allows to iterate over the values.\n",
    "\n",
    "This expression also returns a boolean value of True if the value is present in the dictionary's values and False otherwise.\n",
    "\n",
    "\n",
    "Thus ,the difference between the two expressions lies in what they are checking:\n",
    "'cat' in spam checks for the presence of 'cat' as a key in the dictionary, \n",
    "while 'cat' in spam.values() checks for the presence of 'cat' as a value in the dictionary.\n",
    "\"\"\""
   ]
  },
  {
   "cell_type": "markdown",
   "id": "741b61d0",
   "metadata": {},
   "source": [
    "#### 7. What is a shortcut for the following code?\n",
    "#### if 'color' not in spam: \n",
    "####      spam['color'] = 'black';"
   ]
  },
  {
   "cell_type": "code",
   "execution_count": 13,
   "id": "f7b8cd5e",
   "metadata": {},
   "outputs": [
    {
     "name": "stdout",
     "output_type": "stream",
     "text": [
      "black\n"
     ]
    }
   ],
   "source": [
    "\"\"\"\n",
    "Ans--\n",
    "\n",
    "The shortcut for the given code can be achieved using the dict.setdefault() method.\n",
    "The setdefault() method allows to set a default value for a key in a dictionary if the key is not already present.\n",
    "\n",
    "The setdefault() method is a convenient way to handle the case where you want to assign \n",
    "a default value to a key if it doesn't exist in the dictionary, without needing if condition.\n",
    "Here's how we can use it as a shortcut:\n",
    "\"\"\"\n",
    "spam.setdefault('color','black')\n",
    "print(spam['color']) #thus 'color' key with 'balck' value is assigned to spam."
   ]
  },
  {
   "cell_type": "markdown",
   "id": "a5be1a36",
   "metadata": {},
   "source": [
    "#### 8. How do you &quot;pretty print&quot; dictionary values using which module and function?"
   ]
  },
  {
   "cell_type": "code",
   "execution_count": 17,
   "id": "ff7a7774",
   "metadata": {},
   "outputs": [
    {
     "name": "stdout",
     "output_type": "stream",
     "text": [
      "{'age': 22, 'city': 'Kashi', 'name': 'Saurabh'}\n"
     ]
    }
   ],
   "source": [
    "\"\"\"\n",
    "Ans---\n",
    "\n",
    "To \"pretty print\" dictionary values in Python, we can use the 'pprint' module and its 'pprint()' function. \n",
    "The pprint module provides a way to format and display complex data structures, \n",
    "including dictionaries, in a more readable and visually appealing manner. Here's an example of how to use it:\n",
    "\n",
    "example:\n",
    "\"\"\"\n",
    "import pprint\n",
    "\n",
    "my_dict = {'name': 'Saurabh', 'age': 22, 'city': 'Kashi'}\n",
    "\n",
    "pprint.pprint(my_dict)\n",
    "\n",
    "#code explanation-------\n",
    "#In this code, we import the pprint module and create a dictionary called my_dict.\n",
    "#By calling pprint.pprint(my_dict), we pretty print the dictionary my_dict,\n",
    "#which displays the key-value pairs in a well-formatted and indented manner.\n",
    "#The pprint() function is particularly useful when dealing with large or nested dictionaries."
   ]
  },
  {
   "cell_type": "code",
   "execution_count": null,
   "id": "e42c214f",
   "metadata": {},
   "outputs": [],
   "source": []
  }
 ],
 "metadata": {
  "kernelspec": {
   "display_name": "Python 3 (ipykernel)",
   "language": "python",
   "name": "python3"
  },
  "language_info": {
   "codemirror_mode": {
    "name": "ipython",
    "version": 3
   },
   "file_extension": ".py",
   "mimetype": "text/x-python",
   "name": "python",
   "nbconvert_exporter": "python",
   "pygments_lexer": "ipython3",
   "version": "3.9.13"
  }
 },
 "nbformat": 4,
 "nbformat_minor": 5
}
